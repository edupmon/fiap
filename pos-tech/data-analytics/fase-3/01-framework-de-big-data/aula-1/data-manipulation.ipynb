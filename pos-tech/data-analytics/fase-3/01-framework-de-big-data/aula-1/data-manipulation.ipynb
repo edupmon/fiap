{
 "cells": [
  {
   "cell_type": "code",
   "execution_count": 1,
   "id": "061ba954-d825-4a1a-9393-10774b245f5f",
   "metadata": {},
   "outputs": [],
   "source": [
    "import findspark\n",
    "from pyspark.sql import SparkSession, Row, DataFrame, functions as F\n",
    "from pyspark.sql.types import StringType, StructType, StructField, IntegerType\n",
    "from pyspark.sql.functions import col, expr, lit, substring, concat,\\\n",
    "                                  concat_ws, when, coalesce\n",
    "from functools import reduce"
   ]
  },
  {
   "cell_type": "code",
   "execution_count": 2,
   "id": "073f4c4f-2989-440a-8b78-ed3ed239227f",
   "metadata": {},
   "outputs": [],
   "source": [
    "findspark.init()"
   ]
  },
  {
   "cell_type": "code",
   "execution_count": 3,
   "id": "b7fb17fa-1b5c-49ae-b080-13b2f8970c5d",
   "metadata": {},
   "outputs": [
    {
     "name": "stderr",
     "output_type": "stream",
     "text": [
      "24/07/27 10:08:06 WARN Utils: Your hostname, Eduardos-MacBook-Air.local resolves to a loopback address: 127.0.0.1; using 192.168.15.17 instead (on interface en0)\n",
      "24/07/27 10:08:06 WARN Utils: Set SPARK_LOCAL_IP if you need to bind to another address\n",
      "Setting default log level to \"WARN\".\n",
      "To adjust logging level use sc.setLogLevel(newLevel). For SparkR, use setLogLevel(newLevel).\n",
      "24/07/27 10:08:06 WARN NativeCodeLoader: Unable to load native-hadoop library for your platform... using builtin-java classes where applicable\n"
     ]
    }
   ],
   "source": [
    "spark = SparkSession.builder.master('local[*]').getOrCreate()"
   ]
  },
  {
   "cell_type": "code",
   "execution_count": 4,
   "id": "6fd95049-7d2a-440d-8b1e-b0a65b4ff67e",
   "metadata": {},
   "outputs": [],
   "source": [
    "df = spark.read.csv('dados/banklist.csv', sep=',', inferSchema=True,\n",
    "                    header=True, encoding='ISO-8859-1')"
   ]
  },
  {
   "cell_type": "code",
   "execution_count": 5,
   "id": "eaa31c75-ced4-4748-b510-35fc77f020f4",
   "metadata": {},
   "outputs": [
    {
     "data": {
      "text/plain": [
       "568"
      ]
     },
     "execution_count": 5,
     "metadata": {},
     "output_type": "execute_result"
    }
   ],
   "source": [
    "df.count()"
   ]
  },
  {
   "cell_type": "code",
   "execution_count": 6,
   "id": "6a2aef33-90c3-4ca9-b75d-35e1afb240a0",
   "metadata": {},
   "outputs": [
    {
     "data": {
      "text/plain": [
       "7"
      ]
     },
     "execution_count": 6,
     "metadata": {},
     "output_type": "execute_result"
    }
   ],
   "source": [
    "len(df.columns)"
   ]
  },
  {
   "cell_type": "code",
   "execution_count": 7,
   "id": "8059b5e6-ee19-4e7d-a6cf-9f338b832bcb",
   "metadata": {},
   "outputs": [
    {
     "data": {
      "text/plain": [
       "['Bank Name',\n",
       " 'City',\n",
       " 'State',\n",
       " 'Cert',\n",
       " 'Acquiring Institution',\n",
       " 'Closing Date',\n",
       " 'Fund']"
      ]
     },
     "execution_count": 7,
     "metadata": {},
     "output_type": "execute_result"
    }
   ],
   "source": [
    "df.columns"
   ]
  },
  {
   "cell_type": "code",
   "execution_count": 8,
   "id": "efe7b561-f372-4b2e-a021-84d7d0a0c035",
   "metadata": {},
   "outputs": [],
   "source": [
    "df.createOrReplaceTempView('banklist')"
   ]
  },
  {
   "cell_type": "code",
   "execution_count": 9,
   "id": "c69cf32f-0d66-4b13-9cb6-99263f84b933",
   "metadata": {},
   "outputs": [
    {
     "name": "stdout",
     "output_type": "stream",
     "text": [
      "+------------------------+-------------+------------+\n",
      "|Bank Name               |City         |Closing Date|\n",
      "+------------------------+-------------+------------+\n",
      "|Citizens Bank           |Sac City     |3-Nov-23    |\n",
      "|Heartland Tri-State Bank|Elkhart      |28-Jul-23   |\n",
      "|First Republic Bank     |San Francisco|1-May-23    |\n",
      "|Signature Bank          |New York     |12-Mar-23   |\n",
      "+------------------------+-------------+------------+\n",
      "only showing top 4 rows\n",
      "\n"
     ]
    }
   ],
   "source": [
    "spark.sql('''\n",
    "    SELECT `Bank Name`, City, `Closing Date`\n",
    "    FROM banklist\n",
    "''').show(4, truncate=False)"
   ]
  },
  {
   "cell_type": "code",
   "execution_count": 10,
   "id": "d70625ba-fde6-4f90-9fbb-c3413cf24788",
   "metadata": {},
   "outputs": [
    {
     "name": "stderr",
     "output_type": "stream",
     "text": [
      "24/07/27 10:08:08 WARN SparkStringUtils: Truncated the string representation of a plan since it was too large. This behavior can be adjusted by setting 'spark.sql.debug.maxToStringFields'.\n"
     ]
    },
    {
     "name": "stdout",
     "output_type": "stream",
     "text": [
      "+-------+--------------------+-------+-----+------------------+---------------------+------------+------------------+\n",
      "|summary|           Bank Name|   City|State|              Cert|Acquiring Institution|Closing Date|              Fund|\n",
      "+-------+--------------------+-------+-----+------------------+---------------------+------------+------------------+\n",
      "|  count|                 568|    568|  568|               568|                  568|         568|               568|\n",
      "|   mean|                NULL|   NULL| NULL|31660.663732394365|                 NULL|        NULL|10041.323943661971|\n",
      "| stddev|                NULL|   NULL| NULL| 16478.38085982673|                 NULL|        NULL|1111.4143367151717|\n",
      "|    min|1st American Stat...|Acworth|   AL|                91|      1st United Bank|    1-Aug-08|              4645|\n",
      "|    max|               ebank|Wyoming|   WY|             59017|  Your Community Bank|    9-Sep-11|             10545|\n",
      "+-------+--------------------+-------+-----+------------------+---------------------+------------+------------------+\n",
      "\n"
     ]
    }
   ],
   "source": [
    "df.describe().show()"
   ]
  },
  {
   "cell_type": "code",
   "execution_count": 11,
   "id": "7dd4e1a4-e2ce-46df-92fa-0d174d56aabb",
   "metadata": {},
   "outputs": [
    {
     "name": "stdout",
     "output_type": "stream",
     "text": [
      "+-------+-------+-----+\n",
      "|summary|   City|State|\n",
      "+-------+-------+-----+\n",
      "|  count|    568|  568|\n",
      "|   mean|   NULL| NULL|\n",
      "| stddev|   NULL| NULL|\n",
      "|    min|Acworth|   AL|\n",
      "|    max|Wyoming|   WY|\n",
      "+-------+-------+-----+\n",
      "\n"
     ]
    }
   ],
   "source": [
    "df.describe('City', 'State').show()"
   ]
  },
  {
   "cell_type": "code",
   "execution_count": 12,
   "id": "29684a4d-8d85-4a11-9601-aa556b8416ea",
   "metadata": {},
   "outputs": [
    {
     "data": {
      "text/plain": [
       "[('Bank Name', 'string'),\n",
       " ('City', 'string'),\n",
       " ('State', 'string'),\n",
       " ('Cert', 'int'),\n",
       " ('Acquiring Institution', 'string'),\n",
       " ('Closing Date', 'string'),\n",
       " ('Fund', 'int')]"
      ]
     },
     "execution_count": 12,
     "metadata": {},
     "output_type": "execute_result"
    }
   ],
   "source": [
    "df.dtypes"
   ]
  },
  {
   "cell_type": "code",
   "execution_count": 13,
   "id": "6a1f9144-dbc0-4c9f-b3a9-27d1ed4b2d2f",
   "metadata": {},
   "outputs": [
    {
     "data": {
      "text/plain": [
       "StructType([StructField('Bank Name', StringType(), True), StructField('City', StringType(), True), StructField('State', StringType(), True), StructField('Cert', IntegerType(), True), StructField('Acquiring Institution', StringType(), True), StructField('Closing Date', StringType(), True), StructField('Fund', IntegerType(), True)])"
      ]
     },
     "execution_count": 13,
     "metadata": {},
     "output_type": "execute_result"
    }
   ],
   "source": [
    "df.schema"
   ]
  },
  {
   "cell_type": "code",
   "execution_count": 14,
   "id": "068bffe0-dc5c-4508-ac61-9b42ceb79306",
   "metadata": {},
   "outputs": [
    {
     "name": "stdout",
     "output_type": "stream",
     "text": [
      "root\n",
      " |-- Bank Name: string (nullable = true)\n",
      " |-- City: string (nullable = true)\n",
      " |-- State: string (nullable = true)\n",
      " |-- Cert: integer (nullable = true)\n",
      " |-- Acquiring Institution: string (nullable = true)\n",
      " |-- Closing Date: string (nullable = true)\n",
      " |-- Fund: integer (nullable = true)\n",
      "\n"
     ]
    }
   ],
   "source": [
    "df.printSchema()"
   ]
  },
  {
   "cell_type": "code",
   "execution_count": 15,
   "id": "11157e48-ee02-4ec7-9c23-43347cc91e1c",
   "metadata": {},
   "outputs": [
    {
     "data": {
      "text/plain": [
       "DataFrame[Bank Name: string, City: string, State: string, Cert: int, Acquiring Institution: string, Closing Date: string, Fund: int]"
      ]
     },
     "execution_count": 15,
     "metadata": {},
     "output_type": "execute_result"
    }
   ],
   "source": [
    "df.dropDuplicates()"
   ]
  },
  {
   "cell_type": "code",
   "execution_count": 16,
   "id": "d2f1a0cd-096e-4ed9-aa0b-854ad510bd1f",
   "metadata": {},
   "outputs": [
    {
     "name": "stdout",
     "output_type": "stream",
     "text": [
      "+--------------------+--------+\n",
      "|           Bank Name|    City|\n",
      "+--------------------+--------+\n",
      "|       Citizens Bank|Sac City|\n",
      "|Heartland Tri-Sta...| Elkhart|\n",
      "+--------------------+--------+\n",
      "only showing top 2 rows\n",
      "\n"
     ]
    }
   ],
   "source": [
    "df.select(*['Bank Name', 'City']).show(2)"
   ]
  },
  {
   "cell_type": "code",
   "execution_count": 17,
   "id": "648b0b3d-5db8-4051-9c68-f71708023bea",
   "metadata": {},
   "outputs": [
    {
     "name": "stdout",
     "output_type": "stream",
     "text": [
      "+-----+---------------------+--------------------+-------------+-----+------------+\n",
      "|State|Acquiring Institution|           Bank Name|         City| Cert|Closing Date|\n",
      "+-----+---------------------+--------------------+-------------+-----+------------+\n",
      "|   IA| Iowa Trust & Savi...|       Citizens Bank|     Sac City| 8758|    3-Nov-23|\n",
      "|   KS| Dream First Bank,...|Heartland Tri-Sta...|      Elkhart|25851|   28-Jul-23|\n",
      "|   CA| JPMorgan Chase Ba...| First Republic Bank|San Francisco|59017|    1-May-23|\n",
      "|   NY|  Flagstar Bank, N.A.|      Signature Bank|     New York|57053|   12-Mar-23|\n",
      "|   CA| FirstCitizens Ba...| Silicon Valley Bank|  Santa Clara|24735|   10-Mar-23|\n",
      "+-----+---------------------+--------------------+-------------+-----+------------+\n",
      "only showing top 5 rows\n",
      "\n"
     ]
    }
   ],
   "source": [
    "df.select(*(set(df.columns) - {'Fund'})).show(5)"
   ]
  },
  {
   "cell_type": "code",
   "execution_count": 18,
   "id": "97877159-7795-4306-af70-afa52c6c8480",
   "metadata": {},
   "outputs": [],
   "source": [
    "df2 = df.withColumnRenamed('Bank Name', 'bank_name')\\\n",
    "        .withColumnRenamed('Acquiring Institution', 'acquiring_institution')\\\n",
    "        .withColumnRenamed('Closing Date', 'closing_date')\\\n",
    "        .withColumnRenamed('City', 'city')\\\n",
    "        .withColumnRenamed('State', 'state')\\\n",
    "        .withColumnRenamed('Cert', 'cert')\\\n",
    "        .withColumnRenamed('Fund', 'fund')"
   ]
  },
  {
   "cell_type": "code",
   "execution_count": 19,
   "id": "0a2c422c-061c-4fe6-80c1-318ccf976b8c",
   "metadata": {},
   "outputs": [
    {
     "name": "stdout",
     "output_type": "stream",
     "text": [
      "root\n",
      " |-- bank_name: string (nullable = true)\n",
      " |-- city: string (nullable = true)\n",
      " |-- state: string (nullable = true)\n",
      " |-- cert: integer (nullable = true)\n",
      " |-- acquiring_institution: string (nullable = true)\n",
      " |-- closing_date: string (nullable = true)\n",
      " |-- fund: integer (nullable = true)\n",
      "\n"
     ]
    }
   ],
   "source": [
    "df2.printSchema()"
   ]
  },
  {
   "cell_type": "code",
   "execution_count": 20,
   "id": "bda13383-0e81-499f-b238-217e1bd90af9",
   "metadata": {},
   "outputs": [],
   "source": [
    "df2 = df.withColumn('city_state', concat(col('city'), lit(' - '), col('state')))"
   ]
  },
  {
   "cell_type": "code",
   "execution_count": 21,
   "id": "b09125e8-482d-47a2-afb8-7d4a3d8f3a65",
   "metadata": {},
   "outputs": [
    {
     "name": "stdout",
     "output_type": "stream",
     "text": [
      "+--------------------+--------+-----+-----+---------------------+------------+-----+-------------+\n",
      "|           Bank Name|    City|State| Cert|Acquiring Institution|Closing Date| Fund|   city_state|\n",
      "+--------------------+--------+-----+-----+---------------------+------------+-----+-------------+\n",
      "|       Citizens Bank|Sac City|   IA| 8758| Iowa Trust & Savi...|    3-Nov-23|10545|Sac City - IA|\n",
      "|Heartland Tri-Sta...| Elkhart|   KS|25851| Dream First Bank,...|   28-Jul-23|10544| Elkhart - KS|\n",
      "+--------------------+--------+-----+-----+---------------------+------------+-----+-------------+\n",
      "only showing top 2 rows\n",
      "\n"
     ]
    }
   ],
   "source": [
    "df2.show(2)"
   ]
  },
  {
   "cell_type": "code",
   "execution_count": 22,
   "id": "aee03bf8-bd86-4feb-bc5c-2db9afabe1ad",
   "metadata": {},
   "outputs": [],
   "source": [
    "df2 = df2.withColumn('country', lit('US'))"
   ]
  },
  {
   "cell_type": "code",
   "execution_count": 23,
   "id": "85f4d70b-2e37-4a61-8f00-509245449360",
   "metadata": {},
   "outputs": [
    {
     "name": "stdout",
     "output_type": "stream",
     "text": [
      "+--------------------+--------+-----+-----+---------------------+------------+-----+-------------+-------+\n",
      "|           Bank Name|    City|State| Cert|Acquiring Institution|Closing Date| Fund|   city_state|country|\n",
      "+--------------------+--------+-----+-----+---------------------+------------+-----+-------------+-------+\n",
      "|       Citizens Bank|Sac City|   IA| 8758| Iowa Trust & Savi...|    3-Nov-23|10545|Sac City - IA|     US|\n",
      "|Heartland Tri-Sta...| Elkhart|   KS|25851| Dream First Bank,...|   28-Jul-23|10544| Elkhart - KS|     US|\n",
      "+--------------------+--------+-----+-----+---------------------+------------+-----+-------------+-------+\n",
      "only showing top 2 rows\n",
      "\n"
     ]
    }
   ],
   "source": [
    "df2.show(2)"
   ]
  },
  {
   "cell_type": "code",
   "execution_count": 24,
   "id": "cea7cdaf-2931-4364-b03c-058d8d9df4c4",
   "metadata": {},
   "outputs": [],
   "source": [
    "df2 = df2.drop('cert')"
   ]
  },
  {
   "cell_type": "code",
   "execution_count": 25,
   "id": "a45a5718-3fb1-4fc6-be7d-42cb200eeb4f",
   "metadata": {},
   "outputs": [
    {
     "name": "stdout",
     "output_type": "stream",
     "text": [
      "+--------------------+--------+-----+---------------------+------------+-----+-------------+-------+\n",
      "|           Bank Name|    City|State|Acquiring Institution|Closing Date| Fund|   city_state|country|\n",
      "+--------------------+--------+-----+---------------------+------------+-----+-------------+-------+\n",
      "|       Citizens Bank|Sac City|   IA| Iowa Trust & Savi...|    3-Nov-23|10545|Sac City - IA|     US|\n",
      "|Heartland Tri-Sta...| Elkhart|   KS| Dream First Bank,...|   28-Jul-23|10544| Elkhart - KS|     US|\n",
      "+--------------------+--------+-----+---------------------+------------+-----+-------------+-------+\n",
      "only showing top 2 rows\n",
      "\n"
     ]
    }
   ],
   "source": [
    "df2.show(2)"
   ]
  },
  {
   "cell_type": "code",
   "execution_count": 26,
   "id": "a9372a0c-06a2-421f-a5dd-6d506e0cf291",
   "metadata": {},
   "outputs": [],
   "source": [
    "df2 = reduce(DataFrame.drop, ['city_state', 'country'], df2)"
   ]
  },
  {
   "cell_type": "code",
   "execution_count": 27,
   "id": "3ed80c1f-c987-4b0f-9c83-de54f8baf21a",
   "metadata": {},
   "outputs": [
    {
     "name": "stdout",
     "output_type": "stream",
     "text": [
      "+--------------------+--------+-----+---------------------+------------+-----+\n",
      "|           Bank Name|    City|State|Acquiring Institution|Closing Date| Fund|\n",
      "+--------------------+--------+-----+---------------------+------------+-----+\n",
      "|       Citizens Bank|Sac City|   IA| Iowa Trust & Savi...|    3-Nov-23|10545|\n",
      "|Heartland Tri-Sta...| Elkhart|   KS| Dream First Bank,...|   28-Jul-23|10544|\n",
      "+--------------------+--------+-----+---------------------+------------+-----+\n",
      "only showing top 2 rows\n",
      "\n"
     ]
    }
   ],
   "source": [
    "df2.show(2)"
   ]
  },
  {
   "cell_type": "code",
   "execution_count": 28,
   "id": "5ba4f2c5-3145-40fa-85db-459b42e1d2fd",
   "metadata": {},
   "outputs": [],
   "source": [
    "df3 = df.where(df['state'] == 'NE')"
   ]
  },
  {
   "cell_type": "code",
   "execution_count": 29,
   "id": "7eec5346-8945-4eef-b35a-c14e242aea44",
   "metadata": {},
   "outputs": [
    {
     "name": "stdout",
     "output_type": "stream",
     "text": [
      "+-------------------+-------+-----+-----+---------------------+------------+-----+\n",
      "|          Bank Name|   City|State| Cert|Acquiring Institution|Closing Date| Fund|\n",
      "+-------------------+-------+-----+-----+---------------------+------------+-----+\n",
      "| Ericson State Bank|Ericson|   NE|18265| Farmers and Merch...|   14-Feb-20|10535|\n",
      "|Mid City Bank, Inc.|  Omaha|   NE|19397|         Premier Bank|    4-Nov-11|10410|\n",
      "+-------------------+-------+-----+-----+---------------------+------------+-----+\n",
      "only showing top 2 rows\n",
      "\n"
     ]
    }
   ],
   "source": [
    "df3.show(2)"
   ]
  },
  {
   "cell_type": "code",
   "execution_count": 30,
   "id": "8f2bc7d9-e765-482f-a74e-02c1fa4555ac",
   "metadata": {},
   "outputs": [],
   "source": [
    "df4 = df.where(df['CERT'].between(1000, 2000))"
   ]
  },
  {
   "cell_type": "code",
   "execution_count": 31,
   "id": "f9760a3a-886f-4a6d-967d-5754c159509b",
   "metadata": {},
   "outputs": [
    {
     "name": "stdout",
     "output_type": "stream",
     "text": [
      "+-------------------+----------+-----+----+---------------------+------------+-----+\n",
      "|          Bank Name|      City|State|Cert|Acquiring Institution|Closing Date| Fund|\n",
      "+-------------------+----------+-----+----+---------------------+------------+-----+\n",
      "|Fayette County Bank|Saint Elmo|   IL|1802| United Fidelity B...|   26-May-17|10528|\n",
      "|     Heartland Bank|   Leawood|   KS|1361|         Metcalf Bank|   20-Jul-12|10452|\n",
      "+-------------------+----------+-----+----+---------------------+------------+-----+\n",
      "only showing top 2 rows\n",
      "\n"
     ]
    }
   ],
   "source": [
    "df4.show(2)"
   ]
  },
  {
   "cell_type": "code",
   "execution_count": 32,
   "id": "348b1cb9-8a30-4913-bdc7-8f646f4bd8fe",
   "metadata": {},
   "outputs": [],
   "source": [
    "df5 = df.where(df['state'].isin('NE', 'IL'))"
   ]
  },
  {
   "cell_type": "code",
   "execution_count": 33,
   "id": "ddaf4709-661d-45f9-badf-7b23f727031f",
   "metadata": {},
   "outputs": [
    {
     "name": "stdout",
     "output_type": "stream",
     "text": [
      "+--------------------+-------+-----+-----+---------------------+------------+-----+\n",
      "|           Bank Name|   City|State| Cert|Acquiring Institution|Closing Date| Fund|\n",
      "+--------------------+-------+-----+-----+---------------------+------------+-----+\n",
      "|  Ericson State Bank|Ericson|   NE|18265| Farmers and Merch...|   14-Feb-20|10535|\n",
      "|Washington Federa...|Chicago|   IL|30570|   Royal Savings Bank|   15-Dec-17|10530|\n",
      "+--------------------+-------+-----+-----+---------------------+------------+-----+\n",
      "only showing top 2 rows\n",
      "\n"
     ]
    }
   ],
   "source": [
    "df5.show(2)"
   ]
  },
  {
   "cell_type": "code",
   "execution_count": 34,
   "id": "00e2d53f-a3b5-4ab6-b519-2bbdcda7bce9",
   "metadata": {},
   "outputs": [
    {
     "name": "stdout",
     "output_type": "stream",
     "text": [
      "+------------------+-------+-----+-----+---------------------+------------+-----+\n",
      "|         Bank Name|   City|State| Cert|Acquiring Institution|Closing Date| Fund|\n",
      "+------------------+-------+-----+-----+---------------------+------------+-----+\n",
      "|Ericson State Bank|Ericson|   NE|18265| Farmers and Merch...|   14-Feb-20|10535|\n",
      "+------------------+-------+-----+-----+---------------------+------------+-----+\n",
      "\n"
     ]
    }
   ],
   "source": [
    "df6 = df.where((df['state'] == 'NE') & (df['city'] == 'Ericson'))\n",
    "df6.show()"
   ]
  }
 ],
 "metadata": {
  "kernelspec": {
   "display_name": "Python 3 (ipykernel)",
   "language": "python",
   "name": "python3"
  },
  "language_info": {
   "codemirror_mode": {
    "name": "ipython",
    "version": 3
   },
   "file_extension": ".py",
   "mimetype": "text/x-python",
   "name": "python",
   "nbconvert_exporter": "python",
   "pygments_lexer": "ipython3",
   "version": "3.9.6"
  }
 },
 "nbformat": 4,
 "nbformat_minor": 5
}

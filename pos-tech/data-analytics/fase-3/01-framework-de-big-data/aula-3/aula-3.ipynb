{
 "cells": [
  {
   "cell_type": "code",
   "execution_count": 1,
   "id": "6fd0273a-644d-4d23-b7f3-a0794a0488ff",
   "metadata": {},
   "outputs": [],
   "source": [
    "from pyspark.sql import SparkSession"
   ]
  },
  {
   "cell_type": "code",
   "execution_count": 2,
   "id": "e0aa4902-ee0b-4260-a5e1-d6f9e54ad13c",
   "metadata": {},
   "outputs": [
    {
     "name": "stderr",
     "output_type": "stream",
     "text": [
      "24/07/31 13:18:46 WARN Utils: Your hostname, Eduardos-MacBook-Pro.local resolves to a loopback address: 127.0.0.1; using 10.75.124.249 instead (on interface en0)\n",
      "24/07/31 13:18:46 WARN Utils: Set SPARK_LOCAL_IP if you need to bind to another address\n",
      "Setting default log level to \"WARN\".\n",
      "To adjust logging level use sc.setLogLevel(newLevel). For SparkR, use setLogLevel(newLevel).\n",
      "24/07/31 13:18:46 WARN NativeCodeLoader: Unable to load native-hadoop library for your platform... using builtin-java classes where applicable\n"
     ]
    }
   ],
   "source": [
    "spark = SparkSession.builder.master('local[*]').getOrCreate()"
   ]
  },
  {
   "cell_type": "code",
   "execution_count": 3,
   "id": "b6519449-aefa-40a3-a2c5-462768f9bd6c",
   "metadata": {},
   "outputs": [
    {
     "name": "stdout",
     "output_type": "stream",
     "text": [
      "+------+\n",
      "|status|\n",
      "+------+\n",
      "|    ok|\n",
      "+------+\n",
      "\n"
     ]
    }
   ],
   "source": [
    "spark.sql('SELECT \"ok\" AS status').show()"
   ]
  },
  {
   "cell_type": "code",
   "execution_count": 4,
   "id": "de00984d-dea1-488f-a308-b08caacf18a9",
   "metadata": {},
   "outputs": [],
   "source": [
    "df = spark.read.csv('dados/cereal.csv', inferSchema = True, header = True)"
   ]
  },
  {
   "cell_type": "code",
   "execution_count": 5,
   "id": "92232873-563f-4518-b9da-9beea21f4731",
   "metadata": {},
   "outputs": [
    {
     "name": "stdout",
     "output_type": "stream",
     "text": [
      "root\n",
      " |-- name: string (nullable = true)\n",
      " |-- mfr: string (nullable = true)\n",
      " |-- type: string (nullable = true)\n",
      " |-- calories: integer (nullable = true)\n",
      " |-- protein: integer (nullable = true)\n",
      " |-- fat: integer (nullable = true)\n",
      " |-- sodium: integer (nullable = true)\n",
      " |-- fiber: double (nullable = true)\n",
      " |-- carbo: double (nullable = true)\n",
      " |-- sugars: integer (nullable = true)\n",
      " |-- potass: integer (nullable = true)\n",
      " |-- vitamins: integer (nullable = true)\n",
      " |-- shelf: integer (nullable = true)\n",
      " |-- weight: double (nullable = true)\n",
      " |-- cups: double (nullable = true)\n",
      " |-- rating: double (nullable = true)\n",
      "\n"
     ]
    }
   ],
   "source": [
    "df.printSchema()"
   ]
  },
  {
   "cell_type": "code",
   "execution_count": 6,
   "id": "709c8290-58dd-4d50-acf5-8d9f74ddca98",
   "metadata": {},
   "outputs": [],
   "source": [
    "df.createOrReplaceTempView('cereal')"
   ]
  },
  {
   "cell_type": "code",
   "execution_count": 7,
   "id": "faea8e06-c342-4fc6-911b-eeef68b7d888",
   "metadata": {},
   "outputs": [
    {
     "name": "stdout",
     "output_type": "stream",
     "text": [
      "+--------------------+---+----+--------+-------+---+------+-----+-----+------+------+--------+-----+------+----+---------+\n",
      "|                name|mfr|type|calories|protein|fat|sodium|fiber|carbo|sugars|potass|vitamins|shelf|weight|cups|   rating|\n",
      "+--------------------+---+----+--------+-------+---+------+-----+-----+------+------+--------+-----+------+----+---------+\n",
      "|           100% Bran|  N|   C|      70|      4|  1|   130| 10.0|  5.0|     6|   280|      25|    3|   1.0|0.33|68.402973|\n",
      "|   100% Natural Bran|  Q|   C|     120|      3|  5|    15|  2.0|  8.0|     8|   135|       0|    3|   1.0| 1.0|33.983679|\n",
      "|            All-Bran|  K|   C|      70|      4|  1|   260|  9.0|  7.0|     5|   320|      25|    3|   1.0|0.33|59.425505|\n",
      "|All-Bran with Ext...|  K|   C|      50|      4|  0|   140| 14.0|  8.0|     0|   330|      25|    3|   1.0| 0.5|93.704912|\n",
      "|      Almond Delight|  R|   C|     110|      2|  2|   200|  1.0| 14.0|     8|    -1|      25|    3|   1.0|0.75|34.384843|\n",
      "+--------------------+---+----+--------+-------+---+------+-----+-----+------+------+--------+-----+------+----+---------+\n",
      "only showing top 5 rows\n",
      "\n"
     ]
    }
   ],
   "source": [
    "spark.sql('SELECT * FROM cereal').show(5)"
   ]
  },
  {
   "cell_type": "code",
   "execution_count": 8,
   "id": "afdba5f4-8137-4b3f-8651-1e3a1cd7a022",
   "metadata": {},
   "outputs": [
    {
     "name": "stdout",
     "output_type": "stream",
     "text": [
      "+--------------------+---+----+--------+-------+---+------+-----+-----+------+------+--------+-----+------+----+---------+\n",
      "|                name|mfr|type|calories|protein|fat|sodium|fiber|carbo|sugars|potass|vitamins|shelf|weight|cups|   rating|\n",
      "+--------------------+---+----+--------+-------+---+------+-----+-----+------+------+--------+-----+------+----+---------+\n",
      "|           100% Bran|  N|   C|      70|      4|  1|   130| 10.0|  5.0|     6|   280|      25|    3|   1.0|0.33|68.402973|\n",
      "|   100% Natural Bran|  Q|   C|     120|      3|  5|    15|  2.0|  8.0|     8|   135|       0|    3|   1.0| 1.0|33.983679|\n",
      "|            All-Bran|  K|   C|      70|      4|  1|   260|  9.0|  7.0|     5|   320|      25|    3|   1.0|0.33|59.425505|\n",
      "|All-Bran with Ext...|  K|   C|      50|      4|  0|   140| 14.0|  8.0|     0|   330|      25|    3|   1.0| 0.5|93.704912|\n",
      "|      Almond Delight|  R|   C|     110|      2|  2|   200|  1.0| 14.0|     8|    -1|      25|    3|   1.0|0.75|34.384843|\n",
      "+--------------------+---+----+--------+-------+---+------+-----+-----+------+------+--------+-----+------+----+---------+\n",
      "only showing top 5 rows\n",
      "\n"
     ]
    }
   ],
   "source": [
    "spark.sql('SELECT * FROM cereal WHERE type = \"C\"').show(5)"
   ]
  },
  {
   "cell_type": "code",
   "execution_count": 9,
   "id": "10bee2a1-cb9a-42e7-adb9-73322560326d",
   "metadata": {},
   "outputs": [
    {
     "name": "stdout",
     "output_type": "stream",
     "text": [
      "+--------------------+---+----+--------+-------+---+------+-----+-----+------+------+--------+-----+------+----+---------+\n",
      "|                name|mfr|type|calories|protein|fat|sodium|fiber|carbo|sugars|potass|vitamins|shelf|weight|cups|   rating|\n",
      "+--------------------+---+----+--------+-------+---+------+-----+-----+------+------+--------+-----+------+----+---------+\n",
      "|           100% Bran|  N|   C|      70|      4|  1|   130| 10.0|  5.0|     6|   280|      25|    3|   1.0|0.33|68.402973|\n",
      "|   100% Natural Bran|  Q|   C|     120|      3|  5|    15|  2.0|  8.0|     8|   135|       0|    3|   1.0| 1.0|33.983679|\n",
      "|            All-Bran|  K|   C|      70|      4|  1|   260|  9.0|  7.0|     5|   320|      25|    3|   1.0|0.33|59.425505|\n",
      "|All-Bran with Ext...|  K|   C|      50|      4|  0|   140| 14.0|  8.0|     0|   330|      25|    3|   1.0| 0.5|93.704912|\n",
      "|      Almond Delight|  R|   C|     110|      2|  2|   200|  1.0| 14.0|     8|    -1|      25|    3|   1.0|0.75|34.384843|\n",
      "+--------------------+---+----+--------+-------+---+------+-----+-----+------+------+--------+-----+------+----+---------+\n",
      "only showing top 5 rows\n",
      "\n"
     ]
    }
   ],
   "source": [
    "df.where(df['type'] == 'C').show(5)"
   ]
  },
  {
   "cell_type": "code",
   "execution_count": 10,
   "id": "5ce7def2-5029-4612-bc92-c5532473574d",
   "metadata": {},
   "outputs": [
    {
     "name": "stdout",
     "output_type": "stream",
     "text": [
      "+-----+\n",
      "|total|\n",
      "+-----+\n",
      "|   22|\n",
      "+-----+\n",
      "\n"
     ]
    }
   ],
   "source": [
    "spark.sql('SELECT COUNT(1) AS total FROM cereal WHERE mfr = \"G\"').show()"
   ]
  },
  {
   "cell_type": "code",
   "execution_count": 11,
   "id": "7f5fcaae-b0a6-4493-b9fd-f5caf93d0857",
   "metadata": {},
   "outputs": [
    {
     "name": "stdout",
     "output_type": "stream",
     "text": [
      "root\n",
      " |-- name: string (nullable = true)\n",
      " |-- mfr: string (nullable = true)\n",
      " |-- type: string (nullable = true)\n",
      " |-- calories: integer (nullable = true)\n",
      " |-- protein: integer (nullable = true)\n",
      " |-- fat: integer (nullable = true)\n",
      " |-- sodium: integer (nullable = true)\n",
      " |-- fiber: double (nullable = true)\n",
      " |-- carbo: double (nullable = true)\n",
      " |-- sugars: integer (nullable = true)\n",
      " |-- potass: integer (nullable = true)\n",
      " |-- vitamins: integer (nullable = true)\n",
      " |-- shelf: integer (nullable = true)\n",
      " |-- weight: double (nullable = true)\n",
      " |-- cups: double (nullable = true)\n",
      " |-- rating: double (nullable = true)\n",
      "\n"
     ]
    }
   ],
   "source": [
    "df.printSchema()"
   ]
  },
  {
   "cell_type": "code",
   "execution_count": 12,
   "id": "afe4ebad-c766-464a-8589-3f75f4e847b8",
   "metadata": {},
   "outputs": [
    {
     "name": "stdout",
     "output_type": "stream",
     "text": [
      "+--------------------+----+---+\n",
      "|                name|type|mfr|\n",
      "+--------------------+----+---+\n",
      "|           100% Bran|   C|  N|\n",
      "|   100% Natural Bran|   C|  Q|\n",
      "|            All-Bran|   C|  K|\n",
      "|All-Bran with Ext...|   C|  K|\n",
      "|      Almond Delight|   C|  R|\n",
      "+--------------------+----+---+\n",
      "only showing top 5 rows\n",
      "\n"
     ]
    }
   ],
   "source": [
    "spark.sql('SELECT name, type, mfr FROM cereal').show(5)"
   ]
  },
  {
   "cell_type": "code",
   "execution_count": 13,
   "id": "94b0f01e-a19a-4b58-95ab-fa3660fdd3f2",
   "metadata": {},
   "outputs": [
    {
     "name": "stdout",
     "output_type": "stream",
     "text": [
      "+----+---+\n",
      "|type|mfr|\n",
      "+----+---+\n",
      "|   C|  P|\n",
      "|   C|  Q|\n",
      "|   C|  N|\n",
      "|   H|  Q|\n",
      "|   C|  R|\n",
      "+----+---+\n",
      "only showing top 5 rows\n",
      "\n"
     ]
    }
   ],
   "source": [
    "spark.sql('SELECT DISTINCT type, mfr FROM cereal').show(5)"
   ]
  },
  {
   "cell_type": "code",
   "execution_count": 14,
   "id": "68d06881-bef9-4dad-a22a-eb31820b2338",
   "metadata": {},
   "outputs": [
    {
     "name": "stdout",
     "output_type": "stream",
     "text": [
      "+--------------------+---+----+--------+-------+---+------+-----+-----+------+------+--------+-----+------+----+---------+\n",
      "|                name|mfr|type|calories|protein|fat|sodium|fiber|carbo|sugars|potass|vitamins|shelf|weight|cups|   rating|\n",
      "+--------------------+---+----+--------+-------+---+------+-----+-----+------+------+--------+-----+------+----+---------+\n",
      "|            All-Bran|  K|   C|      70|      4|  1|   260|  9.0|  7.0|     5|   320|      25|    3|   1.0|0.33|59.425505|\n",
      "|All-Bran with Ext...|  K|   C|      50|      4|  0|   140| 14.0|  8.0|     0|   330|      25|    3|   1.0| 0.5|93.704912|\n",
      "|         Apple Jacks|  K|   C|     110|      2|  0|   125|  1.0| 11.0|    14|    30|      25|    2|   1.0| 1.0|33.174094|\n",
      "|         Corn Flakes|  K|   C|     100|      2|  0|   290|  1.0| 21.0|     2|    35|      25|    1|   1.0| 1.0|45.863324|\n",
      "|           Corn Pops|  K|   C|     110|      1|  0|    90|  1.0| 13.0|    12|    20|      25|    2|   1.0| 1.0|35.782791|\n",
      "+--------------------+---+----+--------+-------+---+------+-----+-----+------+------+--------+-----+------+----+---------+\n",
      "only showing top 5 rows\n",
      "\n"
     ]
    }
   ],
   "source": [
    "spark.sql('SELECT * FROM cereal WHERE mfr = \"K\"').show(5)"
   ]
  },
  {
   "cell_type": "code",
   "execution_count": 15,
   "id": "c9f018cd-b130-4068-9d63-3a97f38ec086",
   "metadata": {},
   "outputs": [
    {
     "name": "stdout",
     "output_type": "stream",
     "text": [
      "+--------------------+---+----+--------+-------+---+------+-----+-----+------+------+--------+-----+------+----+---------+\n",
      "|                name|mfr|type|calories|protein|fat|sodium|fiber|carbo|sugars|potass|vitamins|shelf|weight|cups|   rating|\n",
      "+--------------------+---+----+--------+-------+---+------+-----+-----+------+------+--------+-----+------+----+---------+\n",
      "|   100% Natural Bran|  Q|   C|     120|      3|  5|    15|  2.0|  8.0|     8|   135|       0|    3|   1.0| 1.0|33.983679|\n",
      "|      Almond Delight|  R|   C|     110|      2|  2|   200|  1.0| 14.0|     8|    -1|      25|    3|   1.0|0.75|34.384843|\n",
      "|Apple Cinnamon Ch...|  G|   C|     110|      2|  2|   180|  1.5| 10.5|    10|    70|      25|    1|   1.0|0.75|29.509541|\n",
      "|         Apple Jacks|  K|   C|     110|      2|  0|   125|  1.0| 11.0|    14|    30|      25|    2|   1.0| 1.0|33.174094|\n",
      "|             Basic 4|  G|   C|     130|      3|  2|   210|  2.0| 18.0|     8|   100|      25|    3|  1.33|0.75|37.038562|\n",
      "+--------------------+---+----+--------+-------+---+------+-----+-----+------+------+--------+-----+------+----+---------+\n",
      "only showing top 5 rows\n",
      "\n"
     ]
    }
   ],
   "source": [
    "spark.sql('SELECT * FROM cereal WHERE calories >= 100').show(5)"
   ]
  },
  {
   "cell_type": "code",
   "execution_count": 16,
   "id": "62b4ed38-4cac-4598-9a78-329abf79d137",
   "metadata": {},
   "outputs": [
    {
     "name": "stdout",
     "output_type": "stream",
     "text": [
      "+------------------+---+----+--------+-------+---+------+-----+-----+------+------+--------+-----+------+----+---------+\n",
      "|              name|mfr|type|calories|protein|fat|sodium|fiber|carbo|sugars|potass|vitamins|shelf|weight|cups|   rating|\n",
      "+------------------+---+----+--------+-------+---+------+-----+-----+------+------+--------+-----+------+----+---------+\n",
      "|       Apple Jacks|  K|   C|     110|      2|  0|   125|  1.0| 11.0|    14|    30|      25|    2|   1.0| 1.0|33.174094|\n",
      "|       Corn Flakes|  K|   C|     100|      2|  0|   290|  1.0| 21.0|     2|    35|      25|    1|   1.0| 1.0|45.863324|\n",
      "|         Corn Pops|  K|   C|     110|      1|  0|    90|  1.0| 13.0|    12|    20|      25|    2|   1.0| 1.0|35.782791|\n",
      "|Cracklin' Oat Bran|  K|   C|     110|      3|  3|   140|  4.0| 10.0|     7|   160|      25|    3|   1.0| 0.5|40.448772|\n",
      "|           Crispix|  K|   C|     110|      2|  0|   220|  1.0| 21.0|     3|    30|      25|    3|   1.0| 1.0|46.895644|\n",
      "+------------------+---+----+--------+-------+---+------+-----+-----+------+------+--------+-----+------+----+---------+\n",
      "only showing top 5 rows\n",
      "\n"
     ]
    }
   ],
   "source": [
    "spark.sql('SELECT * FROM cereal WHERE mfr = \"K\" AND calories >= 100').show(5)"
   ]
  },
  {
   "cell_type": "code",
   "execution_count": 17,
   "id": "ca8d5a46-6d4f-4037-b08c-90fc9550d7c9",
   "metadata": {},
   "outputs": [
    {
     "name": "stdout",
     "output_type": "stream",
     "text": [
      "+---+----+-----+--------------+\n",
      "|mfr|type|total|total_calories|\n",
      "+---+----+-----+--------------+\n",
      "|  A|   H|    1|           100|\n",
      "|  P|   C|    9|           980|\n",
      "|  K|   C|   23|          2500|\n",
      "|  G|   C|   22|          2450|\n",
      "|  Q|   C|    7|           660|\n",
      "+---+----+-----+--------------+\n",
      "only showing top 5 rows\n",
      "\n"
     ]
    }
   ],
   "source": [
    "spark.sql('''\n",
    "    SELECT mfr, type, COUNT(1) AS total , SUM(calories) AS total_calories\n",
    "    FROM cereal GROUP BY mfr, type\n",
    "''').show(5)"
   ]
  },
  {
   "cell_type": "code",
   "execution_count": 18,
   "id": "c1770554-e709-417a-8d03-3d4908228da3",
   "metadata": {},
   "outputs": [
    {
     "name": "stdout",
     "output_type": "stream",
     "text": [
      "+---+----+--------+\n",
      "|mfr|type|new_type|\n",
      "+---+----+--------+\n",
      "|  N|   H|     AGA|\n",
      "|  A|   H|     AGA|\n",
      "|  Q|   H|     AGA|\n",
      "|  N|   C|      CE|\n",
      "|  Q|   C|      CE|\n",
      "+---+----+--------+\n",
      "only showing top 5 rows\n",
      "\n"
     ]
    }
   ],
   "source": [
    "spark.sql('''\n",
    "    SELECT mfr, type,\n",
    "           CASE WHEN type = \"H\" THEN \"AGA\"\n",
    "                WHEN type = \"C\" THEN \"CE\"\n",
    "                ELSE type\n",
    "            END AS new_type\n",
    "    FROM cereal\n",
    "    ORDER BY type DESC\n",
    "''').show(5)"
   ]
  },
  {
   "cell_type": "code",
   "execution_count": 19,
   "id": "fd219da2-a78c-495d-9de3-6714779931b2",
   "metadata": {},
   "outputs": [
    {
     "name": "stdout",
     "output_type": "stream",
     "text": [
      "+---+----+--------------+------------+------------+------------------+--------------+-----+\n",
      "|mfr|type|total_calories|min_calories|max_calories|      avg_calories|distinct_names|names|\n",
      "+---+----+--------------+------------+------------+------------------+--------------+-----+\n",
      "|  A|   H|           100|         100|         100|             100.0|             1|    1|\n",
      "|  G|   C|          2450|         100|         140|111.36363636363636|            22|   22|\n",
      "|  K|   C|          2500|          50|         160|108.69565217391305|            23|   23|\n",
      "|  N|   C|           420|          70|          90|              84.0|             5|    5|\n",
      "|  N|   H|           100|         100|         100|             100.0|             1|    1|\n",
      "+---+----+--------------+------------+------------+------------------+--------------+-----+\n",
      "only showing top 5 rows\n",
      "\n"
     ]
    }
   ],
   "source": [
    "spark.sql('''\n",
    "    SELECT mfr, type\n",
    "           , SUM(calories) AS total_calories\n",
    "           , MIN(calories) AS min_calories\n",
    "           , MAX(calories) AS max_calories\n",
    "           , AVG(calories) AS avg_calories\n",
    "           , COUNT(DISTINCT name) AS distinct_names\n",
    "           , COUNT(name) AS names\n",
    "    FROM cereal\n",
    "    GROUP BY mfr, type\n",
    "    ORDER BY mfr, type\n",
    "''').show(5)"
   ]
  },
  {
   "cell_type": "code",
   "execution_count": 20,
   "id": "e975354d-a279-4ed5-97e7-50f6dcd66ed5",
   "metadata": {},
   "outputs": [
    {
     "name": "stdout",
     "output_type": "stream",
     "text": [
      "+---+----+--------------------+--------------+------------+------------+------------+-----------+---------+---------+---------+--------------+------------+------------+------------+--------------+-----+\n",
      "|mfr|type|            mfr_name|total_calories|min_calories|max_calories|avg_calories|total_carbo|min_carbo|max_carbo|avg_carbo|total_vitamins|min_vitamins|max_vitamins|avg_vitamins|distinct_names|names|\n",
      "+---+----+--------------------+--------------+------------+------------+------------+-----------+---------+---------+---------+--------------+------------+------------+------------+--------------+-----+\n",
      "|  A|   H|American Home Foo...|           100|         100|         100|       100.0|       16.0|     16.0|     16.0|    16.00|            25|          25|          25|          25|             1|    1|\n",
      "|  G|   C|       General Mills|          2450|         100|         140|      111.36|      324.0|     10.5|     21.0|    14.73|           775|          25|         100|          35|            22|   22|\n",
      "|  K|   C|            Kelloggs|          2500|          50|         160|       108.7|      348.0|      7.0|     22.0|    15.13|           800|          25|         100|          34|            23|   23|\n",
      "|  N|   C|             Nabisco|           420|          70|          90|        84.0|       75.0|      5.0|     20.0|    15.00|            50|           0|          25|          10|             5|    5|\n",
      "|  N|   H|             Nabisco|           100|         100|         100|       100.0|       21.0|     21.0|     21.0|    21.00|             0|           0|           0|           0|             1|    1|\n",
      "+---+----+--------------------+--------------+------------+------------+------------+-----------+---------+---------+---------+--------------+------------+------------+------------+--------------+-----+\n",
      "only showing top 5 rows\n",
      "\n"
     ]
    }
   ],
   "source": [
    "spark.sql('''\n",
    "    SELECT mfr, type\n",
    "\n",
    "           , CASE\n",
    "               WHEN mfr = \"A\" THEN \"American Home Food Products\"\n",
    "               WHEN mfr = \"G\" THEN \"General Mills\"\n",
    "               WHEN mfr = \"K\" THEN \"Kelloggs\"\n",
    "               WHEN mfr = \"N\" THEN \"Nabisco\"\n",
    "               WHEN mfr = \"P\" THEN \"Post\"\n",
    "               WHEN mfr = \"Q\" THEN \"Quaker Oats\"\n",
    "               WHEN mfr = \"R\" THEN \"Ralston Purina\"\n",
    "               ELSE \"Unknown\"\n",
    "             END as mfr_name\n",
    "\n",
    "           , SUM(calories) AS total_calories\n",
    "           , MIN(calories) AS min_calories\n",
    "           , MAX(calories) AS max_calories\n",
    "           , ROUND(AVG(calories), 2) AS avg_calories\n",
    "\n",
    "           , SUM(carbo) AS total_carbo\n",
    "           , MIN(carbo) AS min_carbo\n",
    "           , MAX(carbo) AS max_carbo\n",
    "           , CAST(AVG(carbo) AS DECIMAL(10, 2)) AS avg_carbo\n",
    "\n",
    "           , SUM(vitamins) AS total_vitamins\n",
    "           , MIN(vitamins) AS min_vitamins\n",
    "           , MAX(vitamins) AS max_vitamins\n",
    "           , CAST(AVG(vitamins) AS INT) AS avg_vitamins\n",
    "\n",
    "           , COUNT(DISTINCT name) AS distinct_names\n",
    "           , COUNT(name) AS names\n",
    "\n",
    "    FROM cereal\n",
    "    GROUP BY mfr, type\n",
    "    ORDER BY mfr, type\n",
    "''').show(5)"
   ]
  },
  {
   "cell_type": "code",
   "execution_count": 21,
   "id": "b736ee3c-1eaf-43d4-8e9e-22354a1851da",
   "metadata": {},
   "outputs": [],
   "source": [
    "sales_df = spark.read.csv('dados/sales_data_sample.csv', inferSchema = True, header = True)"
   ]
  },
  {
   "cell_type": "code",
   "execution_count": 22,
   "id": "976d9db5-a1bb-4501-b33c-4723627aa108",
   "metadata": {},
   "outputs": [
    {
     "name": "stdout",
     "output_type": "stream",
     "text": [
      "+-----------+---------------+---------+---------------+-------+---------------+-------+------+--------+-------+-----------+----+-----------+--------------------+----------------+--------------------+------------+-------------+-----+----------+-------+---------+---------------+----------------+--------+\n",
      "|ORDERNUMBER|QUANTITYORDERED|PRICEEACH|ORDERLINENUMBER|  SALES|      ORDERDATE| STATUS|QTR_ID|MONTH_ID|YEAR_ID|PRODUCTLINE|MSRP|PRODUCTCODE|        CUSTOMERNAME|           PHONE|        ADDRESSLINE1|ADDRESSLINE2|         CITY|STATE|POSTALCODE|COUNTRY|TERRITORY|CONTACTLASTNAME|CONTACTFIRSTNAME|DEALSIZE|\n",
      "+-----------+---------------+---------+---------------+-------+---------------+-------+------+--------+-------+-----------+----+-----------+--------------------+----------------+--------------------+------------+-------------+-----+----------+-------+---------+---------------+----------------+--------+\n",
      "|      10107|             30|     95.7|              2| 2871.0| 2/24/2003 0:00|Shipped|     1|       2|   2003|Motorcycles|  95|   S10_1678|   Land of Toys Inc.|      2125557818|897 Long Airport ...|        NULL|          NYC|   NY|     10022|    USA|       NA|             Yu|            Kwai|   Small|\n",
      "|      10121|             34|    81.35|              5| 2765.9|  5/7/2003 0:00|Shipped|     2|       5|   2003|Motorcycles|  95|   S10_1678|  Reims Collectables|      26.47.1555|  59 rue de l'Abbaye|        NULL|        Reims| NULL|     51100| France|     EMEA|        Henriot|            Paul|   Small|\n",
      "|      10134|             41|    94.74|              2|3884.34|  7/1/2003 0:00|Shipped|     3|       7|   2003|Motorcycles|  95|   S10_1678|     Lyon Souveniers|+33 1 46 62 7555|27 rue du Colonel...|        NULL|        Paris| NULL|     75508| France|     EMEA|       Da Cunha|          Daniel|  Medium|\n",
      "|      10145|             45|    83.26|              6| 3746.7| 8/25/2003 0:00|Shipped|     3|       8|   2003|Motorcycles|  95|   S10_1678|   Toys4GrownUps.com|      6265557265|  78934 Hillside Dr.|        NULL|     Pasadena|   CA|     90003|    USA|       NA|          Young|           Julie|  Medium|\n",
      "|      10159|             49|    100.0|             14|5205.27|10/10/2003 0:00|Shipped|     4|      10|   2003|Motorcycles|  95|   S10_1678|Corporate Gift Id...|      6505551386|     7734 Strong St.|        NULL|San Francisco|   CA|      NULL|    USA|       NA|          Brown|           Julie|  Medium|\n",
      "+-----------+---------------+---------+---------------+-------+---------------+-------+------+--------+-------+-----------+----+-----------+--------------------+----------------+--------------------+------------+-------------+-----+----------+-------+---------+---------------+----------------+--------+\n",
      "only showing top 5 rows\n",
      "\n"
     ]
    }
   ],
   "source": [
    "sales_df.show(5)"
   ]
  },
  {
   "cell_type": "code",
   "execution_count": 23,
   "id": "ff35f7a8-55c9-46fa-a4dc-1f23c5f62cbc",
   "metadata": {},
   "outputs": [
    {
     "name": "stdout",
     "output_type": "stream",
     "text": [
      "root\n",
      " |-- ORDERNUMBER: integer (nullable = true)\n",
      " |-- QUANTITYORDERED: integer (nullable = true)\n",
      " |-- PRICEEACH: double (nullable = true)\n",
      " |-- ORDERLINENUMBER: integer (nullable = true)\n",
      " |-- SALES: double (nullable = true)\n",
      " |-- ORDERDATE: string (nullable = true)\n",
      " |-- STATUS: string (nullable = true)\n",
      " |-- QTR_ID: integer (nullable = true)\n",
      " |-- MONTH_ID: integer (nullable = true)\n",
      " |-- YEAR_ID: integer (nullable = true)\n",
      " |-- PRODUCTLINE: string (nullable = true)\n",
      " |-- MSRP: integer (nullable = true)\n",
      " |-- PRODUCTCODE: string (nullable = true)\n",
      " |-- CUSTOMERNAME: string (nullable = true)\n",
      " |-- PHONE: string (nullable = true)\n",
      " |-- ADDRESSLINE1: string (nullable = true)\n",
      " |-- ADDRESSLINE2: string (nullable = true)\n",
      " |-- CITY: string (nullable = true)\n",
      " |-- STATE: string (nullable = true)\n",
      " |-- POSTALCODE: string (nullable = true)\n",
      " |-- COUNTRY: string (nullable = true)\n",
      " |-- TERRITORY: string (nullable = true)\n",
      " |-- CONTACTLASTNAME: string (nullable = true)\n",
      " |-- CONTACTFIRSTNAME: string (nullable = true)\n",
      " |-- DEALSIZE: string (nullable = true)\n",
      "\n"
     ]
    }
   ],
   "source": [
    "sales_df.printSchema()"
   ]
  },
  {
   "cell_type": "code",
   "execution_count": 24,
   "id": "dedcb40c-f0b1-4ed0-aff1-201e17f45278",
   "metadata": {},
   "outputs": [],
   "source": [
    "calendar = sales_df.select(['orderdate', 'qtr_id', 'month_id', 'year_id'])\\\n",
    "                   .distinct()"
   ]
  },
  {
   "cell_type": "code",
   "execution_count": 25,
   "id": "8dd8f5b3-002c-4488-8b69-51dc2af747f5",
   "metadata": {},
   "outputs": [
    {
     "name": "stdout",
     "output_type": "stream",
     "text": [
      "+---------------+------+--------+-------+\n",
      "|      orderdate|qtr_id|month_id|year_id|\n",
      "+---------------+------+--------+-------+\n",
      "|11/20/2003 0:00|     4|      11|   2003|\n",
      "|10/29/2004 0:00|     4|      10|   2004|\n",
      "|11/12/2003 0:00|     4|      11|   2003|\n",
      "|10/15/2004 0:00|     4|      10|   2004|\n",
      "|  6/4/2004 0:00|     2|       6|   2004|\n",
      "+---------------+------+--------+-------+\n",
      "only showing top 5 rows\n",
      "\n"
     ]
    }
   ],
   "source": [
    "calendar.show(5)"
   ]
  },
  {
   "cell_type": "code",
   "execution_count": 26,
   "id": "e5a1dcab-7b7f-460f-8c89-00c12c8ee728",
   "metadata": {},
   "outputs": [
    {
     "name": "stdout",
     "output_type": "stream",
     "text": [
      "root\n",
      " |-- orderdate: string (nullable = true)\n",
      " |-- qtr_id: integer (nullable = true)\n",
      " |-- month_id: integer (nullable = true)\n",
      " |-- year_id: integer (nullable = true)\n",
      "\n"
     ]
    }
   ],
   "source": [
    "calendar.printSchema()"
   ]
  },
  {
   "cell_type": "code",
   "execution_count": 27,
   "id": "82c5b2cd-1974-4cd0-a31a-7fa8a03d3bab",
   "metadata": {},
   "outputs": [],
   "source": [
    "calendar.createOrReplaceTempView('calendar')"
   ]
  },
  {
   "cell_type": "code",
   "execution_count": 28,
   "id": "6272574b-38db-43d1-9ad8-93da2d81d9d3",
   "metadata": {},
   "outputs": [],
   "source": [
    "sales = sales_df.select(['ordernumber', 'customername', 'sales', 'orderdate',\n",
    "                         'quantityordered', 'productcode', 'orderlinenumber',\n",
    "                         'priceeach'])\\\n",
    "                .distinct()"
   ]
  },
  {
   "cell_type": "code",
   "execution_count": 29,
   "id": "5a497510-9cbf-450e-a714-421b03b91207",
   "metadata": {},
   "outputs": [
    {
     "name": "stdout",
     "output_type": "stream",
     "text": [
      "+-----------+--------------------+-------+---------------+---------------+-----------+---------------+---------+\n",
      "|ordernumber|        customername|  sales|      orderdate|quantityordered|productcode|orderlinenumber|priceeach|\n",
      "+-----------+--------------------+-------+---------------+---------------+-----------+---------------+---------+\n",
      "|      10339|Tokyo Collectable...| 2756.8|11/23/2004 0:00|             40|   S10_2016|              4|    68.92|\n",
      "|      10253|UK Collectables, ...|4910.57|  6/1/2004 0:00|             41|   S12_4675|             10|    100.0|\n",
      "|      10342|Australian Collec...|3160.74|11/24/2004 0:00|             22|   S18_1984|              3|    100.0|\n",
      "|      10124|  Signal Gift Stores|4431.84| 5/21/2003 0:00|             42|   S18_2325|              3|    100.0|\n",
      "|      10386|Euro Shopping Cha...|3441.37|  3/1/2005 0:00|             37|   S18_3029|              5|    93.01|\n",
      "+-----------+--------------------+-------+---------------+---------------+-----------+---------------+---------+\n",
      "only showing top 5 rows\n",
      "\n"
     ]
    }
   ],
   "source": [
    "sales.show(5)"
   ]
  },
  {
   "cell_type": "code",
   "execution_count": 30,
   "id": "eb073afd-0585-4b68-81d8-f4c5485aff93",
   "metadata": {},
   "outputs": [
    {
     "name": "stdout",
     "output_type": "stream",
     "text": [
      "root\n",
      " |-- ordernumber: integer (nullable = true)\n",
      " |-- customername: string (nullable = true)\n",
      " |-- sales: double (nullable = true)\n",
      " |-- orderdate: string (nullable = true)\n",
      " |-- quantityordered: integer (nullable = true)\n",
      " |-- productcode: string (nullable = true)\n",
      " |-- orderlinenumber: integer (nullable = true)\n",
      " |-- priceeach: double (nullable = true)\n",
      "\n"
     ]
    }
   ],
   "source": [
    "sales.printSchema()"
   ]
  },
  {
   "cell_type": "code",
   "execution_count": 31,
   "id": "1fef8804-531c-4281-b013-396067993290",
   "metadata": {},
   "outputs": [],
   "source": [
    "sales.createOrReplaceTempView('sales')"
   ]
  },
  {
   "cell_type": "code",
   "execution_count": 32,
   "id": "4cea389f-a9e2-42f5-adfa-f010cfc6392a",
   "metadata": {},
   "outputs": [],
   "source": [
    "customers = sales_df.select(['customername', 'phone', 'addressline1',\n",
    "                             'addressline2', 'city', 'state', 'postalcode',\n",
    "                             'country', 'territory'])\\\n",
    "                    .distinct()"
   ]
  },
  {
   "cell_type": "code",
   "execution_count": 33,
   "id": "f9d67c88-a55b-4bf9-a7b8-6951ab8212da",
   "metadata": {},
   "outputs": [
    {
     "name": "stdout",
     "output_type": "stream",
     "text": [
      "+--------------------+---------------+--------------------+------------+---------+--------+----------+---------+---------+\n",
      "|        customername|          phone|        addressline1|addressline2|     city|   state|postalcode|  country|territory|\n",
      "+--------------------+---------------+--------------------+------------+---------+--------+----------+---------+---------+\n",
      "|Australian Collec...|   03 9520 4555|   636 St Kilda Road|     Level 3|Melbourne|Victoria|      3004|Australia|     APAC|\n",
      "|     Microscale Inc.|     2125551957|5290 North Pendal...|   Suite 200|      NYC|      NY|     10022|      USA|       NA|\n",
      "|Souveniers And Th...|+61 2 9495 8555|Monitor Money Bui...|     Level 6|Chatswood|     NSW|      2067|Australia|     APAC|\n",
      "|     Vitachrome Inc.|     2125551500|   2678 Kingston Rd.|   Suite 101|      NYC|      NY|     10022|      USA|       NA|\n",
      "|Classic Legends Inc.|     2125558493|    5905 Pompton St.|   Suite 750|      NYC|      NY|     10022|      USA|       NA|\n",
      "+--------------------+---------------+--------------------+------------+---------+--------+----------+---------+---------+\n",
      "only showing top 5 rows\n",
      "\n"
     ]
    }
   ],
   "source": [
    "customers.show(5)"
   ]
  },
  {
   "cell_type": "code",
   "execution_count": 34,
   "id": "b1eb634f-a997-4cb0-96cf-a45ab6e11628",
   "metadata": {},
   "outputs": [
    {
     "name": "stdout",
     "output_type": "stream",
     "text": [
      "root\n",
      " |-- customername: string (nullable = true)\n",
      " |-- phone: string (nullable = true)\n",
      " |-- addressline1: string (nullable = true)\n",
      " |-- addressline2: string (nullable = true)\n",
      " |-- city: string (nullable = true)\n",
      " |-- state: string (nullable = true)\n",
      " |-- postalcode: string (nullable = true)\n",
      " |-- country: string (nullable = true)\n",
      " |-- territory: string (nullable = true)\n",
      "\n"
     ]
    }
   ],
   "source": [
    "customers.printSchema()"
   ]
  },
  {
   "cell_type": "code",
   "execution_count": 35,
   "id": "f3e1d4b0-6a53-4a3e-861a-36169c489a22",
   "metadata": {},
   "outputs": [],
   "source": [
    "customers.createOrReplaceTempView('customers')"
   ]
  },
  {
   "cell_type": "code",
   "execution_count": 36,
   "id": "5c75832b-9901-4218-9387-11bcda79e895",
   "metadata": {},
   "outputs": [
    {
     "name": "stdout",
     "output_type": "stream",
     "text": [
      "+----------+-----------+\n",
      "|      city|order_count|\n",
      "+----------+-----------+\n",
      "|    Madrid|         31|\n",
      "|San Rafael|         17|\n",
      "|       NYC|         16|\n",
      "| Singapore|          9|\n",
      "|     Paris|          9|\n",
      "+----------+-----------+\n",
      "only showing top 5 rows\n",
      "\n"
     ]
    }
   ],
   "source": [
    "spark.sql('''\n",
    "    SELECT c.city, COUNT(DISTINCT ordernumber) AS order_count\n",
    "    FROM sales s\n",
    "    JOIN customers c ON s.customername = c.customername\n",
    "    GROUP BY c.city\n",
    "    ORDER BY 2 DESC\n",
    "''').show(5)"
   ]
  }
 ],
 "metadata": {
  "kernelspec": {
   "display_name": "Python 3 (ipykernel)",
   "language": "python",
   "name": "python3"
  },
  "language_info": {
   "codemirror_mode": {
    "name": "ipython",
    "version": 3
   },
   "file_extension": ".py",
   "mimetype": "text/x-python",
   "name": "python",
   "nbconvert_exporter": "python",
   "pygments_lexer": "ipython3",
   "version": "3.9.6"
  }
 },
 "nbformat": 4,
 "nbformat_minor": 5
}

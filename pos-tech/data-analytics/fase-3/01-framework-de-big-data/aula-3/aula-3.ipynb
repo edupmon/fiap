{
 "cells": [
  {
   "cell_type": "code",
   "execution_count": 1,
   "id": "6fd0273a-644d-4d23-b7f3-a0794a0488ff",
   "metadata": {},
   "outputs": [],
   "source": [
    "from pyspark.sql import SparkSession"
   ]
  },
  {
   "cell_type": "code",
   "execution_count": 2,
   "id": "e0aa4902-ee0b-4260-a5e1-d6f9e54ad13c",
   "metadata": {},
   "outputs": [
    {
     "name": "stderr",
     "output_type": "stream",
     "text": [
      "24/07/31 09:07:14 WARN Utils: Your hostname, Eduardos-MacBook-Pro.local resolves to a loopback address: 127.0.0.1; using 10.75.124.249 instead (on interface en0)\n",
      "24/07/31 09:07:14 WARN Utils: Set SPARK_LOCAL_IP if you need to bind to another address\n",
      "Setting default log level to \"WARN\".\n",
      "To adjust logging level use sc.setLogLevel(newLevel). For SparkR, use setLogLevel(newLevel).\n",
      "24/07/31 09:07:14 WARN NativeCodeLoader: Unable to load native-hadoop library for your platform... using builtin-java classes where applicable\n"
     ]
    }
   ],
   "source": [
    "spark = SparkSession.builder.master('local[*]').getOrCreate()"
   ]
  },
  {
   "cell_type": "code",
   "execution_count": 3,
   "id": "b6519449-aefa-40a3-a2c5-462768f9bd6c",
   "metadata": {},
   "outputs": [
    {
     "name": "stdout",
     "output_type": "stream",
     "text": [
      "+------+\n",
      "|status|\n",
      "+------+\n",
      "|    ok|\n",
      "+------+\n",
      "\n"
     ]
    }
   ],
   "source": [
    "spark.sql('SELECT \"ok\" AS status').show()"
   ]
  },
  {
   "cell_type": "code",
   "execution_count": 4,
   "id": "de00984d-dea1-488f-a308-b08caacf18a9",
   "metadata": {},
   "outputs": [],
   "source": [
    "df = spark.read.csv('dados/cereal.csv', inferSchema = True, header = True)"
   ]
  },
  {
   "cell_type": "code",
   "execution_count": 5,
   "id": "92232873-563f-4518-b9da-9beea21f4731",
   "metadata": {},
   "outputs": [
    {
     "name": "stdout",
     "output_type": "stream",
     "text": [
      "root\n",
      " |-- name: string (nullable = true)\n",
      " |-- mfr: string (nullable = true)\n",
      " |-- type: string (nullable = true)\n",
      " |-- calories: integer (nullable = true)\n",
      " |-- protein: integer (nullable = true)\n",
      " |-- fat: integer (nullable = true)\n",
      " |-- sodium: integer (nullable = true)\n",
      " |-- fiber: double (nullable = true)\n",
      " |-- carbo: double (nullable = true)\n",
      " |-- sugars: integer (nullable = true)\n",
      " |-- potass: integer (nullable = true)\n",
      " |-- vitamins: integer (nullable = true)\n",
      " |-- shelf: integer (nullable = true)\n",
      " |-- weight: double (nullable = true)\n",
      " |-- cups: double (nullable = true)\n",
      " |-- rating: double (nullable = true)\n",
      "\n"
     ]
    }
   ],
   "source": [
    "df.printSchema()"
   ]
  },
  {
   "cell_type": "code",
   "execution_count": 6,
   "id": "709c8290-58dd-4d50-acf5-8d9f74ddca98",
   "metadata": {},
   "outputs": [],
   "source": [
    "df.createOrReplaceTempView('cereal')"
   ]
  },
  {
   "cell_type": "code",
   "execution_count": 7,
   "id": "faea8e06-c342-4fc6-911b-eeef68b7d888",
   "metadata": {},
   "outputs": [
    {
     "name": "stdout",
     "output_type": "stream",
     "text": [
      "+--------------------+---+----+--------+-------+---+------+-----+-----+------+------+--------+-----+------+----+---------+\n",
      "|                name|mfr|type|calories|protein|fat|sodium|fiber|carbo|sugars|potass|vitamins|shelf|weight|cups|   rating|\n",
      "+--------------------+---+----+--------+-------+---+------+-----+-----+------+------+--------+-----+------+----+---------+\n",
      "|           100% Bran|  N|   C|      70|      4|  1|   130| 10.0|  5.0|     6|   280|      25|    3|   1.0|0.33|68.402973|\n",
      "|   100% Natural Bran|  Q|   C|     120|      3|  5|    15|  2.0|  8.0|     8|   135|       0|    3|   1.0| 1.0|33.983679|\n",
      "|            All-Bran|  K|   C|      70|      4|  1|   260|  9.0|  7.0|     5|   320|      25|    3|   1.0|0.33|59.425505|\n",
      "|All-Bran with Ext...|  K|   C|      50|      4|  0|   140| 14.0|  8.0|     0|   330|      25|    3|   1.0| 0.5|93.704912|\n",
      "|      Almond Delight|  R|   C|     110|      2|  2|   200|  1.0| 14.0|     8|    -1|      25|    3|   1.0|0.75|34.384843|\n",
      "+--------------------+---+----+--------+-------+---+------+-----+-----+------+------+--------+-----+------+----+---------+\n",
      "only showing top 5 rows\n",
      "\n"
     ]
    }
   ],
   "source": [
    "spark.sql('SELECT * FROM cereal').show(5)"
   ]
  },
  {
   "cell_type": "code",
   "execution_count": 8,
   "id": "afdba5f4-8137-4b3f-8651-1e3a1cd7a022",
   "metadata": {},
   "outputs": [
    {
     "name": "stdout",
     "output_type": "stream",
     "text": [
      "+--------------------+---+----+--------+-------+---+------+-----+-----+------+------+--------+-----+------+----+---------+\n",
      "|                name|mfr|type|calories|protein|fat|sodium|fiber|carbo|sugars|potass|vitamins|shelf|weight|cups|   rating|\n",
      "+--------------------+---+----+--------+-------+---+------+-----+-----+------+------+--------+-----+------+----+---------+\n",
      "|           100% Bran|  N|   C|      70|      4|  1|   130| 10.0|  5.0|     6|   280|      25|    3|   1.0|0.33|68.402973|\n",
      "|   100% Natural Bran|  Q|   C|     120|      3|  5|    15|  2.0|  8.0|     8|   135|       0|    3|   1.0| 1.0|33.983679|\n",
      "|            All-Bran|  K|   C|      70|      4|  1|   260|  9.0|  7.0|     5|   320|      25|    3|   1.0|0.33|59.425505|\n",
      "|All-Bran with Ext...|  K|   C|      50|      4|  0|   140| 14.0|  8.0|     0|   330|      25|    3|   1.0| 0.5|93.704912|\n",
      "|      Almond Delight|  R|   C|     110|      2|  2|   200|  1.0| 14.0|     8|    -1|      25|    3|   1.0|0.75|34.384843|\n",
      "+--------------------+---+----+--------+-------+---+------+-----+-----+------+------+--------+-----+------+----+---------+\n",
      "only showing top 5 rows\n",
      "\n"
     ]
    }
   ],
   "source": [
    "spark.sql('SELECT * FROM cereal WHERE type = \"C\"').show(5)"
   ]
  },
  {
   "cell_type": "code",
   "execution_count": 9,
   "id": "10bee2a1-cb9a-42e7-adb9-73322560326d",
   "metadata": {},
   "outputs": [
    {
     "name": "stdout",
     "output_type": "stream",
     "text": [
      "+--------------------+---+----+--------+-------+---+------+-----+-----+------+------+--------+-----+------+----+---------+\n",
      "|                name|mfr|type|calories|protein|fat|sodium|fiber|carbo|sugars|potass|vitamins|shelf|weight|cups|   rating|\n",
      "+--------------------+---+----+--------+-------+---+------+-----+-----+------+------+--------+-----+------+----+---------+\n",
      "|           100% Bran|  N|   C|      70|      4|  1|   130| 10.0|  5.0|     6|   280|      25|    3|   1.0|0.33|68.402973|\n",
      "|   100% Natural Bran|  Q|   C|     120|      3|  5|    15|  2.0|  8.0|     8|   135|       0|    3|   1.0| 1.0|33.983679|\n",
      "|            All-Bran|  K|   C|      70|      4|  1|   260|  9.0|  7.0|     5|   320|      25|    3|   1.0|0.33|59.425505|\n",
      "|All-Bran with Ext...|  K|   C|      50|      4|  0|   140| 14.0|  8.0|     0|   330|      25|    3|   1.0| 0.5|93.704912|\n",
      "|      Almond Delight|  R|   C|     110|      2|  2|   200|  1.0| 14.0|     8|    -1|      25|    3|   1.0|0.75|34.384843|\n",
      "+--------------------+---+----+--------+-------+---+------+-----+-----+------+------+--------+-----+------+----+---------+\n",
      "only showing top 5 rows\n",
      "\n"
     ]
    }
   ],
   "source": [
    "df.where(df['type'] == 'C').show(5)"
   ]
  },
  {
   "cell_type": "code",
   "execution_count": 10,
   "id": "5ce7def2-5029-4612-bc92-c5532473574d",
   "metadata": {},
   "outputs": [
    {
     "name": "stdout",
     "output_type": "stream",
     "text": [
      "+-----+\n",
      "|total|\n",
      "+-----+\n",
      "|   22|\n",
      "+-----+\n",
      "\n"
     ]
    }
   ],
   "source": [
    "spark.sql('SELECT COUNT(1) AS total FROM cereal WHERE mfr = \"G\"').show()"
   ]
  },
  {
   "cell_type": "code",
   "execution_count": 11,
   "id": "7f5fcaae-b0a6-4493-b9fd-f5caf93d0857",
   "metadata": {},
   "outputs": [
    {
     "name": "stdout",
     "output_type": "stream",
     "text": [
      "root\n",
      " |-- name: string (nullable = true)\n",
      " |-- mfr: string (nullable = true)\n",
      " |-- type: string (nullable = true)\n",
      " |-- calories: integer (nullable = true)\n",
      " |-- protein: integer (nullable = true)\n",
      " |-- fat: integer (nullable = true)\n",
      " |-- sodium: integer (nullable = true)\n",
      " |-- fiber: double (nullable = true)\n",
      " |-- carbo: double (nullable = true)\n",
      " |-- sugars: integer (nullable = true)\n",
      " |-- potass: integer (nullable = true)\n",
      " |-- vitamins: integer (nullable = true)\n",
      " |-- shelf: integer (nullable = true)\n",
      " |-- weight: double (nullable = true)\n",
      " |-- cups: double (nullable = true)\n",
      " |-- rating: double (nullable = true)\n",
      "\n"
     ]
    }
   ],
   "source": [
    "df.printSchema()"
   ]
  },
  {
   "cell_type": "code",
   "execution_count": 12,
   "id": "afe4ebad-c766-464a-8589-3f75f4e847b8",
   "metadata": {},
   "outputs": [
    {
     "name": "stdout",
     "output_type": "stream",
     "text": [
      "+--------------------+----+---+\n",
      "|                name|type|mfr|\n",
      "+--------------------+----+---+\n",
      "|           100% Bran|   C|  N|\n",
      "|   100% Natural Bran|   C|  Q|\n",
      "|            All-Bran|   C|  K|\n",
      "|All-Bran with Ext...|   C|  K|\n",
      "|      Almond Delight|   C|  R|\n",
      "+--------------------+----+---+\n",
      "only showing top 5 rows\n",
      "\n"
     ]
    }
   ],
   "source": [
    "spark.sql('SELECT name, type, mfr FROM cereal').show(5)"
   ]
  },
  {
   "cell_type": "code",
   "execution_count": 13,
   "id": "94b0f01e-a19a-4b58-95ab-fa3660fdd3f2",
   "metadata": {},
   "outputs": [
    {
     "name": "stdout",
     "output_type": "stream",
     "text": [
      "+----+---+\n",
      "|type|mfr|\n",
      "+----+---+\n",
      "|   C|  P|\n",
      "|   C|  Q|\n",
      "|   C|  N|\n",
      "|   H|  Q|\n",
      "|   C|  R|\n",
      "+----+---+\n",
      "only showing top 5 rows\n",
      "\n"
     ]
    }
   ],
   "source": [
    "spark.sql('SELECT DISTINCT type, mfr FROM cereal').show(5)"
   ]
  },
  {
   "cell_type": "code",
   "execution_count": 14,
   "id": "68d06881-bef9-4dad-a22a-eb31820b2338",
   "metadata": {},
   "outputs": [
    {
     "name": "stdout",
     "output_type": "stream",
     "text": [
      "+--------------------+---+----+--------+-------+---+------+-----+-----+------+------+--------+-----+------+----+---------+\n",
      "|                name|mfr|type|calories|protein|fat|sodium|fiber|carbo|sugars|potass|vitamins|shelf|weight|cups|   rating|\n",
      "+--------------------+---+----+--------+-------+---+------+-----+-----+------+------+--------+-----+------+----+---------+\n",
      "|            All-Bran|  K|   C|      70|      4|  1|   260|  9.0|  7.0|     5|   320|      25|    3|   1.0|0.33|59.425505|\n",
      "|All-Bran with Ext...|  K|   C|      50|      4|  0|   140| 14.0|  8.0|     0|   330|      25|    3|   1.0| 0.5|93.704912|\n",
      "|         Apple Jacks|  K|   C|     110|      2|  0|   125|  1.0| 11.0|    14|    30|      25|    2|   1.0| 1.0|33.174094|\n",
      "|         Corn Flakes|  K|   C|     100|      2|  0|   290|  1.0| 21.0|     2|    35|      25|    1|   1.0| 1.0|45.863324|\n",
      "|           Corn Pops|  K|   C|     110|      1|  0|    90|  1.0| 13.0|    12|    20|      25|    2|   1.0| 1.0|35.782791|\n",
      "+--------------------+---+----+--------+-------+---+------+-----+-----+------+------+--------+-----+------+----+---------+\n",
      "only showing top 5 rows\n",
      "\n"
     ]
    }
   ],
   "source": [
    "spark.sql('SELECT * FROM cereal WHERE mfr = \"K\"').show(5)"
   ]
  },
  {
   "cell_type": "code",
   "execution_count": 15,
   "id": "c9f018cd-b130-4068-9d63-3a97f38ec086",
   "metadata": {},
   "outputs": [
    {
     "name": "stdout",
     "output_type": "stream",
     "text": [
      "+--------------------+---+----+--------+-------+---+------+-----+-----+------+------+--------+-----+------+----+---------+\n",
      "|                name|mfr|type|calories|protein|fat|sodium|fiber|carbo|sugars|potass|vitamins|shelf|weight|cups|   rating|\n",
      "+--------------------+---+----+--------+-------+---+------+-----+-----+------+------+--------+-----+------+----+---------+\n",
      "|   100% Natural Bran|  Q|   C|     120|      3|  5|    15|  2.0|  8.0|     8|   135|       0|    3|   1.0| 1.0|33.983679|\n",
      "|      Almond Delight|  R|   C|     110|      2|  2|   200|  1.0| 14.0|     8|    -1|      25|    3|   1.0|0.75|34.384843|\n",
      "|Apple Cinnamon Ch...|  G|   C|     110|      2|  2|   180|  1.5| 10.5|    10|    70|      25|    1|   1.0|0.75|29.509541|\n",
      "|         Apple Jacks|  K|   C|     110|      2|  0|   125|  1.0| 11.0|    14|    30|      25|    2|   1.0| 1.0|33.174094|\n",
      "|             Basic 4|  G|   C|     130|      3|  2|   210|  2.0| 18.0|     8|   100|      25|    3|  1.33|0.75|37.038562|\n",
      "+--------------------+---+----+--------+-------+---+------+-----+-----+------+------+--------+-----+------+----+---------+\n",
      "only showing top 5 rows\n",
      "\n"
     ]
    }
   ],
   "source": [
    "spark.sql('SELECT * FROM cereal WHERE calories >= 100').show(5)"
   ]
  },
  {
   "cell_type": "code",
   "execution_count": 16,
   "id": "62b4ed38-4cac-4598-9a78-329abf79d137",
   "metadata": {},
   "outputs": [
    {
     "name": "stdout",
     "output_type": "stream",
     "text": [
      "+------------------+---+----+--------+-------+---+------+-----+-----+------+------+--------+-----+------+----+---------+\n",
      "|              name|mfr|type|calories|protein|fat|sodium|fiber|carbo|sugars|potass|vitamins|shelf|weight|cups|   rating|\n",
      "+------------------+---+----+--------+-------+---+------+-----+-----+------+------+--------+-----+------+----+---------+\n",
      "|       Apple Jacks|  K|   C|     110|      2|  0|   125|  1.0| 11.0|    14|    30|      25|    2|   1.0| 1.0|33.174094|\n",
      "|       Corn Flakes|  K|   C|     100|      2|  0|   290|  1.0| 21.0|     2|    35|      25|    1|   1.0| 1.0|45.863324|\n",
      "|         Corn Pops|  K|   C|     110|      1|  0|    90|  1.0| 13.0|    12|    20|      25|    2|   1.0| 1.0|35.782791|\n",
      "|Cracklin' Oat Bran|  K|   C|     110|      3|  3|   140|  4.0| 10.0|     7|   160|      25|    3|   1.0| 0.5|40.448772|\n",
      "|           Crispix|  K|   C|     110|      2|  0|   220|  1.0| 21.0|     3|    30|      25|    3|   1.0| 1.0|46.895644|\n",
      "+------------------+---+----+--------+-------+---+------+-----+-----+------+------+--------+-----+------+----+---------+\n",
      "only showing top 5 rows\n",
      "\n"
     ]
    }
   ],
   "source": [
    "spark.sql('SELECT * FROM cereal WHERE mfr = \"K\" AND calories >= 100').show(5)"
   ]
  },
  {
   "cell_type": "code",
   "execution_count": 17,
   "id": "ca8d5a46-6d4f-4037-b08c-90fc9550d7c9",
   "metadata": {},
   "outputs": [
    {
     "name": "stdout",
     "output_type": "stream",
     "text": [
      "+---+----+-----+--------------+\n",
      "|mfr|type|total|total_calories|\n",
      "+---+----+-----+--------------+\n",
      "|  A|   H|    1|           100|\n",
      "|  P|   C|    9|           980|\n",
      "|  K|   C|   23|          2500|\n",
      "|  G|   C|   22|          2450|\n",
      "|  Q|   C|    7|           660|\n",
      "+---+----+-----+--------------+\n",
      "only showing top 5 rows\n",
      "\n"
     ]
    }
   ],
   "source": [
    "spark.sql('''\n",
    "    SELECT mfr, type, COUNT(1) AS total , SUM(calories) AS total_calories\n",
    "    FROM cereal GROUP BY mfr, type\n",
    "''').show(5)"
   ]
  },
  {
   "cell_type": "code",
   "execution_count": 18,
   "id": "c1770554-e709-417a-8d03-3d4908228da3",
   "metadata": {},
   "outputs": [
    {
     "name": "stdout",
     "output_type": "stream",
     "text": [
      "+---+----+--------+\n",
      "|mfr|type|new_type|\n",
      "+---+----+--------+\n",
      "|  N|   H|     AGA|\n",
      "|  A|   H|     AGA|\n",
      "|  Q|   H|     AGA|\n",
      "|  N|   C|      CE|\n",
      "|  Q|   C|      CE|\n",
      "+---+----+--------+\n",
      "only showing top 5 rows\n",
      "\n"
     ]
    }
   ],
   "source": [
    "spark.sql('''\n",
    "    SELECT mfr, type,\n",
    "           CASE WHEN type = \"H\" THEN \"AGA\"\n",
    "                WHEN type = \"C\" THEN \"CE\"\n",
    "                ELSE type\n",
    "            END AS new_type\n",
    "    FROM cereal\n",
    "    ORDER BY type DESC\n",
    "''').show(5)"
   ]
  },
  {
   "cell_type": "code",
   "execution_count": 19,
   "id": "fd219da2-a78c-495d-9de3-6714779931b2",
   "metadata": {},
   "outputs": [
    {
     "name": "stdout",
     "output_type": "stream",
     "text": [
      "+---+----+--------------+------------+------------+------------------+--------------+-----+\n",
      "|mfr|type|total_calories|min_calories|max_calories|      avg_calories|distinct_names|names|\n",
      "+---+----+--------------+------------+------------+------------------+--------------+-----+\n",
      "|  A|   H|           100|         100|         100|             100.0|             1|    1|\n",
      "|  G|   C|          2450|         100|         140|111.36363636363636|            22|   22|\n",
      "|  K|   C|          2500|          50|         160|108.69565217391305|            23|   23|\n",
      "|  N|   C|           420|          70|          90|              84.0|             5|    5|\n",
      "|  N|   H|           100|         100|         100|             100.0|             1|    1|\n",
      "+---+----+--------------+------------+------------+------------------+--------------+-----+\n",
      "only showing top 5 rows\n",
      "\n"
     ]
    }
   ],
   "source": [
    "spark.sql('''\n",
    "    SELECT mfr, type\n",
    "           , SUM(calories) AS total_calories\n",
    "           , MIN(calories) AS min_calories\n",
    "           , MAX(calories) AS max_calories\n",
    "           , AVG(calories) AS avg_calories\n",
    "           , COUNT(DISTINCT name) AS distinct_names\n",
    "           , COUNT(name) AS names\n",
    "    FROM cereal\n",
    "    GROUP BY mfr, type\n",
    "    ORDER BY mfr, type\n",
    "''').show(5)"
   ]
  },
  {
   "cell_type": "code",
   "execution_count": 20,
   "id": "e975354d-a279-4ed5-97e7-50f6dcd66ed5",
   "metadata": {},
   "outputs": [
    {
     "name": "stdout",
     "output_type": "stream",
     "text": [
      "+---+----+--------------------+--------------+------------+------------+------------+-----------+---------+---------+---------+--------------+------------+------------+------------+--------------+-----+\n",
      "|mfr|type|            mfr_name|total_calories|min_calories|max_calories|avg_calories|total_carbo|min_carbo|max_carbo|avg_carbo|total_vitamins|min_vitamins|max_vitamins|avg_vitamins|distinct_names|names|\n",
      "+---+----+--------------------+--------------+------------+------------+------------+-----------+---------+---------+---------+--------------+------------+------------+------------+--------------+-----+\n",
      "|  A|   H|American Home Foo...|           100|         100|         100|       100.0|       16.0|     16.0|     16.0|    16.00|            25|          25|          25|          25|             1|    1|\n",
      "|  G|   C|       General Mills|          2450|         100|         140|      111.36|      324.0|     10.5|     21.0|    14.73|           775|          25|         100|          35|            22|   22|\n",
      "|  K|   C|            Kelloggs|          2500|          50|         160|       108.7|      348.0|      7.0|     22.0|    15.13|           800|          25|         100|          34|            23|   23|\n",
      "|  N|   C|             Nabisco|           420|          70|          90|        84.0|       75.0|      5.0|     20.0|    15.00|            50|           0|          25|          10|             5|    5|\n",
      "|  N|   H|             Nabisco|           100|         100|         100|       100.0|       21.0|     21.0|     21.0|    21.00|             0|           0|           0|           0|             1|    1|\n",
      "+---+----+--------------------+--------------+------------+------------+------------+-----------+---------+---------+---------+--------------+------------+------------+------------+--------------+-----+\n",
      "only showing top 5 rows\n",
      "\n"
     ]
    }
   ],
   "source": [
    "spark.sql('''\n",
    "    SELECT mfr, type\n",
    "\n",
    "           , CASE\n",
    "               WHEN mfr = \"A\" THEN \"American Home Food Products\"\n",
    "               WHEN mfr = \"G\" THEN \"General Mills\"\n",
    "               WHEN mfr = \"K\" THEN \"Kelloggs\"\n",
    "               WHEN mfr = \"N\" THEN \"Nabisco\"\n",
    "               WHEN mfr = \"P\" THEN \"Post\"\n",
    "               WHEN mfr = \"Q\" THEN \"Quaker Oats\"\n",
    "               WHEN mfr = \"R\" THEN \"Ralston Purina\"\n",
    "               ELSE \"Unknown\"\n",
    "             END as mfr_name\n",
    "\n",
    "           , SUM(calories) AS total_calories\n",
    "           , MIN(calories) AS min_calories\n",
    "           , MAX(calories) AS max_calories\n",
    "           , ROUND(AVG(calories), 2) AS avg_calories\n",
    "\n",
    "           , SUM(carbo) AS total_carbo\n",
    "           , MIN(carbo) AS min_carbo\n",
    "           , MAX(carbo) AS max_carbo\n",
    "           , CAST(AVG(carbo) AS DECIMAL(10, 2)) AS avg_carbo\n",
    "\n",
    "           , SUM(vitamins) AS total_vitamins\n",
    "           , MIN(vitamins) AS min_vitamins\n",
    "           , MAX(vitamins) AS max_vitamins\n",
    "           , CAST(AVG(vitamins) AS INT) AS avg_vitamins\n",
    "\n",
    "           , COUNT(DISTINCT name) AS distinct_names\n",
    "           , COUNT(name) AS names\n",
    "\n",
    "    FROM cereal\n",
    "    GROUP BY mfr, type\n",
    "    ORDER BY mfr, type\n",
    "''').show(5)"
   ]
  }
 ],
 "metadata": {
  "kernelspec": {
   "display_name": "Python 3 (ipykernel)",
   "language": "python",
   "name": "python3"
  },
  "language_info": {
   "codemirror_mode": {
    "name": "ipython",
    "version": 3
   },
   "file_extension": ".py",
   "mimetype": "text/x-python",
   "name": "python",
   "nbconvert_exporter": "python",
   "pygments_lexer": "ipython3",
   "version": "3.9.6"
  }
 },
 "nbformat": 4,
 "nbformat_minor": 5
}

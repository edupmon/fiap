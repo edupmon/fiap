{
 "cells": [
  {
   "cell_type": "code",
   "execution_count": 1,
   "id": "1ace2227-fd64-479a-829a-ade7980e4dcc",
   "metadata": {},
   "outputs": [],
   "source": [
    "from pyspark import SparkContext\n",
    "from pyspark.sql import SparkSession\n",
    "from operator import add"
   ]
  },
  {
   "cell_type": "code",
   "execution_count": 2,
   "id": "5e0d21f2-0da3-4ea5-8a4e-d9905c8e454e",
   "metadata": {},
   "outputs": [
    {
     "name": "stderr",
     "output_type": "stream",
     "text": [
      "24/08/01 07:39:09 WARN Utils: Your hostname, Eduardos-MacBook-Air.local resolves to a loopback address: 127.0.0.1; using 192.168.15.33 instead (on interface en0)\n",
      "24/08/01 07:39:09 WARN Utils: Set SPARK_LOCAL_IP if you need to bind to another address\n",
      "Setting default log level to \"WARN\".\n",
      "To adjust logging level use sc.setLogLevel(newLevel). For SparkR, use setLogLevel(newLevel).\n",
      "24/08/01 07:39:10 WARN NativeCodeLoader: Unable to load native-hadoop library for your platform... using builtin-java classes where applicable\n"
     ]
    }
   ],
   "source": [
    "sc = SparkContext.getOrCreate()"
   ]
  },
  {
   "cell_type": "code",
   "execution_count": 3,
   "id": "163106b5-d19d-46d5-8574-a9c67f97fbd3",
   "metadata": {},
   "outputs": [],
   "source": [
    "spark = SparkSession.builder.getOrCreate()"
   ]
  },
  {
   "cell_type": "code",
   "execution_count": 4,
   "id": "2f1499ef-ab9e-435e-931e-f1bb3d70d659",
   "metadata": {},
   "outputs": [],
   "source": [
    "data = [1, 2, 4, 8, 16]\n",
    "rdd = sc.parallelize(data)"
   ]
  },
  {
   "cell_type": "code",
   "execution_count": 5,
   "id": "7bed29b7-6750-4178-ad3a-464711c84a90",
   "metadata": {},
   "outputs": [
    {
     "data": {
      "text/plain": [
       "[1, 4, 16, 64, 256]"
      ]
     },
     "execution_count": 5,
     "metadata": {},
     "output_type": "execute_result"
    }
   ],
   "source": [
    "rdd_1 = rdd.map(lambda _: _**2)\n",
    "rdd_1.collect()"
   ]
  },
  {
   "cell_type": "code",
   "execution_count": 6,
   "id": "3ac19a7a-3cec-4f1d-8cf2-0988ed574e93",
   "metadata": {},
   "outputs": [
    {
     "data": {
      "text/plain": [
       "[2, 4, 8]"
      ]
     },
     "execution_count": 6,
     "metadata": {},
     "output_type": "execute_result"
    }
   ],
   "source": [
    "rdd_2 = rdd.filter(lambda _: _ > 1 and _ < 16)\n",
    "rdd_2.collect()"
   ]
  },
  {
   "cell_type": "code",
   "execution_count": 7,
   "id": "ad51a663-d57c-4261-a0be-1f011ec3ea55",
   "metadata": {},
   "outputs": [
    {
     "data": {
      "text/plain": [
       "[1, 4, 16, 64, 256, 2, 4, 8]"
      ]
     },
     "execution_count": 7,
     "metadata": {},
     "output_type": "execute_result"
    }
   ],
   "source": [
    "rdd_1.union(rdd_2).collect()"
   ]
  },
  {
   "cell_type": "code",
   "execution_count": 8,
   "id": "5483d820-c3e1-44ab-8a44-e01c2e2460cc",
   "metadata": {},
   "outputs": [
    {
     "data": {
      "text/plain": [
       "[1, 2, 3]"
      ]
     },
     "execution_count": 8,
     "metadata": {},
     "output_type": "execute_result"
    }
   ],
   "source": [
    "sc.parallelize([1, 1, 1, 2, 2, 2, 3, 3, 3]).distinct().collect()"
   ]
  },
  {
   "cell_type": "code",
   "execution_count": 9,
   "id": "8790bc0b-cf5a-41d5-94de-5626240a4d99",
   "metadata": {},
   "outputs": [],
   "source": [
    "rdd_3 = sc.parallelize([('a', 1), ('a', 2), ('c', 2), ('b', 1), ('b', 1)])"
   ]
  },
  {
   "cell_type": "code",
   "execution_count": 10,
   "id": "f2723e65-255b-469e-ac0e-434df878aafe",
   "metadata": {},
   "outputs": [
    {
     "data": {
      "text/plain": [
       "defaultdict(int, {'a': 2, 'c': 1, 'b': 2})"
      ]
     },
     "execution_count": 10,
     "metadata": {},
     "output_type": "execute_result"
    }
   ],
   "source": [
    "rdd_3.countByKey()"
   ]
  },
  {
   "cell_type": "code",
   "execution_count": 11,
   "id": "e3503230-aac4-41fe-86d3-6ef25ea56d6e",
   "metadata": {},
   "outputs": [
    {
     "data": {
      "text/plain": [
       "[('a', [1, 2]), ('c', [2]), ('b', [1, 1])]"
      ]
     },
     "execution_count": 11,
     "metadata": {},
     "output_type": "execute_result"
    }
   ],
   "source": [
    "rdd_3.groupByKey().mapValues(list).collect()"
   ]
  },
  {
   "cell_type": "code",
   "execution_count": 12,
   "id": "bc6076d8-4d7d-4d6f-8a24-0e741648f04c",
   "metadata": {},
   "outputs": [
    {
     "data": {
      "text/plain": [
       "[('a', 3), ('c', 2), ('b', 2)]"
      ]
     },
     "execution_count": 12,
     "metadata": {},
     "output_type": "execute_result"
    }
   ],
   "source": [
    "rdd_3.reduceByKey(add).collect()"
   ]
  },
  {
   "cell_type": "code",
   "execution_count": 13,
   "id": "7976b438-d315-4566-955d-f10e885a2199",
   "metadata": {},
   "outputs": [
    {
     "data": {
      "text/plain": [
       "[('a', 1), ('a', 2), ('b', 1), ('b', 1), ('c', 2)]"
      ]
     },
     "execution_count": 13,
     "metadata": {},
     "output_type": "execute_result"
    }
   ],
   "source": [
    "rdd_3.sortByKey().collect()"
   ]
  },
  {
   "cell_type": "code",
   "execution_count": 14,
   "id": "da1252ac-9b21-4c23-96c4-623b757f8015",
   "metadata": {},
   "outputs": [
    {
     "data": {
      "text/plain": [
       "[('a', 3), ('b', 2), ('c', 2)]"
      ]
     },
     "execution_count": 14,
     "metadata": {},
     "output_type": "execute_result"
    }
   ],
   "source": [
    "rdd_3.reduceByKey(add).sortByKey().collect()"
   ]
  },
  {
   "cell_type": "code",
   "execution_count": 15,
   "id": "64af206a-cd68-4ba9-95ea-7a8da5e6d538",
   "metadata": {},
   "outputs": [],
   "source": [
    "rdd_4 = sc.parallelize(['Python', 'R', 'Scala', 'Java', 'Scala', 'R',\n",
    "                        'Python'])"
   ]
  },
  {
   "cell_type": "code",
   "execution_count": 16,
   "id": "b50ac622-800a-478d-8de3-66a5110e7d33",
   "metadata": {},
   "outputs": [
    {
     "data": {
      "text/plain": [
       "7"
      ]
     },
     "execution_count": 16,
     "metadata": {},
     "output_type": "execute_result"
    }
   ],
   "source": [
    "rdd_4.count()"
   ]
  },
  {
   "cell_type": "code",
   "execution_count": 17,
   "id": "166af873-ab55-429c-b92d-e9c7c40e7c24",
   "metadata": {},
   "outputs": [
    {
     "data": {
      "text/plain": [
       "defaultdict(int, {'Python': 2, 'R': 2, 'Scala': 2, 'Java': 1})"
      ]
     },
     "execution_count": 17,
     "metadata": {},
     "output_type": "execute_result"
    }
   ],
   "source": [
    "rdd_4.countByValue()"
   ]
  },
  {
   "cell_type": "code",
   "execution_count": 18,
   "id": "8c560dc9-0151-47a3-839f-35aef0c9ce4c",
   "metadata": {},
   "outputs": [
    {
     "data": {
      "text/plain": [
       "['Python', 'R']"
      ]
     },
     "execution_count": 18,
     "metadata": {},
     "output_type": "execute_result"
    }
   ],
   "source": [
    "rdd_4.take(2)"
   ]
  },
  {
   "cell_type": "code",
   "execution_count": 19,
   "id": "9f93977f-a3ea-4d63-901d-f2ca0b1f084c",
   "metadata": {},
   "outputs": [
    {
     "data": {
      "text/plain": [
       "['Scala', 'Scala']"
      ]
     },
     "execution_count": 19,
     "metadata": {},
     "output_type": "execute_result"
    }
   ],
   "source": [
    "rdd_4.top(2)"
   ]
  },
  {
   "cell_type": "code",
   "execution_count": 20,
   "id": "05928675-3895-4d26-b03a-2d1f2162ab44",
   "metadata": {},
   "outputs": [],
   "source": [
    "def test_function(x):\n",
    "    print('*' + x + '*')"
   ]
  },
  {
   "cell_type": "code",
   "execution_count": 21,
   "id": "819a64be-f8af-4b0a-a64b-13f301fc26ed",
   "metadata": {},
   "outputs": [
    {
     "name": "stderr",
     "output_type": "stream",
     "text": [
      "*R*\n",
      "*Scala*\n",
      "*Python*\n",
      "*R*\n",
      "*Java*\n",
      "*Python*\n",
      "*Scala*\n"
     ]
    }
   ],
   "source": [
    "rdd_4.foreach(test_function)"
   ]
  },
  {
   "cell_type": "code",
   "execution_count": 22,
   "id": "7bd166ff-b593-4232-92f1-ee1f03a7320f",
   "metadata": {},
   "outputs": [],
   "source": [
    "rdd_5 = sc.parallelize([1, 2, 3, 4, 5])"
   ]
  },
  {
   "cell_type": "code",
   "execution_count": 23,
   "id": "9ec156c9-ca87-4dff-8cfa-2c69e2fb6503",
   "metadata": {},
   "outputs": [
    {
     "data": {
      "text/plain": [
       "120"
      ]
     },
     "execution_count": 23,
     "metadata": {},
     "output_type": "execute_result"
    }
   ],
   "source": [
    "rdd_5.reduce(lambda x, y: x * y)"
   ]
  }
 ],
 "metadata": {
  "kernelspec": {
   "display_name": "Python 3 (ipykernel)",
   "language": "python",
   "name": "python3"
  },
  "language_info": {
   "codemirror_mode": {
    "name": "ipython",
    "version": 3
   },
   "file_extension": ".py",
   "mimetype": "text/x-python",
   "name": "python",
   "nbconvert_exporter": "python",
   "pygments_lexer": "ipython3",
   "version": "3.9.6"
  }
 },
 "nbformat": 4,
 "nbformat_minor": 5
}

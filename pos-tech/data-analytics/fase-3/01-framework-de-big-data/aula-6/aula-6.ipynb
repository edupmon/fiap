{
 "cells": [
  {
   "cell_type": "code",
   "execution_count": 1,
   "id": "4cf408bd-4b9d-46e3-8ee3-695bb3125d34",
   "metadata": {},
   "outputs": [],
   "source": [
    "from pyspark.sql import SparkSession, Row\n",
    "from pyspark.ml.recommendation import ALS\n",
    "from pyspark.ml.evaluation import RegressionEvaluator"
   ]
  },
  {
   "cell_type": "code",
   "execution_count": 2,
   "id": "9650742e-9722-44aa-970e-28a61b758797",
   "metadata": {},
   "outputs": [
    {
     "name": "stderr",
     "output_type": "stream",
     "text": [
      "24/08/02 13:44:17 WARN Utils: Your hostname, Eduardos-MacBook-Pro.local resolves to a loopback address: 127.0.0.1; using 10.75.124.249 instead (on interface en0)\n",
      "24/08/02 13:44:17 WARN Utils: Set SPARK_LOCAL_IP if you need to bind to another address\n",
      "Setting default log level to \"WARN\".\n",
      "To adjust logging level use sc.setLogLevel(newLevel). For SparkR, use setLogLevel(newLevel).\n",
      "24/08/02 13:44:18 WARN NativeCodeLoader: Unable to load native-hadoop library for your platform... using builtin-java classes where applicable\n"
     ]
    }
   ],
   "source": [
    "spark = SparkSession.builder.master('local[*]').getOrCreate()"
   ]
  },
  {
   "cell_type": "code",
   "execution_count": 3,
   "id": "c9fd80cb-3d69-4a43-aa5b-893a264c65aa",
   "metadata": {},
   "outputs": [],
   "source": [
    "lines = spark.read.text('dados/sample_movielens_ratings.txt').rdd"
   ]
  },
  {
   "cell_type": "code",
   "execution_count": 4,
   "id": "299ad09a-f9ec-4b23-875f-99059a564070",
   "metadata": {},
   "outputs": [],
   "source": [
    "parts = lines.map(lambda row: row.value.split('::'))"
   ]
  },
  {
   "cell_type": "code",
   "execution_count": 5,
   "id": "f0ad49c6-ea55-4ccb-a9bc-9a26e9e69c54",
   "metadata": {},
   "outputs": [],
   "source": [
    "ratings = spark.createDataFrame(parts.map(lambda p: Row(userId=int(p[0]),\n",
    "                                                        movieId=int(p[1]),\n",
    "                                                        rating=float(p[2]),\n",
    "                                                        ts=int(p[3]))))"
   ]
  },
  {
   "cell_type": "code",
   "execution_count": 6,
   "id": "adfa5793-749b-4e3d-b879-463f49160143",
   "metadata": {},
   "outputs": [
    {
     "name": "stdout",
     "output_type": "stream",
     "text": [
      "+------+-------+------+----------+\n",
      "|userId|movieId|rating|        ts|\n",
      "+------+-------+------+----------+\n",
      "|     0|      2|   3.0|1424380312|\n",
      "|     0|      3|   1.0|1424380312|\n",
      "|     0|      5|   2.0|1424380312|\n",
      "|     0|      9|   4.0|1424380312|\n",
      "|     0|     11|   1.0|1424380312|\n",
      "+------+-------+------+----------+\n",
      "only showing top 5 rows\n",
      "\n"
     ]
    }
   ],
   "source": [
    "ratings.show(5)"
   ]
  },
  {
   "cell_type": "code",
   "execution_count": 7,
   "id": "fa6c22b7-b58b-4d67-ab5e-78ed9353844f",
   "metadata": {},
   "outputs": [],
   "source": [
    "train, test = ratings.randomSplit([0.8, 0.2])"
   ]
  },
  {
   "cell_type": "code",
   "execution_count": 8,
   "id": "f2712ce8-fa73-44ca-bce9-c09fb079d4f6",
   "metadata": {},
   "outputs": [],
   "source": [
    "als = ALS(maxIter=5, regParam=0.01, userCol='userId', itemCol='movieId',\n",
    "          ratingCol='rating', coldStartStrategy='drop')"
   ]
  },
  {
   "cell_type": "code",
   "execution_count": 9,
   "id": "5aa1d7a0-9790-405b-a29d-fad655d6375e",
   "metadata": {},
   "outputs": [
    {
     "name": "stderr",
     "output_type": "stream",
     "text": [
      "24/08/02 13:44:21 WARN InstanceBuilder: Failed to load implementation from:dev.ludovic.netlib.blas.JNIBLAS\n",
      "24/08/02 13:44:21 WARN InstanceBuilder: Failed to load implementation from:dev.ludovic.netlib.blas.VectorBLAS\n",
      "24/08/02 13:44:21 WARN InstanceBuilder: Failed to load implementation from:dev.ludovic.netlib.lapack.JNILAPACK\n"
     ]
    }
   ],
   "source": [
    "model = als.fit(train)"
   ]
  },
  {
   "cell_type": "code",
   "execution_count": 10,
   "id": "e0fbaef7-60b7-4d8a-80bc-036193aaed88",
   "metadata": {},
   "outputs": [],
   "source": [
    "pred = model.transform(test)"
   ]
  },
  {
   "cell_type": "code",
   "execution_count": 11,
   "id": "e7d25e89-7c5d-40fb-9b7e-5dfd533bb3b1",
   "metadata": {},
   "outputs": [],
   "source": [
    "reg_eval = RegressionEvaluator(metricName='rmse', labelCol='rating',\n",
    "                               predictionCol='prediction')"
   ]
  },
  {
   "cell_type": "code",
   "execution_count": 13,
   "id": "e49d2ab4-8cdb-494c-b24f-4a733af54a75",
   "metadata": {},
   "outputs": [
    {
     "data": {
      "text/plain": [
       "1.628218401435827"
      ]
     },
     "execution_count": 13,
     "metadata": {},
     "output_type": "execute_result"
    }
   ],
   "source": [
    "rmse = reg_eval.evaluate(pred)\n",
    "rmse"
   ]
  },
  {
   "cell_type": "code",
   "execution_count": 17,
   "id": "82f9f5bc-5200-4514-83ad-467d76bd4ae3",
   "metadata": {},
   "outputs": [
    {
     "name": "stdout",
     "output_type": "stream",
     "text": [
      "+------+-------------------------------------------------------------------------------------+\n",
      "|userId|recommendations                                                                      |\n",
      "+------+-------------------------------------------------------------------------------------+\n",
      "|20    |[{62, 4.29599}, {77, 3.9916}, {75, 3.9131606}, {94, 3.8011534}, {88, 3.2866983}]     |\n",
      "|10    |[{92, 3.653714}, {40, 3.4714453}, {12, 3.3473773}, {47, 2.9954152}, {42, 2.9847329}] |\n",
      "|0     |[{92, 4.10992}, {93, 4.092936}, {74, 3.9752047}, {53, 3.960501}, {9, 3.547743}]      |\n",
      "|1     |[{68, 3.923828}, {62, 3.7473352}, {85, 3.2675493}, {17, 3.0492234}, {9, 2.9157958}]  |\n",
      "|21    |[{53, 5.0317965}, {29, 4.8867846}, {52, 4.8132186}, {70, 4.608746}, {25, 4.427818}]  |\n",
      "|11    |[{87, 5.486801}, {7, 5.4709706}, {18, 5.153531}, {23, 5.124407}, {32, 5.099137}]     |\n",
      "|12    |[{32, 6.2705617}, {33, 5.586066}, {71, 5.2896442}, {49, 5.2055054}, {27, 4.9191566}] |\n",
      "|22    |[{85, 5.8632426}, {22, 5.073741}, {59, 4.9658365}, {51, 4.936988}, {75, 4.933423}]   |\n",
      "|2     |[{93, 5.122943}, {8, 4.9959025}, {39, 4.948759}, {83, 4.8839927}, {37, 4.620672}]    |\n",
      "|13    |[{25, 4.6812024}, {93, 3.7274592}, {37, 3.0658824}, {53, 2.8899434}, {74, 2.7962668}]|\n",
      "|3     |[{51, 4.9166846}, {75, 4.4854584}, {80, 4.129349}, {88, 4.0197067}, {18, 3.8353746}] |\n",
      "|23    |[{46, 6.2039785}, {55, 5.1597166}, {17, 5.031125}, {27, 4.8541284}, {68, 4.8230214}] |\n",
      "|4     |[{29, 4.0319314}, {52, 3.7844021}, {53, 3.773488}, {25, 3.70638}, {70, 3.622132}]    |\n",
      "|24    |[{85, 5.883428}, {7, 5.3379765}, {96, 5.2612834}, {30, 4.984573}, {52, 4.878147}]    |\n",
      "|14    |[{29, 5.2161636}, {52, 5.2030745}, {63, 4.489308}, {62, 4.451544}, {70, 4.1278934}]  |\n",
      "|5     |[{55, 5.071121}, {49, 4.9272003}, {46, 4.567517}, {94, 4.1887255}, {90, 4.0902543}]  |\n",
      "|15    |[{46, 4.8582077}, {85, 4.3720956}, {1, 3.5979383}, {68, 3.3015697}, {64, 3.1603713}] |\n",
      "|25    |[{32, 3.9132686}, {33, 3.8253853}, {71, 3.8118875}, {47, 3.7374742}, {27, 3.2961981}]|\n",
      "|26    |[{30, 6.412323}, {94, 5.223201}, {27, 5.1514297}, {88, 5.0868597}, {7, 4.9316335}]   |\n",
      "|6     |[{25, 4.378397}, {29, 3.622628}, {70, 3.4799469}, {74, 3.4488358}, {52, 3.406809}]   |\n",
      "+------+-------------------------------------------------------------------------------------+\n",
      "only showing top 20 rows\n",
      "\n"
     ]
    }
   ],
   "source": [
    "model.recommendForAllUsers(5).show(truncate=False)"
   ]
  },
  {
   "cell_type": "code",
   "execution_count": 18,
   "id": "aa2a2ad3-3e0d-4044-b72d-9863986fcdc7",
   "metadata": {},
   "outputs": [
    {
     "name": "stdout",
     "output_type": "stream",
     "text": [
      "+-------+------------------------------------------------------------------------------------+\n",
      "|movieId|recommendations                                                                     |\n",
      "+-------+------------------------------------------------------------------------------------+\n",
      "|20     |[{17, 4.6680803}, {23, 3.589833}, {5, 3.4326787}, {1, 2.55934}, {29, 2.1259885}]    |\n",
      "|40     |[{28, 5.18599}, {2, 4.0384655}, {16, 3.494694}, {10, 3.4714453}, {0, 3.140332}]     |\n",
      "|10     |[{22, 4.776389}, {23, 4.046126}, {17, 3.8078053}, {15, 3.1494632}, {26, 2.622221}]  |\n",
      "|50     |[{11, 3.819575}, {23, 3.4947522}, {29, 3.447913}, {12, 3.0973465}, {26, 3.0148926}] |\n",
      "|80     |[{3, 4.129349}, {18, 3.069425}, {27, 3.0693264}, {22, 2.9856703}, {11, 2.4773421}]  |\n",
      "|70     |[{21, 4.608746}, {8, 4.247119}, {14, 4.1278934}, {4, 3.622132}, {6, 3.4799469}]     |\n",
      "|60     |[{7, 3.1803684}, {8, 3.1081936}, {22, 2.9689586}, {21, 2.8687534}, {3, 2.779909}]   |\n",
      "|90     |[{9, 6.1719522}, {24, 4.870863}, {16, 4.8502283}, {19, 4.2404985}, {5, 4.0902543}]  |\n",
      "|30     |[{26, 6.412323}, {24, 4.984573}, {11, 4.93501}, {23, 3.7179084}, {22, 3.5062294}]   |\n",
      "|0      |[{28, 2.8933215}, {2, 1.874453}, {10, 1.7503138}, {18, 1.3875989}, {1, 1.3604295}]  |\n",
      "|31     |[{28, 3.0539815}, {14, 2.8925712}, {20, 2.6536105}, {8, 2.5633504}, {1, 2.459628}]  |\n",
      "|81     |[{28, 4.806121}, {11, 4.069752}, {2, 3.8902535}, {18, 3.1705678}, {26, 2.8872445}]  |\n",
      "|91     |[{22, 4.5397644}, {12, 3.098498}, {17, 3.0445552}, {0, 2.9410648}, {25, 2.800036}]  |\n",
      "|1      |[{24, 4.015629}, {22, 3.8009832}, {15, 3.5979383}, {12, 3.2025633}, {25, 3.0329175}]|\n",
      "|41     |[{22, 3.033235}, {16, 2.6526465}, {28, 2.208855}, {25, 2.187952}, {0, 2.1189353}]   |\n",
      "|61     |[{28, 2.5973594}, {21, 2.3438842}, {13, 2.3094482}, {0, 2.279844}, {6, 2.0613527}]  |\n",
      "|51     |[{16, 5.0934744}, {22, 4.936988}, {3, 4.9166846}, {26, 3.3350701}, {27, 3.053827}]  |\n",
      "|21     |[{26, 2.9952588}, {1, 2.8176014}, {3, 2.5373702}, {20, 2.079422}, {5, 2.0394828}]   |\n",
      "|11     |[{5, 2.0722032}, {3, 1.9866272}, {7, 1.875474}, {18, 1.8686824}, {9, 1.6938454}]    |\n",
      "|71     |[{12, 5.2896442}, {25, 3.8118875}, {23, 3.246905}, {11, 3.0573182}, {2, 2.8705447}] |\n",
      "+-------+------------------------------------------------------------------------------------+\n",
      "only showing top 20 rows\n",
      "\n"
     ]
    }
   ],
   "source": [
    "model.recommendForAllItems(5).show(truncate=False)"
   ]
  }
 ],
 "metadata": {
  "kernelspec": {
   "display_name": "Python 3 (ipykernel)",
   "language": "python",
   "name": "python3"
  },
  "language_info": {
   "codemirror_mode": {
    "name": "ipython",
    "version": 3
   },
   "file_extension": ".py",
   "mimetype": "text/x-python",
   "name": "python",
   "nbconvert_exporter": "python",
   "pygments_lexer": "ipython3",
   "version": "3.9.6"
  }
 },
 "nbformat": 4,
 "nbformat_minor": 5
}

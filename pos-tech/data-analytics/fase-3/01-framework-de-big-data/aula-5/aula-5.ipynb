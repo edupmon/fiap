{
 "cells": [
  {
   "cell_type": "code",
   "execution_count": 1,
   "id": "28954532-bed8-432b-a534-42e0e83442f1",
   "metadata": {},
   "outputs": [],
   "source": [
    "import numpy as np\n",
    "from scipy import stats"
   ]
  },
  {
   "cell_type": "code",
   "execution_count": 2,
   "id": "0729443a-748a-46fc-a6ab-376c38e9c7bb",
   "metadata": {},
   "outputs": [],
   "source": [
    "usuarios = np.array([[8, 0, 3, 4, 6], [5, 6, 1, 8, 9], [8, 0, 0, 5, 10]])\n",
    "usuario_novo = [8, 0, 2, 3, 0]\n",
    "nao_assistidos = [0, 1, 0, 0, 1]\n",
    "catalogo = ['Round 6', 'Breaking Bad', 'You', 'La Casa de Papel', 'Narcos']"
   ]
  },
  {
   "cell_type": "code",
   "execution_count": 3,
   "id": "6e63c075-006d-45cc-98f3-c0a2daf2b313",
   "metadata": {},
   "outputs": [],
   "source": [
    "similaridade = 3 * [0]"
   ]
  },
  {
   "cell_type": "code",
   "execution_count": 4,
   "id": "7aaf41c7-bc9e-4e82-9432-c373f4f2e501",
   "metadata": {},
   "outputs": [],
   "source": [
    "for i in range(0, 3): # usuarios\n",
    "    tmp = usuarios[i, :]\n",
    "    tmp_usuario = [t for n, t in zip(usuario_novo, tmp) if n != 0]\n",
    "    tmp_usuario_novo = [n for n in usuario_novo if n != 0]\n",
    "    similaridade[i] = stats.pearsonr(tmp_usuario, tmp_usuario_novo)[0]"
   ]
  },
  {
   "cell_type": "code",
   "execution_count": 5,
   "id": "5cdd5ecf-fe80-43f7-955c-34762a3bc75f",
   "metadata": {},
   "outputs": [
    {
     "data": {
      "text/plain": [
       "[0.9994237971287664, 0.23621543814299703, 0.8723686098443353]"
      ]
     },
     "execution_count": 5,
     "metadata": {},
     "output_type": "execute_result"
    }
   ],
   "source": [
    "similaridade"
   ]
  },
  {
   "cell_type": "code",
   "execution_count": 6,
   "id": "88dabdd5-7707-476b-ae91-132c28290d76",
   "metadata": {},
   "outputs": [],
   "source": [
    "peso_nota = np.zeros((3, 5))"
   ]
  },
  {
   "cell_type": "code",
   "execution_count": 7,
   "id": "4f14fedc-531e-49a8-8288-1ed587cb51ac",
   "metadata": {},
   "outputs": [],
   "source": [
    "for i in range(3): # usuarios\n",
    "    for j in range(5): # catalogo\n",
    "        peso_nota[i][j] = nao_assistidos[j] * usuarios[i][j] * similaridade[i]"
   ]
  },
  {
   "cell_type": "code",
   "execution_count": 8,
   "id": "24eea65a-565e-4730-8206-422a588d5b7a",
   "metadata": {},
   "outputs": [
    {
     "name": "stdout",
     "output_type": "stream",
     "text": [
      "[[0.         0.         0.         0.         5.99654278]\n",
      " [0.         1.41729263 0.         0.         2.12593894]\n",
      " [0.         0.         0.         0.         8.7236861 ]]\n"
     ]
    }
   ],
   "source": [
    "print(peso_nota)"
   ]
  },
  {
   "cell_type": "code",
   "execution_count": 9,
   "id": "df59a6b5-6f4c-459c-ab1e-c224e77fad96",
   "metadata": {},
   "outputs": [
    {
     "name": "stdout",
     "output_type": "stream",
     "text": [
      "[ 0.          1.41729263  0.          0.         16.84616782]\n"
     ]
    }
   ],
   "source": [
    "notas_acumuladas = np.sum(peso_nota.T, axis=1)\n",
    "print(notas_acumuladas)"
   ]
  },
  {
   "cell_type": "code",
   "execution_count": 10,
   "id": "7fcb24bc-e7b5-4411-b808-2e04d2c2b5c7",
   "metadata": {},
   "outputs": [
    {
     "name": "stdout",
     "output_type": "stream",
     "text": [
      "[[0. 0. 0. 0. 1.]\n",
      " [0. 1. 0. 0. 1.]\n",
      " [0. 0. 0. 0. 1.]]\n"
     ]
    }
   ],
   "source": [
    "peso_temp = peso_nota\n",
    "peso_temp[peso_nota > 0] = 1\n",
    "print(peso_temp)"
   ]
  },
  {
   "cell_type": "code",
   "execution_count": 11,
   "id": "e6473be3-3532-414d-87c9-e4c2614200fb",
   "metadata": {},
   "outputs": [],
   "source": [
    "similaridade_temp = np.zeros((3, 5))"
   ]
  },
  {
   "cell_type": "code",
   "execution_count": 12,
   "id": "88b3cc7e-a3af-4c9c-b3b7-6fc7ffc4cc6a",
   "metadata": {},
   "outputs": [],
   "source": [
    "for i in range(3): # usuarios\n",
    "    for j in range(5): # catalogo\n",
    "        similaridade_temp[i][j] = peso_temp[i][j] * similaridade[i]"
   ]
  },
  {
   "cell_type": "code",
   "execution_count": 13,
   "id": "eeff71f6-bd74-4063-86b8-df41dc484817",
   "metadata": {},
   "outputs": [
    {
     "name": "stdout",
     "output_type": "stream",
     "text": [
      "[[0.         0.         0.         0.         0.9994238 ]\n",
      " [0.         0.23621544 0.         0.         0.23621544]\n",
      " [0.         0.         0.         0.         0.87236861]]\n"
     ]
    }
   ],
   "source": [
    "print(similaridade_temp)"
   ]
  },
  {
   "cell_type": "code",
   "execution_count": 14,
   "id": "1375db9e-bd0d-4e22-9c7b-3c0685f78498",
   "metadata": {},
   "outputs": [
    {
     "name": "stdout",
     "output_type": "stream",
     "text": [
      "[0.         0.23621544 0.         0.         2.10800785]\n"
     ]
    }
   ],
   "source": [
    "similaridade_acumulada = np.sum(similaridade_temp.T, axis=1)\n",
    "print(similaridade_acumulada)"
   ]
  },
  {
   "cell_type": "code",
   "execution_count": 15,
   "id": "26b16a40-c3b0-4c04-aded-f26dfeec2a00",
   "metadata": {},
   "outputs": [],
   "source": [
    "nota_final = [0] * 5"
   ]
  },
  {
   "cell_type": "code",
   "execution_count": 16,
   "id": "a3487bbf-2c61-461f-bc76-060ed9023bae",
   "metadata": {},
   "outputs": [],
   "source": [
    "for i in range(5):\n",
    "    if similaridade_acumulada[i] > 0:\n",
    "        nota_final[i] = notas_acumuladas[i] / similaridade_acumulada[i]\n",
    "    else:\n",
    "        nota_final[i] = 0"
   ]
  },
  {
   "cell_type": "code",
   "execution_count": 17,
   "id": "87d82d82-c749-4e87-9ac4-536e19b90494",
   "metadata": {},
   "outputs": [
    {
     "name": "stdout",
     "output_type": "stream",
     "text": [
      "[0, 6.0, 0, 0, 7.991510972567145]\n"
     ]
    }
   ],
   "source": [
    "print(nota_final)"
   ]
  },
  {
   "cell_type": "code",
   "execution_count": 18,
   "id": "7fb7e7d0-5104-42aa-a903-c5722bd70c7b",
   "metadata": {},
   "outputs": [
    {
     "name": "stdout",
     "output_type": "stream",
     "text": [
      "[4, 1]\n"
     ]
    }
   ],
   "source": [
    "notas_ordenadas = sorted(range(len(nota_final)), key=nota_final.__getitem__)\\\n",
    "                  [::-1][0:sum(nao_assistidos)]\n",
    "print(notas_ordenadas)"
   ]
  },
  {
   "cell_type": "code",
   "execution_count": 19,
   "id": "4c04003d-e902-4752-826e-5586c1f1ddbe",
   "metadata": {},
   "outputs": [
    {
     "name": "stdout",
     "output_type": "stream",
     "text": [
      "Narcos 7.991510972567145\n",
      "Breaking Bad 6.0\n"
     ]
    }
   ],
   "source": [
    "for i in notas_ordenadas:\n",
    "    print(catalogo[i], nota_final[i])"
   ]
  }
 ],
 "metadata": {
  "kernelspec": {
   "display_name": "Python 3 (ipykernel)",
   "language": "python",
   "name": "python3"
  },
  "language_info": {
   "codemirror_mode": {
    "name": "ipython",
    "version": 3
   },
   "file_extension": ".py",
   "mimetype": "text/x-python",
   "name": "python",
   "nbconvert_exporter": "python",
   "pygments_lexer": "ipython3",
   "version": "3.9.6"
  }
 },
 "nbformat": 4,
 "nbformat_minor": 5
}

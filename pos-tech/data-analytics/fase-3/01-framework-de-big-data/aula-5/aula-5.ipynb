{
 "cells": [
  {
   "cell_type": "code",
   "execution_count": 1,
   "id": "28954532-bed8-432b-a534-42e0e83442f1",
   "metadata": {},
   "outputs": [],
   "source": [
    "import numpy as np\n",
    "from scipy import stats"
   ]
  },
  {
   "cell_type": "code",
   "execution_count": 2,
   "id": "0729443a-748a-46fc-a6ab-376c38e9c7bb",
   "metadata": {},
   "outputs": [],
   "source": [
    "usuarios = np.array([[8, 0, 3, 4, 6], [5, 6, 1, 8, 9], [8, 0, 0, 5, 10]])\n",
    "usuario_novo = [8, 0, 2, 3, 0]\n",
    "nao_assistidos = [0, 1, 0, 0, 1]\n",
    "catalogo = ['Round 6', 'Breaking Bad', 'You', 'La Casa de Papel', 'Narcos']"
   ]
  },
  {
   "cell_type": "code",
   "execution_count": 3,
   "id": "6e63c075-006d-45cc-98f3-c0a2daf2b313",
   "metadata": {},
   "outputs": [],
   "source": [
    "similaridade = 3 * [0]"
   ]
  },
  {
   "cell_type": "code",
   "execution_count": 4,
   "id": "7aaf41c7-bc9e-4e82-9432-c373f4f2e501",
   "metadata": {},
   "outputs": [],
   "source": [
    "for i in range(0, 3):\n",
    "    tmp = usuarios[i, :]\n",
    "    tmp_usuario = [t for n, t in zip(usuario_novo, tmp) if n != 0]\n",
    "    tmp_usuario_novo = [n for n in usuario_novo if n != 0]\n",
    "    similaridade[i] = stats.pearsonr(tmp_usuario, tmp_usuario_novo)[0]"
   ]
  },
  {
   "cell_type": "code",
   "execution_count": 5,
   "id": "5cdd5ecf-fe80-43f7-955c-34762a3bc75f",
   "metadata": {},
   "outputs": [
    {
     "data": {
      "text/plain": [
       "[0.9994237971287664, 0.23621543814299703, 0.8723686098443353]"
      ]
     },
     "execution_count": 5,
     "metadata": {},
     "output_type": "execute_result"
    }
   ],
   "source": [
    "similaridade"
   ]
  },
  {
   "cell_type": "code",
   "execution_count": 6,
   "id": "88dabdd5-7707-476b-ae91-132c28290d76",
   "metadata": {},
   "outputs": [],
   "source": [
    "peso_nota = np.zeros((3, 5))"
   ]
  }
 ],
 "metadata": {
  "kernelspec": {
   "display_name": "Python 3 (ipykernel)",
   "language": "python",
   "name": "python3"
  },
  "language_info": {
   "codemirror_mode": {
    "name": "ipython",
    "version": 3
   },
   "file_extension": ".py",
   "mimetype": "text/x-python",
   "name": "python",
   "nbconvert_exporter": "python",
   "pygments_lexer": "ipython3",
   "version": "3.9.6"
  }
 },
 "nbformat": 4,
 "nbformat_minor": 5
}

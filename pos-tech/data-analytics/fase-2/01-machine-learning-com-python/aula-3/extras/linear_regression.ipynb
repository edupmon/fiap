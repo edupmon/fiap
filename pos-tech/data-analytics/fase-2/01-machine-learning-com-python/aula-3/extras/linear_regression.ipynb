{
 "cells": [
  {
   "cell_type": "code",
   "execution_count": 1,
   "id": "afa25d79-8b9e-4eb0-9cae-6c8decc7bcbc",
   "metadata": {},
   "outputs": [],
   "source": [
    "import numpy as np\n",
    "import pandas as pd\n",
    "from sklearn.model_selection import train_test_split\n",
    "from sklearn.linear_model import LinearRegression\n",
    "from sklearn.preprocessing import MinMaxScaler, StandardScaler\n",
    "from sklearn.metrics import mean_absolute_error, r2_score"
   ]
  },
  {
   "cell_type": "code",
   "execution_count": 2,
   "id": "4556dbe8-c557-4699-b430-6e437eb72216",
   "metadata": {},
   "outputs": [],
   "source": [
    "np.random.seed(0)"
   ]
  },
  {
   "cell_type": "code",
   "execution_count": 3,
   "id": "d272f0cf-4272-4ca7-bfe1-6f93da53bb8a",
   "metadata": {},
   "outputs": [],
   "source": [
    "# Load data\n",
    "file = '../dados/data.csv'\n",
    "cols = pd.read_csv(file, nrows=1).columns\n",
    "X = pd.read_csv(file, usecols=cols[2:14]).values\n",
    "y = pd.read_csv(file, usecols=cols[1:2]).values"
   ]
  },
  {
   "cell_type": "code",
   "execution_count": 4,
   "id": "6c816993-7c74-4972-bb8b-7aa84ce74472",
   "metadata": {},
   "outputs": [],
   "source": [
    "# Split data into training and testing sets\n",
    "X_train, X_test, y_train, y_test = train_test_split(X, y)"
   ]
  },
  {
   "cell_type": "code",
   "execution_count": 5,
   "id": "e3a90662-21cc-45d2-ae69-f0783a32a377",
   "metadata": {},
   "outputs": [],
   "source": [
    "# Linear Regression with raw data\n",
    "model_raw = LinearRegression()\n",
    "model_raw.fit(X_train, y_train)\n",
    "y_pred_raw = model_raw.predict(X_test)"
   ]
  },
  {
   "cell_type": "code",
   "execution_count": 6,
   "id": "e490e877-26b4-4107-bf14-0c1d89a9b6b3",
   "metadata": {},
   "outputs": [],
   "source": [
    "# MinMax Scaler\n",
    "scaler_minmax = MinMaxScaler()\n",
    "X_train_minmax = scaler_minmax.fit_transform(X_train)\n",
    "X_test_minmax = scaler_minmax.transform(X_test)"
   ]
  },
  {
   "cell_type": "code",
   "execution_count": 7,
   "id": "6ef4ba55-0b68-4227-af80-fe537016944f",
   "metadata": {},
   "outputs": [],
   "source": [
    "# Linear Regression with MinMax scaled data\n",
    "model_minmax = LinearRegression()\n",
    "model_minmax.fit(X_train_minmax, y_train)\n",
    "y_pred_minmax = model_minmax.predict(X_test_minmax)"
   ]
  },
  {
   "cell_type": "code",
   "execution_count": 8,
   "id": "db9a7f10-49d7-4ae9-b62d-2bc0293b05ba",
   "metadata": {},
   "outputs": [],
   "source": [
    "# Standard Scaler\n",
    "scaler_standard = StandardScaler()\n",
    "X_train_standard = scaler_standard.fit_transform(X_train)\n",
    "X_test_standard = scaler_standard.transform(X_test)"
   ]
  },
  {
   "cell_type": "code",
   "execution_count": 9,
   "id": "7f879c03-1b34-479c-a9c5-0ea634b155f4",
   "metadata": {},
   "outputs": [],
   "source": [
    "# Linear Regression with Standard scaled data\n",
    "model_standard = LinearRegression()\n",
    "model_standard.fit(X_train_standard, y_train)\n",
    "y_pred_standard = model_standard.predict(X_test_standard)"
   ]
  },
  {
   "cell_type": "code",
   "execution_count": 10,
   "id": "4932d86d-5c32-4200-8dcb-65612646a20b",
   "metadata": {},
   "outputs": [
    {
     "name": "stdout",
     "output_type": "stream",
     "text": [
      "MAE with Raw Data: 163581.76716381576\n",
      "MAE with MinMax Scaled Data: 163601.24622415472\n",
      "MAE with Standard Scaled Data: 163581.76716381955\n"
     ]
    }
   ],
   "source": [
    "# Evaluate models\n",
    "mae_raw = mean_absolute_error(y_test, y_pred_raw)\n",
    "mae_minmax = mean_absolute_error(y_test, y_pred_minmax)\n",
    "mae_standard = mean_absolute_error(y_test, y_pred_standard)\n",
    "\n",
    "print(f'MAE with Raw Data: {mae_raw}')\n",
    "print(f'MAE with MinMax Scaled Data: {mae_minmax}')\n",
    "print(f'MAE with Standard Scaled Data: {mae_standard}')"
   ]
  },
  {
   "cell_type": "code",
   "execution_count": 11,
   "id": "8f96c68e-2278-4242-9e80-0f7d3815eb8f",
   "metadata": {},
   "outputs": [
    {
     "name": "stdout",
     "output_type": "stream",
     "text": [
      "R2 with Raw Data: 0.5553575270098776\n",
      "R2 with MinMax Scaled Data: 0.5553367617511691\n",
      "R2 with Standard Scaled Data: 0.5553575270099153\n"
     ]
    }
   ],
   "source": [
    "# Evaluate models\n",
    "r2_raw = r2_score(y_test, y_pred_raw)\n",
    "r2_minmax = r2_score(y_test, y_pred_minmax)\n",
    "r2_standard = r2_score(y_test, y_pred_standard)\n",
    "\n",
    "print(f'R2 with Raw Data: {r2_raw}')\n",
    "print(f'R2 with MinMax Scaled Data: {r2_minmax}')\n",
    "print(f'R2 with Standard Scaled Data: {r2_standard}')"
   ]
  }
 ],
 "metadata": {
  "kernelspec": {
   "display_name": "Python 3 (ipykernel)",
   "language": "python",
   "name": "python3"
  },
  "language_info": {
   "codemirror_mode": {
    "name": "ipython",
    "version": 3
   },
   "file_extension": ".py",
   "mimetype": "text/x-python",
   "name": "python",
   "nbconvert_exporter": "python",
   "pygments_lexer": "ipython3",
   "version": "3.9.6"
  }
 },
 "nbformat": 4,
 "nbformat_minor": 5
}

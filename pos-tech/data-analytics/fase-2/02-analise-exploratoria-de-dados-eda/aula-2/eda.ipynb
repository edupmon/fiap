{
 "cells": [
  {
   "cell_type": "markdown",
   "id": "88415fff-0f73-4524-8cdb-33f067e89396",
   "metadata": {},
   "source": [
    "https://www.kaggle.com/datasets/jarredpriester/rolling-stones-spotify-dataset\n",
    "\n",
    "The columns in this dataset are:\n",
    "\n",
    "**name -** the name of the song\n",
    "\n",
    "**album -** the name of the album\n",
    "\n",
    "**release_date -** the day month and year the album was released\n",
    "\n",
    "**track number -** the order the song appears on the album\n",
    "\n",
    "**id -** the Spotify id for the song\n",
    "\n",
    "**uri -** the Spotify uri for the song\n",
    "\n",
    "**acousticness -** A confidence measure from 0.0 to 1.0 of whether the track is acoustic. 1.0 represents high confidence the track is acoustic.\n",
    "\n",
    "**danceability -** Danceability describes how suitable a track is for dancing based on a combination of musical elements including tempo, rhythm stability, beat strength, and overall regularity. A value of 0.0 is least danceable and 1.0 is most danceable.\n",
    "\n",
    "**energy -** Energy is a measure from 0.0 to 1.0 and represents a perceptual measure of intensity and activity. Typically, energetic tracks feel fast, loud, and noisy. For example, death metal has high energy, while a Bach prelude scores low on the scale. Perceptual features contributing to this attribute include dynamic range, perceived loudness, timbre, onset rate, and general entropy.\n",
    "\n",
    "**instrumentalness -** Predicts whether a track contains no vocals. \"Ooh\" and \"aah\" sounds are treated as instrumental in this context. Rap or spoken word tracks are clearly \"vocal\". The closer the instrumentalness value is to 1.0, the greater likelihood the track contains no vocal content. Values above 0.5 are intended to represent instrumental tracks, but confidence is higher as the value approaches 1.0.\n",
    "\n",
    "**liveness -** Detects the presence of an audience in the recording. Higher liveness values represent an increased probability that the track was performed live. A value above 0.8 provides strong likelihood that the track is live.\n",
    "\n",
    "**loudness -** The overall loudness of a track in decibels (dB). Loudness values are averaged across the entire track and are useful for comparing relative loudness of tracks. Loudness is the quality of a sound that is the primary psychological correlate of physical strength (amplitude). Values typically range between -60 and 0 db.\n",
    "\n",
    "**speechiness -** detects the presence of spoken words in a track. The more exclusively speech-like the recording (e.g. talk show, audio book, poetry), the closer to 1.0 the attribute value. Values above 0.66 describe tracks that are probably made entirely of spoken words. Values between 0.33 and 0.66 describe tracks that may contain both music and speech, either in sections or layered, including such cases as rap music. Values below 0.33 most likely represent music and other non-speech-like tracks.\n",
    "\n",
    "**tempo -** The overall estimated tempo of a track in beats per minute (BPM). In musical terminology, tempo is the speed or pace of a given piece and derives directly from the average beat duration.\n",
    "\n",
    "**valence -** A measure from 0.0 to 1.0 describing the musical positiveness conveyed by a track. Tracks with high valence sound more positive (e.g. happy, cheerful, euphoric), while tracks with low valence sound more negative (e.g. sad, depressed, angry).\n",
    "\n",
    "**popularity -** the popularity of the song from 0 to 100\n",
    "\n",
    "**duration_ms -** The duration of the track in milliseconds"
   ]
  },
  {
   "cell_type": "code",
   "execution_count": 1,
   "id": "393b9262-4153-4b2a-b090-86d04d13acdd",
   "metadata": {},
   "outputs": [],
   "source": [
    "import pandas as pd\n",
    "import matplotlib.pyplot as plt\n",
    "import seaborn as sns\n",
    "from scipy.stats import shapiro"
   ]
  },
  {
   "cell_type": "code",
   "execution_count": 2,
   "id": "00eb7b1b-eb66-4fcd-a6f3-2f61c2f1c10d",
   "metadata": {},
   "outputs": [],
   "source": [
    "df = pd.read_csv('dados/rolling_stones_spotify.csv', usecols=range(1,18))"
   ]
  },
  {
   "cell_type": "code",
   "execution_count": 3,
   "id": "8aa2ffa2-7fd5-4617-a7f5-2d132c42c4d8",
   "metadata": {},
   "outputs": [],
   "source": [
    "df['release_date'] = pd.to_datetime(df['release_date'])\n",
    "df.drop(['id', 'uri'], axis=1, inplace=True)"
   ]
  },
  {
   "cell_type": "code",
   "execution_count": 4,
   "id": "b8bcc4c9-5f5b-4051-b7e3-77a8db174e76",
   "metadata": {},
   "outputs": [
    {
     "data": {
      "text/html": [
       "<div>\n",
       "<style scoped>\n",
       "    .dataframe tbody tr th:only-of-type {\n",
       "        vertical-align: middle;\n",
       "    }\n",
       "\n",
       "    .dataframe tbody tr th {\n",
       "        vertical-align: top;\n",
       "    }\n",
       "\n",
       "    .dataframe thead th {\n",
       "        text-align: right;\n",
       "    }\n",
       "</style>\n",
       "<table border=\"1\" class=\"dataframe\">\n",
       "  <thead>\n",
       "    <tr style=\"text-align: right;\">\n",
       "      <th></th>\n",
       "      <th>name</th>\n",
       "      <th>album</th>\n",
       "      <th>release_date</th>\n",
       "      <th>track_number</th>\n",
       "      <th>acousticness</th>\n",
       "      <th>danceability</th>\n",
       "      <th>energy</th>\n",
       "      <th>instrumentalness</th>\n",
       "      <th>liveness</th>\n",
       "      <th>loudness</th>\n",
       "      <th>speechiness</th>\n",
       "      <th>tempo</th>\n",
       "      <th>valence</th>\n",
       "      <th>popularity</th>\n",
       "      <th>duration_ms</th>\n",
       "    </tr>\n",
       "  </thead>\n",
       "  <tbody>\n",
       "    <tr>\n",
       "      <th>0</th>\n",
       "      <td>Concert Intro Music - Live</td>\n",
       "      <td>Licked Live In NYC</td>\n",
       "      <td>2022-06-10</td>\n",
       "      <td>1</td>\n",
       "      <td>0.0824</td>\n",
       "      <td>0.463</td>\n",
       "      <td>0.993</td>\n",
       "      <td>0.996000</td>\n",
       "      <td>0.932</td>\n",
       "      <td>-12.913</td>\n",
       "      <td>0.1100</td>\n",
       "      <td>118.001</td>\n",
       "      <td>0.0302</td>\n",
       "      <td>33</td>\n",
       "      <td>48640</td>\n",
       "    </tr>\n",
       "    <tr>\n",
       "      <th>1</th>\n",
       "      <td>Street Fighting Man - Live</td>\n",
       "      <td>Licked Live In NYC</td>\n",
       "      <td>2022-06-10</td>\n",
       "      <td>2</td>\n",
       "      <td>0.4370</td>\n",
       "      <td>0.326</td>\n",
       "      <td>0.965</td>\n",
       "      <td>0.233000</td>\n",
       "      <td>0.961</td>\n",
       "      <td>-4.803</td>\n",
       "      <td>0.0759</td>\n",
       "      <td>131.455</td>\n",
       "      <td>0.3180</td>\n",
       "      <td>34</td>\n",
       "      <td>253173</td>\n",
       "    </tr>\n",
       "    <tr>\n",
       "      <th>2</th>\n",
       "      <td>Start Me Up - Live</td>\n",
       "      <td>Licked Live In NYC</td>\n",
       "      <td>2022-06-10</td>\n",
       "      <td>3</td>\n",
       "      <td>0.4160</td>\n",
       "      <td>0.386</td>\n",
       "      <td>0.969</td>\n",
       "      <td>0.400000</td>\n",
       "      <td>0.956</td>\n",
       "      <td>-4.936</td>\n",
       "      <td>0.1150</td>\n",
       "      <td>130.066</td>\n",
       "      <td>0.3130</td>\n",
       "      <td>34</td>\n",
       "      <td>263160</td>\n",
       "    </tr>\n",
       "    <tr>\n",
       "      <th>3</th>\n",
       "      <td>If You Can't Rock Me - Live</td>\n",
       "      <td>Licked Live In NYC</td>\n",
       "      <td>2022-06-10</td>\n",
       "      <td>4</td>\n",
       "      <td>0.5670</td>\n",
       "      <td>0.369</td>\n",
       "      <td>0.985</td>\n",
       "      <td>0.000107</td>\n",
       "      <td>0.895</td>\n",
       "      <td>-5.535</td>\n",
       "      <td>0.1930</td>\n",
       "      <td>132.994</td>\n",
       "      <td>0.1470</td>\n",
       "      <td>32</td>\n",
       "      <td>305880</td>\n",
       "    </tr>\n",
       "    <tr>\n",
       "      <th>4</th>\n",
       "      <td>Don’t Stop - Live</td>\n",
       "      <td>Licked Live In NYC</td>\n",
       "      <td>2022-06-10</td>\n",
       "      <td>5</td>\n",
       "      <td>0.4000</td>\n",
       "      <td>0.303</td>\n",
       "      <td>0.969</td>\n",
       "      <td>0.055900</td>\n",
       "      <td>0.966</td>\n",
       "      <td>-5.098</td>\n",
       "      <td>0.0930</td>\n",
       "      <td>130.533</td>\n",
       "      <td>0.2060</td>\n",
       "      <td>32</td>\n",
       "      <td>305106</td>\n",
       "    </tr>\n",
       "  </tbody>\n",
       "</table>\n",
       "</div>"
      ],
      "text/plain": [
       "                          name               album release_date  track_number  \\\n",
       "0   Concert Intro Music - Live  Licked Live In NYC   2022-06-10             1   \n",
       "1   Street Fighting Man - Live  Licked Live In NYC   2022-06-10             2   \n",
       "2           Start Me Up - Live  Licked Live In NYC   2022-06-10             3   \n",
       "3  If You Can't Rock Me - Live  Licked Live In NYC   2022-06-10             4   \n",
       "4            Don’t Stop - Live  Licked Live In NYC   2022-06-10             5   \n",
       "\n",
       "   acousticness  danceability  energy  instrumentalness  liveness  loudness  \\\n",
       "0        0.0824         0.463   0.993          0.996000     0.932   -12.913   \n",
       "1        0.4370         0.326   0.965          0.233000     0.961    -4.803   \n",
       "2        0.4160         0.386   0.969          0.400000     0.956    -4.936   \n",
       "3        0.5670         0.369   0.985          0.000107     0.895    -5.535   \n",
       "4        0.4000         0.303   0.969          0.055900     0.966    -5.098   \n",
       "\n",
       "   speechiness    tempo  valence  popularity  duration_ms  \n",
       "0       0.1100  118.001   0.0302          33        48640  \n",
       "1       0.0759  131.455   0.3180          34       253173  \n",
       "2       0.1150  130.066   0.3130          34       263160  \n",
       "3       0.1930  132.994   0.1470          32       305880  \n",
       "4       0.0930  130.533   0.2060          32       305106  "
      ]
     },
     "execution_count": 4,
     "metadata": {},
     "output_type": "execute_result"
    }
   ],
   "source": [
    "df.head()"
   ]
  },
  {
   "cell_type": "code",
   "execution_count": 5,
   "id": "d9b4f1f0-78a7-4f9c-bae2-239fed8ed520",
   "metadata": {},
   "outputs": [
    {
     "name": "stdout",
     "output_type": "stream",
     "text": [
      "<class 'pandas.core.frame.DataFrame'>\n",
      "RangeIndex: 1610 entries, 0 to 1609\n",
      "Data columns (total 15 columns):\n",
      " #   Column            Non-Null Count  Dtype         \n",
      "---  ------            --------------  -----         \n",
      " 0   name              1610 non-null   object        \n",
      " 1   album             1610 non-null   object        \n",
      " 2   release_date      1610 non-null   datetime64[ns]\n",
      " 3   track_number      1610 non-null   int64         \n",
      " 4   acousticness      1610 non-null   float64       \n",
      " 5   danceability      1610 non-null   float64       \n",
      " 6   energy            1610 non-null   float64       \n",
      " 7   instrumentalness  1610 non-null   float64       \n",
      " 8   liveness          1610 non-null   float64       \n",
      " 9   loudness          1610 non-null   float64       \n",
      " 10  speechiness       1610 non-null   float64       \n",
      " 11  tempo             1610 non-null   float64       \n",
      " 12  valence           1610 non-null   float64       \n",
      " 13  popularity        1610 non-null   int64         \n",
      " 14  duration_ms       1610 non-null   int64         \n",
      "dtypes: datetime64[ns](1), float64(9), int64(3), object(2)\n",
      "memory usage: 188.8+ KB\n"
     ]
    }
   ],
   "source": [
    "df.info()"
   ]
  },
  {
   "cell_type": "code",
   "execution_count": 6,
   "id": "45238156-86be-4f45-9955-0f8859dad3e1",
   "metadata": {},
   "outputs": [
    {
     "data": {
      "text/plain": [
       "(1610, 15)"
      ]
     },
     "execution_count": 6,
     "metadata": {},
     "output_type": "execute_result"
    }
   ],
   "source": [
    "df.shape"
   ]
  },
  {
   "cell_type": "code",
   "execution_count": 7,
   "id": "cb3ee912-2c85-48f4-bc27-edfe32ab3ccc",
   "metadata": {},
   "outputs": [
    {
     "data": {
      "text/plain": [
       "name                0\n",
       "album               0\n",
       "release_date        0\n",
       "track_number        0\n",
       "acousticness        0\n",
       "danceability        0\n",
       "energy              0\n",
       "instrumentalness    0\n",
       "liveness            0\n",
       "loudness            0\n",
       "speechiness         0\n",
       "tempo               0\n",
       "valence             0\n",
       "popularity          0\n",
       "duration_ms         0\n",
       "dtype: int64"
      ]
     },
     "execution_count": 7,
     "metadata": {},
     "output_type": "execute_result"
    }
   ],
   "source": [
    "df.isnull().sum()"
   ]
  },
  {
   "cell_type": "code",
   "execution_count": 8,
   "id": "bc7733e4-5256-4917-927a-a907101b04b4",
   "metadata": {},
   "outputs": [
    {
     "data": {
      "text/plain": [
       "6"
      ]
     },
     "execution_count": 8,
     "metadata": {},
     "output_type": "execute_result"
    }
   ],
   "source": [
    "df.duplicated().sum()"
   ]
  },
  {
   "cell_type": "code",
   "execution_count": 9,
   "id": "58d72087-b3fb-481c-a26f-7d7ffd706242",
   "metadata": {},
   "outputs": [
    {
     "data": {
      "text/html": [
       "<div>\n",
       "<style scoped>\n",
       "    .dataframe tbody tr th:only-of-type {\n",
       "        vertical-align: middle;\n",
       "    }\n",
       "\n",
       "    .dataframe tbody tr th {\n",
       "        vertical-align: top;\n",
       "    }\n",
       "\n",
       "    .dataframe thead th {\n",
       "        text-align: right;\n",
       "    }\n",
       "</style>\n",
       "<table border=\"1\" class=\"dataframe\">\n",
       "  <thead>\n",
       "    <tr style=\"text-align: right;\">\n",
       "      <th></th>\n",
       "      <th>name</th>\n",
       "      <th>album</th>\n",
       "      <th>release_date</th>\n",
       "      <th>track_number</th>\n",
       "      <th>acousticness</th>\n",
       "      <th>danceability</th>\n",
       "      <th>energy</th>\n",
       "      <th>instrumentalness</th>\n",
       "      <th>liveness</th>\n",
       "      <th>loudness</th>\n",
       "      <th>speechiness</th>\n",
       "      <th>tempo</th>\n",
       "      <th>valence</th>\n",
       "      <th>popularity</th>\n",
       "      <th>duration_ms</th>\n",
       "    </tr>\n",
       "  </thead>\n",
       "  <tbody>\n",
       "    <tr>\n",
       "      <th>928</th>\n",
       "      <td>Some Girls - Remastered</td>\n",
       "      <td>Some Girls (Deluxe Version)</td>\n",
       "      <td>1978-06-09</td>\n",
       "      <td>4</td>\n",
       "      <td>0.5270</td>\n",
       "      <td>0.474</td>\n",
       "      <td>0.938</td>\n",
       "      <td>0.520000</td>\n",
       "      <td>0.299</td>\n",
       "      <td>-2.643</td>\n",
       "      <td>0.0898</td>\n",
       "      <td>71.995</td>\n",
       "      <td>0.505</td>\n",
       "      <td>21</td>\n",
       "      <td>276933</td>\n",
       "    </tr>\n",
       "    <tr>\n",
       "      <th>929</th>\n",
       "      <td>Lies - Remastered</td>\n",
       "      <td>Some Girls (Deluxe Version)</td>\n",
       "      <td>1978-06-09</td>\n",
       "      <td>5</td>\n",
       "      <td>0.4370</td>\n",
       "      <td>0.382</td>\n",
       "      <td>0.997</td>\n",
       "      <td>0.950000</td>\n",
       "      <td>0.617</td>\n",
       "      <td>-1.568</td>\n",
       "      <td>0.1880</td>\n",
       "      <td>162.428</td>\n",
       "      <td>0.563</td>\n",
       "      <td>16</td>\n",
       "      <td>191266</td>\n",
       "    </tr>\n",
       "    <tr>\n",
       "      <th>935</th>\n",
       "      <td>Claudine</td>\n",
       "      <td>Some Girls (Deluxe Version)</td>\n",
       "      <td>1978-06-09</td>\n",
       "      <td>1</td>\n",
       "      <td>0.0144</td>\n",
       "      <td>0.439</td>\n",
       "      <td>0.977</td>\n",
       "      <td>0.022100</td>\n",
       "      <td>0.383</td>\n",
       "      <td>-4.386</td>\n",
       "      <td>0.1280</td>\n",
       "      <td>105.124</td>\n",
       "      <td>0.364</td>\n",
       "      <td>17</td>\n",
       "      <td>222253</td>\n",
       "    </tr>\n",
       "    <tr>\n",
       "      <th>939</th>\n",
       "      <td>No Spare Parts</td>\n",
       "      <td>Some Girls (Deluxe Version)</td>\n",
       "      <td>1978-06-09</td>\n",
       "      <td>5</td>\n",
       "      <td>0.2400</td>\n",
       "      <td>0.594</td>\n",
       "      <td>0.762</td>\n",
       "      <td>0.000015</td>\n",
       "      <td>0.712</td>\n",
       "      <td>-5.145</td>\n",
       "      <td>0.0292</td>\n",
       "      <td>72.648</td>\n",
       "      <td>0.540</td>\n",
       "      <td>19</td>\n",
       "      <td>270466</td>\n",
       "    </tr>\n",
       "    <tr>\n",
       "      <th>940</th>\n",
       "      <td>Don't Be A Stranger</td>\n",
       "      <td>Some Girls (Deluxe Version)</td>\n",
       "      <td>1978-06-09</td>\n",
       "      <td>6</td>\n",
       "      <td>0.0610</td>\n",
       "      <td>0.720</td>\n",
       "      <td>0.867</td>\n",
       "      <td>0.029700</td>\n",
       "      <td>0.385</td>\n",
       "      <td>-5.871</td>\n",
       "      <td>0.0390</td>\n",
       "      <td>127.329</td>\n",
       "      <td>0.847</td>\n",
       "      <td>15</td>\n",
       "      <td>246266</td>\n",
       "    </tr>\n",
       "    <tr>\n",
       "      <th>946</th>\n",
       "      <td>Petrol Blues</td>\n",
       "      <td>Some Girls (Deluxe Version)</td>\n",
       "      <td>1978-06-09</td>\n",
       "      <td>12</td>\n",
       "      <td>0.7690</td>\n",
       "      <td>0.835</td>\n",
       "      <td>0.621</td>\n",
       "      <td>0.114000</td>\n",
       "      <td>0.116</td>\n",
       "      <td>-8.007</td>\n",
       "      <td>0.0406</td>\n",
       "      <td>115.870</td>\n",
       "      <td>0.336</td>\n",
       "      <td>13</td>\n",
       "      <td>95626</td>\n",
       "    </tr>\n",
       "  </tbody>\n",
       "</table>\n",
       "</div>"
      ],
      "text/plain": [
       "                        name                        album release_date  \\\n",
       "928  Some Girls - Remastered  Some Girls (Deluxe Version)   1978-06-09   \n",
       "929        Lies - Remastered  Some Girls (Deluxe Version)   1978-06-09   \n",
       "935                 Claudine  Some Girls (Deluxe Version)   1978-06-09   \n",
       "939           No Spare Parts  Some Girls (Deluxe Version)   1978-06-09   \n",
       "940      Don't Be A Stranger  Some Girls (Deluxe Version)   1978-06-09   \n",
       "946             Petrol Blues  Some Girls (Deluxe Version)   1978-06-09   \n",
       "\n",
       "     track_number  acousticness  danceability  energy  instrumentalness  \\\n",
       "928             4        0.5270         0.474   0.938          0.520000   \n",
       "929             5        0.4370         0.382   0.997          0.950000   \n",
       "935             1        0.0144         0.439   0.977          0.022100   \n",
       "939             5        0.2400         0.594   0.762          0.000015   \n",
       "940             6        0.0610         0.720   0.867          0.029700   \n",
       "946            12        0.7690         0.835   0.621          0.114000   \n",
       "\n",
       "     liveness  loudness  speechiness    tempo  valence  popularity  \\\n",
       "928     0.299    -2.643       0.0898   71.995    0.505          21   \n",
       "929     0.617    -1.568       0.1880  162.428    0.563          16   \n",
       "935     0.383    -4.386       0.1280  105.124    0.364          17   \n",
       "939     0.712    -5.145       0.0292   72.648    0.540          19   \n",
       "940     0.385    -5.871       0.0390  127.329    0.847          15   \n",
       "946     0.116    -8.007       0.0406  115.870    0.336          13   \n",
       "\n",
       "     duration_ms  \n",
       "928       276933  \n",
       "929       191266  \n",
       "935       222253  \n",
       "939       270466  \n",
       "940       246266  \n",
       "946        95626  "
      ]
     },
     "execution_count": 9,
     "metadata": {},
     "output_type": "execute_result"
    }
   ],
   "source": [
    "df[df.duplicated()]"
   ]
  },
  {
   "cell_type": "code",
   "execution_count": 10,
   "id": "82901613-8b5e-41dd-820b-4d6091f50b79",
   "metadata": {},
   "outputs": [
    {
     "data": {
      "text/plain": [
       "90"
      ]
     },
     "execution_count": 10,
     "metadata": {},
     "output_type": "execute_result"
    }
   ],
   "source": [
    "len(df['album'].unique())"
   ]
  },
  {
   "cell_type": "code",
   "execution_count": 11,
   "id": "17970e0f-23aa-4034-bbc4-888532f34de6",
   "metadata": {},
   "outputs": [
    {
     "name": "stdout",
     "output_type": "stream",
     "text": [
      "Data Inicial:  1964-04-16\n",
      "Data Final:  2022-06-10\n",
      "Anos em Atividade:  58\n"
     ]
    }
   ],
   "source": [
    "data_inicial = df['release_date'].min()\n",
    "data_final = df['release_date'].max()\n",
    "\n",
    "print('Data Inicial: ', data_inicial.strftime('%Y-%m-%d'))\n",
    "print('Data Final: ', data_final.strftime('%Y-%m-%d'))\n",
    "print('Anos em Atividade: ', int((data_final - data_inicial).days / 365.2425))"
   ]
  },
  {
   "cell_type": "code",
   "execution_count": 12,
   "id": "412b3238-708a-43dc-b637-f9fde490dc92",
   "metadata": {},
   "outputs": [
    {
     "data": {
      "text/html": [
       "<div>\n",
       "<style scoped>\n",
       "    .dataframe tbody tr th:only-of-type {\n",
       "        vertical-align: middle;\n",
       "    }\n",
       "\n",
       "    .dataframe tbody tr th {\n",
       "        vertical-align: top;\n",
       "    }\n",
       "\n",
       "    .dataframe thead th {\n",
       "        text-align: right;\n",
       "    }\n",
       "</style>\n",
       "<table border=\"1\" class=\"dataframe\">\n",
       "  <thead>\n",
       "    <tr style=\"text-align: right;\">\n",
       "      <th></th>\n",
       "      <th>release_date</th>\n",
       "      <th>track_number</th>\n",
       "      <th>acousticness</th>\n",
       "      <th>danceability</th>\n",
       "      <th>energy</th>\n",
       "      <th>instrumentalness</th>\n",
       "      <th>liveness</th>\n",
       "      <th>loudness</th>\n",
       "      <th>speechiness</th>\n",
       "      <th>tempo</th>\n",
       "      <th>valence</th>\n",
       "      <th>popularity</th>\n",
       "      <th>duration_ms</th>\n",
       "    </tr>\n",
       "  </thead>\n",
       "  <tbody>\n",
       "    <tr>\n",
       "      <th>count</th>\n",
       "      <td>1610</td>\n",
       "      <td>1610.000000</td>\n",
       "      <td>1610.000000</td>\n",
       "      <td>1610.000000</td>\n",
       "      <td>1610.000000</td>\n",
       "      <td>1610.000000</td>\n",
       "      <td>1610.00000</td>\n",
       "      <td>1610.000000</td>\n",
       "      <td>1610.000000</td>\n",
       "      <td>1610.000000</td>\n",
       "      <td>1610.000000</td>\n",
       "      <td>1610.000000</td>\n",
       "      <td>1610.000000</td>\n",
       "    </tr>\n",
       "    <tr>\n",
       "      <th>mean</th>\n",
       "      <td>1992-04-23 12:57:14.534161536</td>\n",
       "      <td>8.613665</td>\n",
       "      <td>0.250475</td>\n",
       "      <td>0.468860</td>\n",
       "      <td>0.792352</td>\n",
       "      <td>0.164170</td>\n",
       "      <td>0.49173</td>\n",
       "      <td>-6.971615</td>\n",
       "      <td>0.069512</td>\n",
       "      <td>126.082033</td>\n",
       "      <td>0.582165</td>\n",
       "      <td>20.788199</td>\n",
       "      <td>257736.488199</td>\n",
       "    </tr>\n",
       "    <tr>\n",
       "      <th>min</th>\n",
       "      <td>1964-04-16 00:00:00</td>\n",
       "      <td>1.000000</td>\n",
       "      <td>0.000009</td>\n",
       "      <td>0.104000</td>\n",
       "      <td>0.141000</td>\n",
       "      <td>0.000000</td>\n",
       "      <td>0.02190</td>\n",
       "      <td>-24.408000</td>\n",
       "      <td>0.023200</td>\n",
       "      <td>46.525000</td>\n",
       "      <td>0.000000</td>\n",
       "      <td>0.000000</td>\n",
       "      <td>21000.000000</td>\n",
       "    </tr>\n",
       "    <tr>\n",
       "      <th>25%</th>\n",
       "      <td>1970-09-04 00:00:00</td>\n",
       "      <td>4.000000</td>\n",
       "      <td>0.058350</td>\n",
       "      <td>0.362250</td>\n",
       "      <td>0.674000</td>\n",
       "      <td>0.000219</td>\n",
       "      <td>0.15300</td>\n",
       "      <td>-8.982500</td>\n",
       "      <td>0.036500</td>\n",
       "      <td>107.390750</td>\n",
       "      <td>0.404250</td>\n",
       "      <td>13.000000</td>\n",
       "      <td>190613.000000</td>\n",
       "    </tr>\n",
       "    <tr>\n",
       "      <th>50%</th>\n",
       "      <td>1986-03-24 00:00:00</td>\n",
       "      <td>7.000000</td>\n",
       "      <td>0.183000</td>\n",
       "      <td>0.458000</td>\n",
       "      <td>0.848500</td>\n",
       "      <td>0.013750</td>\n",
       "      <td>0.37950</td>\n",
       "      <td>-6.523000</td>\n",
       "      <td>0.051200</td>\n",
       "      <td>124.404500</td>\n",
       "      <td>0.583000</td>\n",
       "      <td>20.000000</td>\n",
       "      <td>243093.000000</td>\n",
       "    </tr>\n",
       "    <tr>\n",
       "      <th>75%</th>\n",
       "      <td>2017-12-01 00:00:00</td>\n",
       "      <td>11.000000</td>\n",
       "      <td>0.403750</td>\n",
       "      <td>0.578000</td>\n",
       "      <td>0.945000</td>\n",
       "      <td>0.179000</td>\n",
       "      <td>0.89375</td>\n",
       "      <td>-4.608750</td>\n",
       "      <td>0.086600</td>\n",
       "      <td>142.355750</td>\n",
       "      <td>0.778000</td>\n",
       "      <td>27.000000</td>\n",
       "      <td>295319.750000</td>\n",
       "    </tr>\n",
       "    <tr>\n",
       "      <th>max</th>\n",
       "      <td>2022-06-10 00:00:00</td>\n",
       "      <td>47.000000</td>\n",
       "      <td>0.994000</td>\n",
       "      <td>0.887000</td>\n",
       "      <td>0.999000</td>\n",
       "      <td>0.996000</td>\n",
       "      <td>0.99800</td>\n",
       "      <td>-1.014000</td>\n",
       "      <td>0.624000</td>\n",
       "      <td>216.304000</td>\n",
       "      <td>0.974000</td>\n",
       "      <td>80.000000</td>\n",
       "      <td>981866.000000</td>\n",
       "    </tr>\n",
       "    <tr>\n",
       "      <th>std</th>\n",
       "      <td>NaN</td>\n",
       "      <td>6.560220</td>\n",
       "      <td>0.227397</td>\n",
       "      <td>0.141775</td>\n",
       "      <td>0.179886</td>\n",
       "      <td>0.276249</td>\n",
       "      <td>0.34910</td>\n",
       "      <td>2.994003</td>\n",
       "      <td>0.051631</td>\n",
       "      <td>29.233483</td>\n",
       "      <td>0.231253</td>\n",
       "      <td>12.426859</td>\n",
       "      <td>108333.474920</td>\n",
       "    </tr>\n",
       "  </tbody>\n",
       "</table>\n",
       "</div>"
      ],
      "text/plain": [
       "                        release_date  track_number  acousticness  \\\n",
       "count                           1610   1610.000000   1610.000000   \n",
       "mean   1992-04-23 12:57:14.534161536      8.613665      0.250475   \n",
       "min              1964-04-16 00:00:00      1.000000      0.000009   \n",
       "25%              1970-09-04 00:00:00      4.000000      0.058350   \n",
       "50%              1986-03-24 00:00:00      7.000000      0.183000   \n",
       "75%              2017-12-01 00:00:00     11.000000      0.403750   \n",
       "max              2022-06-10 00:00:00     47.000000      0.994000   \n",
       "std                              NaN      6.560220      0.227397   \n",
       "\n",
       "       danceability       energy  instrumentalness    liveness     loudness  \\\n",
       "count   1610.000000  1610.000000       1610.000000  1610.00000  1610.000000   \n",
       "mean       0.468860     0.792352          0.164170     0.49173    -6.971615   \n",
       "min        0.104000     0.141000          0.000000     0.02190   -24.408000   \n",
       "25%        0.362250     0.674000          0.000219     0.15300    -8.982500   \n",
       "50%        0.458000     0.848500          0.013750     0.37950    -6.523000   \n",
       "75%        0.578000     0.945000          0.179000     0.89375    -4.608750   \n",
       "max        0.887000     0.999000          0.996000     0.99800    -1.014000   \n",
       "std        0.141775     0.179886          0.276249     0.34910     2.994003   \n",
       "\n",
       "       speechiness        tempo      valence   popularity    duration_ms  \n",
       "count  1610.000000  1610.000000  1610.000000  1610.000000    1610.000000  \n",
       "mean      0.069512   126.082033     0.582165    20.788199  257736.488199  \n",
       "min       0.023200    46.525000     0.000000     0.000000   21000.000000  \n",
       "25%       0.036500   107.390750     0.404250    13.000000  190613.000000  \n",
       "50%       0.051200   124.404500     0.583000    20.000000  243093.000000  \n",
       "75%       0.086600   142.355750     0.778000    27.000000  295319.750000  \n",
       "max       0.624000   216.304000     0.974000    80.000000  981866.000000  \n",
       "std       0.051631    29.233483     0.231253    12.426859  108333.474920  "
      ]
     },
     "execution_count": 12,
     "metadata": {},
     "output_type": "execute_result"
    }
   ],
   "source": [
    "df.describe()"
   ]
  },
  {
   "cell_type": "code",
   "execution_count": 13,
   "id": "762b89a3-5955-4778-80ad-2a13311552df",
   "metadata": {},
   "outputs": [],
   "source": [
    "df['duration_min'] = df['duration_ms'] / 60_000"
   ]
  },
  {
   "cell_type": "code",
   "execution_count": 14,
   "id": "6b78e4bc-ff51-4180-9d79-03f17af248c6",
   "metadata": {},
   "outputs": [
    {
     "data": {
      "text/html": [
       "<div>\n",
       "<style scoped>\n",
       "    .dataframe tbody tr th:only-of-type {\n",
       "        vertical-align: middle;\n",
       "    }\n",
       "\n",
       "    .dataframe tbody tr th {\n",
       "        vertical-align: top;\n",
       "    }\n",
       "\n",
       "    .dataframe thead th {\n",
       "        text-align: right;\n",
       "    }\n",
       "</style>\n",
       "<table border=\"1\" class=\"dataframe\">\n",
       "  <thead>\n",
       "    <tr style=\"text-align: right;\">\n",
       "      <th></th>\n",
       "      <th>name</th>\n",
       "      <th>album</th>\n",
       "      <th>release_date</th>\n",
       "      <th>track_number</th>\n",
       "      <th>acousticness</th>\n",
       "      <th>danceability</th>\n",
       "      <th>energy</th>\n",
       "      <th>instrumentalness</th>\n",
       "      <th>liveness</th>\n",
       "      <th>loudness</th>\n",
       "      <th>speechiness</th>\n",
       "      <th>tempo</th>\n",
       "      <th>valence</th>\n",
       "      <th>popularity</th>\n",
       "      <th>duration_ms</th>\n",
       "      <th>duration_min</th>\n",
       "    </tr>\n",
       "  </thead>\n",
       "  <tbody>\n",
       "    <tr>\n",
       "      <th>0</th>\n",
       "      <td>Concert Intro Music - Live</td>\n",
       "      <td>Licked Live In NYC</td>\n",
       "      <td>2022-06-10</td>\n",
       "      <td>1</td>\n",
       "      <td>0.0824</td>\n",
       "      <td>0.463</td>\n",
       "      <td>0.993</td>\n",
       "      <td>0.996000</td>\n",
       "      <td>0.932</td>\n",
       "      <td>-12.913</td>\n",
       "      <td>0.1100</td>\n",
       "      <td>118.001</td>\n",
       "      <td>0.0302</td>\n",
       "      <td>33</td>\n",
       "      <td>48640</td>\n",
       "      <td>0.810667</td>\n",
       "    </tr>\n",
       "    <tr>\n",
       "      <th>1</th>\n",
       "      <td>Street Fighting Man - Live</td>\n",
       "      <td>Licked Live In NYC</td>\n",
       "      <td>2022-06-10</td>\n",
       "      <td>2</td>\n",
       "      <td>0.4370</td>\n",
       "      <td>0.326</td>\n",
       "      <td>0.965</td>\n",
       "      <td>0.233000</td>\n",
       "      <td>0.961</td>\n",
       "      <td>-4.803</td>\n",
       "      <td>0.0759</td>\n",
       "      <td>131.455</td>\n",
       "      <td>0.3180</td>\n",
       "      <td>34</td>\n",
       "      <td>253173</td>\n",
       "      <td>4.219550</td>\n",
       "    </tr>\n",
       "    <tr>\n",
       "      <th>2</th>\n",
       "      <td>Start Me Up - Live</td>\n",
       "      <td>Licked Live In NYC</td>\n",
       "      <td>2022-06-10</td>\n",
       "      <td>3</td>\n",
       "      <td>0.4160</td>\n",
       "      <td>0.386</td>\n",
       "      <td>0.969</td>\n",
       "      <td>0.400000</td>\n",
       "      <td>0.956</td>\n",
       "      <td>-4.936</td>\n",
       "      <td>0.1150</td>\n",
       "      <td>130.066</td>\n",
       "      <td>0.3130</td>\n",
       "      <td>34</td>\n",
       "      <td>263160</td>\n",
       "      <td>4.386000</td>\n",
       "    </tr>\n",
       "    <tr>\n",
       "      <th>3</th>\n",
       "      <td>If You Can't Rock Me - Live</td>\n",
       "      <td>Licked Live In NYC</td>\n",
       "      <td>2022-06-10</td>\n",
       "      <td>4</td>\n",
       "      <td>0.5670</td>\n",
       "      <td>0.369</td>\n",
       "      <td>0.985</td>\n",
       "      <td>0.000107</td>\n",
       "      <td>0.895</td>\n",
       "      <td>-5.535</td>\n",
       "      <td>0.1930</td>\n",
       "      <td>132.994</td>\n",
       "      <td>0.1470</td>\n",
       "      <td>32</td>\n",
       "      <td>305880</td>\n",
       "      <td>5.098000</td>\n",
       "    </tr>\n",
       "    <tr>\n",
       "      <th>4</th>\n",
       "      <td>Don’t Stop - Live</td>\n",
       "      <td>Licked Live In NYC</td>\n",
       "      <td>2022-06-10</td>\n",
       "      <td>5</td>\n",
       "      <td>0.4000</td>\n",
       "      <td>0.303</td>\n",
       "      <td>0.969</td>\n",
       "      <td>0.055900</td>\n",
       "      <td>0.966</td>\n",
       "      <td>-5.098</td>\n",
       "      <td>0.0930</td>\n",
       "      <td>130.533</td>\n",
       "      <td>0.2060</td>\n",
       "      <td>32</td>\n",
       "      <td>305106</td>\n",
       "      <td>5.085100</td>\n",
       "    </tr>\n",
       "  </tbody>\n",
       "</table>\n",
       "</div>"
      ],
      "text/plain": [
       "                          name               album release_date  track_number  \\\n",
       "0   Concert Intro Music - Live  Licked Live In NYC   2022-06-10             1   \n",
       "1   Street Fighting Man - Live  Licked Live In NYC   2022-06-10             2   \n",
       "2           Start Me Up - Live  Licked Live In NYC   2022-06-10             3   \n",
       "3  If You Can't Rock Me - Live  Licked Live In NYC   2022-06-10             4   \n",
       "4            Don’t Stop - Live  Licked Live In NYC   2022-06-10             5   \n",
       "\n",
       "   acousticness  danceability  energy  instrumentalness  liveness  loudness  \\\n",
       "0        0.0824         0.463   0.993          0.996000     0.932   -12.913   \n",
       "1        0.4370         0.326   0.965          0.233000     0.961    -4.803   \n",
       "2        0.4160         0.386   0.969          0.400000     0.956    -4.936   \n",
       "3        0.5670         0.369   0.985          0.000107     0.895    -5.535   \n",
       "4        0.4000         0.303   0.969          0.055900     0.966    -5.098   \n",
       "\n",
       "   speechiness    tempo  valence  popularity  duration_ms  duration_min  \n",
       "0       0.1100  118.001   0.0302          33        48640      0.810667  \n",
       "1       0.0759  131.455   0.3180          34       253173      4.219550  \n",
       "2       0.1150  130.066   0.3130          34       263160      4.386000  \n",
       "3       0.1930  132.994   0.1470          32       305880      5.098000  \n",
       "4       0.0930  130.533   0.2060          32       305106      5.085100  "
      ]
     },
     "execution_count": 14,
     "metadata": {},
     "output_type": "execute_result"
    }
   ],
   "source": [
    "df.head()"
   ]
  },
  {
   "cell_type": "code",
   "execution_count": 15,
   "id": "79f7ffa3-d64f-4d91-950d-9100bb926034",
   "metadata": {},
   "outputs": [
    {
     "data": {
      "text/html": [
       "<div>\n",
       "<style scoped>\n",
       "    .dataframe tbody tr th:only-of-type {\n",
       "        vertical-align: middle;\n",
       "    }\n",
       "\n",
       "    .dataframe tbody tr th {\n",
       "        vertical-align: top;\n",
       "    }\n",
       "\n",
       "    .dataframe thead th {\n",
       "        text-align: right;\n",
       "    }\n",
       "</style>\n",
       "<table border=\"1\" class=\"dataframe\">\n",
       "  <thead>\n",
       "    <tr style=\"text-align: right;\">\n",
       "      <th></th>\n",
       "      <th>release_date</th>\n",
       "      <th>track_number</th>\n",
       "      <th>acousticness</th>\n",
       "      <th>danceability</th>\n",
       "      <th>energy</th>\n",
       "      <th>instrumentalness</th>\n",
       "      <th>liveness</th>\n",
       "      <th>loudness</th>\n",
       "      <th>speechiness</th>\n",
       "      <th>tempo</th>\n",
       "      <th>valence</th>\n",
       "      <th>popularity</th>\n",
       "      <th>duration_ms</th>\n",
       "      <th>duration_min</th>\n",
       "    </tr>\n",
       "  </thead>\n",
       "  <tbody>\n",
       "    <tr>\n",
       "      <th>count</th>\n",
       "      <td>1610</td>\n",
       "      <td>1610.000000</td>\n",
       "      <td>1610.000000</td>\n",
       "      <td>1610.000000</td>\n",
       "      <td>1610.000000</td>\n",
       "      <td>1610.000000</td>\n",
       "      <td>1610.00000</td>\n",
       "      <td>1610.000000</td>\n",
       "      <td>1610.000000</td>\n",
       "      <td>1610.000000</td>\n",
       "      <td>1610.000000</td>\n",
       "      <td>1610.000000</td>\n",
       "      <td>1610.000000</td>\n",
       "      <td>1610.000000</td>\n",
       "    </tr>\n",
       "    <tr>\n",
       "      <th>mean</th>\n",
       "      <td>1992-04-23 12:57:14.534161536</td>\n",
       "      <td>8.613665</td>\n",
       "      <td>0.250475</td>\n",
       "      <td>0.468860</td>\n",
       "      <td>0.792352</td>\n",
       "      <td>0.164170</td>\n",
       "      <td>0.49173</td>\n",
       "      <td>-6.971615</td>\n",
       "      <td>0.069512</td>\n",
       "      <td>126.082033</td>\n",
       "      <td>0.582165</td>\n",
       "      <td>20.788199</td>\n",
       "      <td>257736.488199</td>\n",
       "      <td>4.295608</td>\n",
       "    </tr>\n",
       "    <tr>\n",
       "      <th>min</th>\n",
       "      <td>1964-04-16 00:00:00</td>\n",
       "      <td>1.000000</td>\n",
       "      <td>0.000009</td>\n",
       "      <td>0.104000</td>\n",
       "      <td>0.141000</td>\n",
       "      <td>0.000000</td>\n",
       "      <td>0.02190</td>\n",
       "      <td>-24.408000</td>\n",
       "      <td>0.023200</td>\n",
       "      <td>46.525000</td>\n",
       "      <td>0.000000</td>\n",
       "      <td>0.000000</td>\n",
       "      <td>21000.000000</td>\n",
       "      <td>0.350000</td>\n",
       "    </tr>\n",
       "    <tr>\n",
       "      <th>25%</th>\n",
       "      <td>1970-09-04 00:00:00</td>\n",
       "      <td>4.000000</td>\n",
       "      <td>0.058350</td>\n",
       "      <td>0.362250</td>\n",
       "      <td>0.674000</td>\n",
       "      <td>0.000219</td>\n",
       "      <td>0.15300</td>\n",
       "      <td>-8.982500</td>\n",
       "      <td>0.036500</td>\n",
       "      <td>107.390750</td>\n",
       "      <td>0.404250</td>\n",
       "      <td>13.000000</td>\n",
       "      <td>190613.000000</td>\n",
       "      <td>3.176883</td>\n",
       "    </tr>\n",
       "    <tr>\n",
       "      <th>50%</th>\n",
       "      <td>1986-03-24 00:00:00</td>\n",
       "      <td>7.000000</td>\n",
       "      <td>0.183000</td>\n",
       "      <td>0.458000</td>\n",
       "      <td>0.848500</td>\n",
       "      <td>0.013750</td>\n",
       "      <td>0.37950</td>\n",
       "      <td>-6.523000</td>\n",
       "      <td>0.051200</td>\n",
       "      <td>124.404500</td>\n",
       "      <td>0.583000</td>\n",
       "      <td>20.000000</td>\n",
       "      <td>243093.000000</td>\n",
       "      <td>4.051550</td>\n",
       "    </tr>\n",
       "    <tr>\n",
       "      <th>75%</th>\n",
       "      <td>2017-12-01 00:00:00</td>\n",
       "      <td>11.000000</td>\n",
       "      <td>0.403750</td>\n",
       "      <td>0.578000</td>\n",
       "      <td>0.945000</td>\n",
       "      <td>0.179000</td>\n",
       "      <td>0.89375</td>\n",
       "      <td>-4.608750</td>\n",
       "      <td>0.086600</td>\n",
       "      <td>142.355750</td>\n",
       "      <td>0.778000</td>\n",
       "      <td>27.000000</td>\n",
       "      <td>295319.750000</td>\n",
       "      <td>4.921996</td>\n",
       "    </tr>\n",
       "    <tr>\n",
       "      <th>max</th>\n",
       "      <td>2022-06-10 00:00:00</td>\n",
       "      <td>47.000000</td>\n",
       "      <td>0.994000</td>\n",
       "      <td>0.887000</td>\n",
       "      <td>0.999000</td>\n",
       "      <td>0.996000</td>\n",
       "      <td>0.99800</td>\n",
       "      <td>-1.014000</td>\n",
       "      <td>0.624000</td>\n",
       "      <td>216.304000</td>\n",
       "      <td>0.974000</td>\n",
       "      <td>80.000000</td>\n",
       "      <td>981866.000000</td>\n",
       "      <td>16.364433</td>\n",
       "    </tr>\n",
       "    <tr>\n",
       "      <th>std</th>\n",
       "      <td>NaN</td>\n",
       "      <td>6.560220</td>\n",
       "      <td>0.227397</td>\n",
       "      <td>0.141775</td>\n",
       "      <td>0.179886</td>\n",
       "      <td>0.276249</td>\n",
       "      <td>0.34910</td>\n",
       "      <td>2.994003</td>\n",
       "      <td>0.051631</td>\n",
       "      <td>29.233483</td>\n",
       "      <td>0.231253</td>\n",
       "      <td>12.426859</td>\n",
       "      <td>108333.474920</td>\n",
       "      <td>1.805558</td>\n",
       "    </tr>\n",
       "  </tbody>\n",
       "</table>\n",
       "</div>"
      ],
      "text/plain": [
       "                        release_date  track_number  acousticness  \\\n",
       "count                           1610   1610.000000   1610.000000   \n",
       "mean   1992-04-23 12:57:14.534161536      8.613665      0.250475   \n",
       "min              1964-04-16 00:00:00      1.000000      0.000009   \n",
       "25%              1970-09-04 00:00:00      4.000000      0.058350   \n",
       "50%              1986-03-24 00:00:00      7.000000      0.183000   \n",
       "75%              2017-12-01 00:00:00     11.000000      0.403750   \n",
       "max              2022-06-10 00:00:00     47.000000      0.994000   \n",
       "std                              NaN      6.560220      0.227397   \n",
       "\n",
       "       danceability       energy  instrumentalness    liveness     loudness  \\\n",
       "count   1610.000000  1610.000000       1610.000000  1610.00000  1610.000000   \n",
       "mean       0.468860     0.792352          0.164170     0.49173    -6.971615   \n",
       "min        0.104000     0.141000          0.000000     0.02190   -24.408000   \n",
       "25%        0.362250     0.674000          0.000219     0.15300    -8.982500   \n",
       "50%        0.458000     0.848500          0.013750     0.37950    -6.523000   \n",
       "75%        0.578000     0.945000          0.179000     0.89375    -4.608750   \n",
       "max        0.887000     0.999000          0.996000     0.99800    -1.014000   \n",
       "std        0.141775     0.179886          0.276249     0.34910     2.994003   \n",
       "\n",
       "       speechiness        tempo      valence   popularity    duration_ms  \\\n",
       "count  1610.000000  1610.000000  1610.000000  1610.000000    1610.000000   \n",
       "mean      0.069512   126.082033     0.582165    20.788199  257736.488199   \n",
       "min       0.023200    46.525000     0.000000     0.000000   21000.000000   \n",
       "25%       0.036500   107.390750     0.404250    13.000000  190613.000000   \n",
       "50%       0.051200   124.404500     0.583000    20.000000  243093.000000   \n",
       "75%       0.086600   142.355750     0.778000    27.000000  295319.750000   \n",
       "max       0.624000   216.304000     0.974000    80.000000  981866.000000   \n",
       "std       0.051631    29.233483     0.231253    12.426859  108333.474920   \n",
       "\n",
       "       duration_min  \n",
       "count   1610.000000  \n",
       "mean       4.295608  \n",
       "min        0.350000  \n",
       "25%        3.176883  \n",
       "50%        4.051550  \n",
       "75%        4.921996  \n",
       "max       16.364433  \n",
       "std        1.805558  "
      ]
     },
     "execution_count": 15,
     "metadata": {},
     "output_type": "execute_result"
    }
   ],
   "source": [
    "df.describe()"
   ]
  },
  {
   "cell_type": "code",
   "execution_count": 16,
   "id": "b2e7bf6d-e04b-4434-b740-ab9d5e88b146",
   "metadata": {},
   "outputs": [
    {
     "data": {
      "text/plain": [
       "album\n",
       "12 X 5                              2.682068\n",
       "12 x 5                              2.682772\n",
       "A Bigger Bang (2009 Re-Mastered)    4.016356\n",
       "A Bigger Bang (Live)                5.176630\n",
       "Aftermath                           3.899185\n",
       "                                      ...   \n",
       "Undercover                          4.492750\n",
       "Undercover (2009 Re-Mastered)       4.497595\n",
       "Voodoo Lounge (Remastered 2009)     4.118779\n",
       "Voodoo Lounge Uncut (Live)          5.248507\n",
       "got LIVE if you want it!            2.762532\n",
       "Name: duration_min, Length: 90, dtype: float64"
      ]
     },
     "execution_count": 16,
     "metadata": {},
     "output_type": "execute_result"
    }
   ],
   "source": [
    "df.groupby('album')['duration_min'].mean()"
   ]
  },
  {
   "cell_type": "code",
   "execution_count": 17,
   "id": "9fa83a8d-b8b7-4254-921f-6b876c69a5a0",
   "metadata": {},
   "outputs": [
    {
     "data": {
      "text/plain": [
       "album\n",
       "Havana Moon (Live)                 6.632819\n",
       "Bridges To Bremen (Live)           6.332265\n",
       "Jamming With Edward                6.042794\n",
       "Live At The Checkerboard Lounge    6.009647\n",
       "Totally Stripped - Paris (Live)    5.947430\n",
       "Name: duration_min, dtype: float64"
      ]
     },
     "execution_count": 17,
     "metadata": {},
     "output_type": "execute_result"
    }
   ],
   "source": [
    "mean_duration = df.groupby('album')['duration_min'].mean()\\\n",
    "                  .sort_values(ascending=False)\n",
    "mean_duration.head()"
   ]
  },
  {
   "cell_type": "code",
   "execution_count": 18,
   "id": "057c4274-3642-4cda-90b2-4fa0534ee69f",
   "metadata": {},
   "outputs": [
    {
     "data": {
      "image/png": "[encoded data removed]",
      "text/plain": [
       "<Figure size 640x480 with 1 Axes>"
      ]
     },
     "metadata": {},
     "output_type": "display_data"
    }
   ],
   "source": [
    "mean_duration.head().plot(kind='bar')\n",
    "plt.ylabel('mean duration (in min)')\n",
    "plt.title('Top 5 mean songs duration by album')\n",
    "plt.show()"
   ]
  },
  {
   "cell_type": "code",
   "execution_count": 19,
   "id": "fd814dde-7c26-4cb4-bea6-055d01099813",
   "metadata": {},
   "outputs": [
    {
     "data": {
      "text/plain": [
       "album\n",
       "Voodoo Lounge Uncut (Live)     56\n",
       "Honk (Deluxe)                  47\n",
       "Live Licks                     46\n",
       "Tattoo You (Super Deluxe)      46\n",
       "Some Girls (Deluxe Version)    44\n",
       "Name: count, dtype: int64"
      ]
     },
     "execution_count": 19,
     "metadata": {},
     "output_type": "execute_result"
    }
   ],
   "source": [
    "songs_by_album = df['album'].value_counts().head(10)\n",
    "songs_by_album.head()"
   ]
  },
  {
   "cell_type": "code",
   "execution_count": 20,
   "id": "9b5e35a3-7e76-4b42-994c-ec0bae9f7fa4",
   "metadata": {},
   "outputs": [
    {
     "data": {
      "image/png": "[encoded data removed]",
      "text/plain": [
       "<Figure size 640x480 with 1 Axes>"
      ]
     },
     "metadata": {},
     "output_type": "display_data"
    }
   ],
   "source": [
    "plt.barh(songs_by_album.index, songs_by_album.values)\n",
    "plt.xlabel('Songs by Album')\n",
    "plt.show()"
   ]
  },
  {
   "cell_type": "code",
   "execution_count": 21,
   "id": "e8410153-4dcb-4391-931c-8a8d5a4652a8",
   "metadata": {},
   "outputs": [
    {
     "data": {
      "text/html": [
       "<div>\n",
       "<style scoped>\n",
       "    .dataframe tbody tr th:only-of-type {\n",
       "        vertical-align: middle;\n",
       "    }\n",
       "\n",
       "    .dataframe tbody tr th {\n",
       "        vertical-align: top;\n",
       "    }\n",
       "\n",
       "    .dataframe thead th {\n",
       "        text-align: right;\n",
       "    }\n",
       "</style>\n",
       "<table border=\"1\" class=\"dataframe\">\n",
       "  <thead>\n",
       "    <tr style=\"text-align: right;\">\n",
       "      <th></th>\n",
       "      <th>name</th>\n",
       "      <th>album</th>\n",
       "      <th>release_date</th>\n",
       "      <th>track_number</th>\n",
       "      <th>acousticness</th>\n",
       "      <th>danceability</th>\n",
       "      <th>energy</th>\n",
       "      <th>instrumentalness</th>\n",
       "      <th>liveness</th>\n",
       "      <th>loudness</th>\n",
       "      <th>speechiness</th>\n",
       "      <th>tempo</th>\n",
       "      <th>valence</th>\n",
       "      <th>popularity</th>\n",
       "      <th>duration_ms</th>\n",
       "      <th>duration_min</th>\n",
       "    </tr>\n",
       "  </thead>\n",
       "  <tbody>\n",
       "    <tr>\n",
       "      <th>189</th>\n",
       "      <td>(I Can't Get No) Satisfaction - Live</td>\n",
       "      <td>Bridges To Buenos Aires (Live)</td>\n",
       "      <td>2019-11-08</td>\n",
       "      <td>1</td>\n",
       "      <td>0.0215</td>\n",
       "      <td>0.294</td>\n",
       "      <td>0.986</td>\n",
       "      <td>0.050300</td>\n",
       "      <td>0.588</td>\n",
       "      <td>-5.094</td>\n",
       "      <td>0.2060</td>\n",
       "      <td>142.591</td>\n",
       "      <td>0.0918</td>\n",
       "      <td>24</td>\n",
       "      <td>320440</td>\n",
       "      <td>5.340667</td>\n",
       "    </tr>\n",
       "    <tr>\n",
       "      <th>190</th>\n",
       "      <td>Let's Spend The Night Together - Live</td>\n",
       "      <td>Bridges To Buenos Aires (Live)</td>\n",
       "      <td>2019-11-08</td>\n",
       "      <td>2</td>\n",
       "      <td>0.1080</td>\n",
       "      <td>0.487</td>\n",
       "      <td>0.983</td>\n",
       "      <td>0.000030</td>\n",
       "      <td>0.944</td>\n",
       "      <td>-4.454</td>\n",
       "      <td>0.2510</td>\n",
       "      <td>143.530</td>\n",
       "      <td>0.2870</td>\n",
       "      <td>24</td>\n",
       "      <td>245493</td>\n",
       "      <td>4.091550</td>\n",
       "    </tr>\n",
       "    <tr>\n",
       "      <th>191</th>\n",
       "      <td>Flip The Switch - Live</td>\n",
       "      <td>Bridges To Buenos Aires (Live)</td>\n",
       "      <td>2019-11-08</td>\n",
       "      <td>3</td>\n",
       "      <td>0.0827</td>\n",
       "      <td>0.335</td>\n",
       "      <td>0.972</td>\n",
       "      <td>0.003720</td>\n",
       "      <td>0.931</td>\n",
       "      <td>-4.931</td>\n",
       "      <td>0.2080</td>\n",
       "      <td>152.321</td>\n",
       "      <td>0.3370</td>\n",
       "      <td>19</td>\n",
       "      <td>243906</td>\n",
       "      <td>4.065100</td>\n",
       "    </tr>\n",
       "    <tr>\n",
       "      <th>192</th>\n",
       "      <td>Gimme Shelter - Live</td>\n",
       "      <td>Bridges To Buenos Aires (Live)</td>\n",
       "      <td>2019-11-08</td>\n",
       "      <td>4</td>\n",
       "      <td>0.0997</td>\n",
       "      <td>0.438</td>\n",
       "      <td>0.957</td>\n",
       "      <td>0.005540</td>\n",
       "      <td>0.774</td>\n",
       "      <td>-5.064</td>\n",
       "      <td>0.1350</td>\n",
       "      <td>119.245</td>\n",
       "      <td>0.2720</td>\n",
       "      <td>25</td>\n",
       "      <td>397386</td>\n",
       "      <td>6.623100</td>\n",
       "    </tr>\n",
       "    <tr>\n",
       "      <th>193</th>\n",
       "      <td>Sister Morphine - Live</td>\n",
       "      <td>Bridges To Buenos Aires (Live)</td>\n",
       "      <td>2019-11-08</td>\n",
       "      <td>5</td>\n",
       "      <td>0.1050</td>\n",
       "      <td>0.246</td>\n",
       "      <td>0.913</td>\n",
       "      <td>0.000478</td>\n",
       "      <td>0.969</td>\n",
       "      <td>-5.153</td>\n",
       "      <td>0.0921</td>\n",
       "      <td>80.371</td>\n",
       "      <td>0.3320</td>\n",
       "      <td>19</td>\n",
       "      <td>379800</td>\n",
       "      <td>6.330000</td>\n",
       "    </tr>\n",
       "  </tbody>\n",
       "</table>\n",
       "</div>"
      ],
      "text/plain": [
       "                                      name                           album  \\\n",
       "189   (I Can't Get No) Satisfaction - Live  Bridges To Buenos Aires (Live)   \n",
       "190  Let's Spend The Night Together - Live  Bridges To Buenos Aires (Live)   \n",
       "191                 Flip The Switch - Live  Bridges To Buenos Aires (Live)   \n",
       "192                   Gimme Shelter - Live  Bridges To Buenos Aires (Live)   \n",
       "193                 Sister Morphine - Live  Bridges To Buenos Aires (Live)   \n",
       "\n",
       "    release_date  track_number  acousticness  danceability  energy  \\\n",
       "189   2019-11-08             1        0.0215         0.294   0.986   \n",
       "190   2019-11-08             2        0.1080         0.487   0.983   \n",
       "191   2019-11-08             3        0.0827         0.335   0.972   \n",
       "192   2019-11-08             4        0.0997         0.438   0.957   \n",
       "193   2019-11-08             5        0.1050         0.246   0.913   \n",
       "\n",
       "     instrumentalness  liveness  loudness  speechiness    tempo  valence  \\\n",
       "189          0.050300     0.588    -5.094       0.2060  142.591   0.0918   \n",
       "190          0.000030     0.944    -4.454       0.2510  143.530   0.2870   \n",
       "191          0.003720     0.931    -4.931       0.2080  152.321   0.3370   \n",
       "192          0.005540     0.774    -5.064       0.1350  119.245   0.2720   \n",
       "193          0.000478     0.969    -5.153       0.0921   80.371   0.3320   \n",
       "\n",
       "     popularity  duration_ms  duration_min  \n",
       "189          24       320440      5.340667  \n",
       "190          24       245493      4.091550  \n",
       "191          19       243906      4.065100  \n",
       "192          25       397386      6.623100  \n",
       "193          19       379800      6.330000  "
      ]
     },
     "execution_count": 21,
     "metadata": {},
     "output_type": "execute_result"
    }
   ],
   "source": [
    "last_decade = df[df['release_date'].between(pd.to_datetime('2011'),\n",
    "                                           pd.to_datetime('2020'))]\n",
    "last_decade.head()"
   ]
  },
  {
   "cell_type": "code",
   "execution_count": 22,
   "id": "0f4226bf-9b28-4ee7-b4c7-ded487bfb019",
   "metadata": {},
   "outputs": [
    {
     "data": {
      "text/plain": [
       "album\n",
       "Honk (Deluxe)                      1232\n",
       "Voodoo Lounge Uncut (Live)          654\n",
       "On Air (Deluxe)                     573\n",
       "Live At The Checkerboard Lounge     482\n",
       "Havana Moon (Live)                  445\n",
       "Name: popularity, dtype: int64"
      ]
     },
     "metadata": {},
     "output_type": "display_data"
    },
    {
     "name": "stdout",
     "output_type": "stream",
     "text": [
      "\n",
      "<class 'pandas.core.series.Series'>\n",
      "Index: 10 entries, Honk (Deluxe) to Ladies & Gentlemen (Live)\n",
      "Series name: popularity\n",
      "Non-Null Count  Dtype\n",
      "--------------  -----\n",
      "10 non-null     int64\n",
      "dtypes: int64(1)\n",
      "memory usage: 160.0+ bytes\n"
     ]
    }
   ],
   "source": [
    "last_decade_popularity = last_decade.groupby('album')['popularity']\\\n",
    "                                    .sum().sort_values(ascending=False)\\\n",
    "                                    .head(10)\n",
    "display(last_decade_popularity.head())\n",
    "print()\n",
    "last_decade_popularity.info()"
   ]
  },
  {
   "cell_type": "code",
   "execution_count": 23,
   "id": "d0616b2f-6942-462e-a2b4-785cef72c82a",
   "metadata": {},
   "outputs": [
    {
     "data": {
      "text/plain": [
       "album\n",
       "Honk (Deluxe)                      23.153543\n",
       "Voodoo Lounge Uncut (Live)         12.290923\n",
       "On Air (Deluxe)                    10.768653\n",
       "Live At The Checkerboard Lounge     9.058448\n",
       "Havana Moon (Live)                  8.363090\n",
       "Name: popularity, dtype: float64"
      ]
     },
     "execution_count": 23,
     "metadata": {},
     "output_type": "execute_result"
    }
   ],
   "source": [
    "pop_percent = last_decade_popularity / last_decade_popularity.sum() * 100\n",
    "pop_percent.head()"
   ]
  },
  {
   "cell_type": "code",
   "execution_count": 24,
   "id": "a866284e-5e20-4769-ab57-bbf6d3cf7166",
   "metadata": {},
   "outputs": [
    {
     "data": {
      "image/png": "[encoded data removed]",
      "text/plain": [
       "<Figure size 1200x400 with 1 Axes>"
      ]
     },
     "metadata": {},
     "output_type": "display_data"
    }
   ],
   "source": [
    "labels = pop_percent.index.tolist()\n",
    "percentages = pop_percent.values.tolist()\n",
    "\n",
    "fig, ax = plt.subplots(figsize=(12, 4))\n",
    "ax.pie(percentages, autopct='%1.1f%%')\n",
    "ax.axis('equal')\n",
    "\n",
    "plt.title('Last decade popularity by album')\n",
    "plt.legend(labels, loc='best')\n",
    "plt.show()"
   ]
  },
  {
   "cell_type": "code",
   "execution_count": 25,
   "id": "223f161c-c927-42a1-b9ec-78fd08f95b1c",
   "metadata": {},
   "outputs": [
    {
     "data": {
      "image/png": "[encoded data removed]",
      "text/plain": [
       "<Figure size 1200x600 with 1 Axes>"
      ]
     },
     "metadata": {},
     "output_type": "display_data"
    }
   ],
   "source": [
    "sns.set(style='whitegrid')\n",
    "fig, ax = plt.subplots(figsize=(12,6))\n",
    "\n",
    "sns.boxplot(x='duration_min', data=df)\n",
    "\n",
    "ax.set_title('Song duration')\n",
    "\n",
    "plt.show()"
   ]
  },
  {
   "cell_type": "code",
   "execution_count": 26,
   "id": "ad3349d5-537f-4c18-87a3-fc8acb2b910e",
   "metadata": {},
   "outputs": [
    {
     "data": {
      "image/png": "[encoded data removed]",
      "text/plain": [
       "<Figure size 1200x600 with 1 Axes>"
      ]
     },
     "metadata": {},
     "output_type": "display_data"
    }
   ],
   "source": [
    "fig, ax = plt.subplots(figsize=(12,6))\n",
    "\n",
    "sns.violinplot(x='duration_min', data=df, color='gray')\n",
    "\n",
    "ax.set_title('Song duration')\n",
    "\n",
    "plt.show()"
   ]
  },
  {
   "cell_type": "code",
   "execution_count": 27,
   "id": "6fe03c39-7b1d-40df-9582-8f548f28cc6a",
   "metadata": {},
   "outputs": [
    {
     "data": {
      "image/png": "[encoded data removed]",
      "text/plain": [
       "<Figure size 1200x600 with 1 Axes>"
      ]
     },
     "metadata": {},
     "output_type": "display_data"
    }
   ],
   "source": [
    "fig, ax = plt.subplots(figsize=(12,6))\n",
    "\n",
    "sns.violinplot(x='duration_min', data=df, ax=ax, color='lightgray')\n",
    "sns.boxplot(x='duration_min', data=df, ax=ax)\n",
    "\n",
    "ax.set_title('Song duration')\n",
    "\n",
    "plt.show()"
   ]
  },
  {
   "cell_type": "code",
   "execution_count": 28,
   "id": "62927eda-ad12-4ec1-9920-6ca696696ec3",
   "metadata": {},
   "outputs": [],
   "source": [
    "def live_music(df):\n",
    "    if df['liveness'] >= 0.8:\n",
    "        return True\n",
    "    else:\n",
    "        return False"
   ]
  },
  {
   "cell_type": "code",
   "execution_count": 29,
   "id": "1ef49934-6fe6-43fe-8e73-3a6cfb92b1a6",
   "metadata": {},
   "outputs": [],
   "source": [
    "df['live_music'] = df.apply(live_music, axis=1)"
   ]
  },
  {
   "cell_type": "code",
   "execution_count": 30,
   "id": "ba9e362c-799e-4441-8574-60804f9c325f",
   "metadata": {},
   "outputs": [],
   "source": [
    "df['pythonic_live_music'] = df.apply(lambda x: True if x['liveness'] >= 0.8 else False, axis=1)"
   ]
  },
  {
   "cell_type": "code",
   "execution_count": 31,
   "id": "33a4f329-8a6d-42bb-83be-abd563f7c1c7",
   "metadata": {},
   "outputs": [
    {
     "data": {
      "text/html": [
       "<div>\n",
       "<style scoped>\n",
       "    .dataframe tbody tr th:only-of-type {\n",
       "        vertical-align: middle;\n",
       "    }\n",
       "\n",
       "    .dataframe tbody tr th {\n",
       "        vertical-align: top;\n",
       "    }\n",
       "\n",
       "    .dataframe thead th {\n",
       "        text-align: right;\n",
       "    }\n",
       "</style>\n",
       "<table border=\"1\" class=\"dataframe\">\n",
       "  <thead>\n",
       "    <tr style=\"text-align: right;\">\n",
       "      <th></th>\n",
       "      <th>name</th>\n",
       "      <th>album</th>\n",
       "      <th>release_date</th>\n",
       "      <th>track_number</th>\n",
       "      <th>acousticness</th>\n",
       "      <th>danceability</th>\n",
       "      <th>energy</th>\n",
       "      <th>instrumentalness</th>\n",
       "      <th>liveness</th>\n",
       "      <th>loudness</th>\n",
       "      <th>speechiness</th>\n",
       "      <th>tempo</th>\n",
       "      <th>valence</th>\n",
       "      <th>popularity</th>\n",
       "      <th>duration_ms</th>\n",
       "      <th>duration_min</th>\n",
       "      <th>live_music</th>\n",
       "      <th>pythonic_live_music</th>\n",
       "    </tr>\n",
       "  </thead>\n",
       "  <tbody>\n",
       "    <tr>\n",
       "      <th>0</th>\n",
       "      <td>Concert Intro Music - Live</td>\n",
       "      <td>Licked Live In NYC</td>\n",
       "      <td>2022-06-10</td>\n",
       "      <td>1</td>\n",
       "      <td>0.0824</td>\n",
       "      <td>0.463</td>\n",
       "      <td>0.993</td>\n",
       "      <td>0.996000</td>\n",
       "      <td>0.932</td>\n",
       "      <td>-12.913</td>\n",
       "      <td>0.1100</td>\n",
       "      <td>118.001</td>\n",
       "      <td>0.0302</td>\n",
       "      <td>33</td>\n",
       "      <td>48640</td>\n",
       "      <td>0.810667</td>\n",
       "      <td>True</td>\n",
       "      <td>True</td>\n",
       "    </tr>\n",
       "    <tr>\n",
       "      <th>1</th>\n",
       "      <td>Street Fighting Man - Live</td>\n",
       "      <td>Licked Live In NYC</td>\n",
       "      <td>2022-06-10</td>\n",
       "      <td>2</td>\n",
       "      <td>0.4370</td>\n",
       "      <td>0.326</td>\n",
       "      <td>0.965</td>\n",
       "      <td>0.233000</td>\n",
       "      <td>0.961</td>\n",
       "      <td>-4.803</td>\n",
       "      <td>0.0759</td>\n",
       "      <td>131.455</td>\n",
       "      <td>0.3180</td>\n",
       "      <td>34</td>\n",
       "      <td>253173</td>\n",
       "      <td>4.219550</td>\n",
       "      <td>True</td>\n",
       "      <td>True</td>\n",
       "    </tr>\n",
       "    <tr>\n",
       "      <th>2</th>\n",
       "      <td>Start Me Up - Live</td>\n",
       "      <td>Licked Live In NYC</td>\n",
       "      <td>2022-06-10</td>\n",
       "      <td>3</td>\n",
       "      <td>0.4160</td>\n",
       "      <td>0.386</td>\n",
       "      <td>0.969</td>\n",
       "      <td>0.400000</td>\n",
       "      <td>0.956</td>\n",
       "      <td>-4.936</td>\n",
       "      <td>0.1150</td>\n",
       "      <td>130.066</td>\n",
       "      <td>0.3130</td>\n",
       "      <td>34</td>\n",
       "      <td>263160</td>\n",
       "      <td>4.386000</td>\n",
       "      <td>True</td>\n",
       "      <td>True</td>\n",
       "    </tr>\n",
       "    <tr>\n",
       "      <th>3</th>\n",
       "      <td>If You Can't Rock Me - Live</td>\n",
       "      <td>Licked Live In NYC</td>\n",
       "      <td>2022-06-10</td>\n",
       "      <td>4</td>\n",
       "      <td>0.5670</td>\n",
       "      <td>0.369</td>\n",
       "      <td>0.985</td>\n",
       "      <td>0.000107</td>\n",
       "      <td>0.895</td>\n",
       "      <td>-5.535</td>\n",
       "      <td>0.1930</td>\n",
       "      <td>132.994</td>\n",
       "      <td>0.1470</td>\n",
       "      <td>32</td>\n",
       "      <td>305880</td>\n",
       "      <td>5.098000</td>\n",
       "      <td>True</td>\n",
       "      <td>True</td>\n",
       "    </tr>\n",
       "    <tr>\n",
       "      <th>4</th>\n",
       "      <td>Don’t Stop - Live</td>\n",
       "      <td>Licked Live In NYC</td>\n",
       "      <td>2022-06-10</td>\n",
       "      <td>5</td>\n",
       "      <td>0.4000</td>\n",
       "      <td>0.303</td>\n",
       "      <td>0.969</td>\n",
       "      <td>0.055900</td>\n",
       "      <td>0.966</td>\n",
       "      <td>-5.098</td>\n",
       "      <td>0.0930</td>\n",
       "      <td>130.533</td>\n",
       "      <td>0.2060</td>\n",
       "      <td>32</td>\n",
       "      <td>305106</td>\n",
       "      <td>5.085100</td>\n",
       "      <td>True</td>\n",
       "      <td>True</td>\n",
       "    </tr>\n",
       "  </tbody>\n",
       "</table>\n",
       "</div>"
      ],
      "text/plain": [
       "                          name               album release_date  track_number  \\\n",
       "0   Concert Intro Music - Live  Licked Live In NYC   2022-06-10             1   \n",
       "1   Street Fighting Man - Live  Licked Live In NYC   2022-06-10             2   \n",
       "2           Start Me Up - Live  Licked Live In NYC   2022-06-10             3   \n",
       "3  If You Can't Rock Me - Live  Licked Live In NYC   2022-06-10             4   \n",
       "4            Don’t Stop - Live  Licked Live In NYC   2022-06-10             5   \n",
       "\n",
       "   acousticness  danceability  energy  instrumentalness  liveness  loudness  \\\n",
       "0        0.0824         0.463   0.993          0.996000     0.932   -12.913   \n",
       "1        0.4370         0.326   0.965          0.233000     0.961    -4.803   \n",
       "2        0.4160         0.386   0.969          0.400000     0.956    -4.936   \n",
       "3        0.5670         0.369   0.985          0.000107     0.895    -5.535   \n",
       "4        0.4000         0.303   0.969          0.055900     0.966    -5.098   \n",
       "\n",
       "   speechiness    tempo  valence  popularity  duration_ms  duration_min  \\\n",
       "0       0.1100  118.001   0.0302          33        48640      0.810667   \n",
       "1       0.0759  131.455   0.3180          34       253173      4.219550   \n",
       "2       0.1150  130.066   0.3130          34       263160      4.386000   \n",
       "3       0.1930  132.994   0.1470          32       305880      5.098000   \n",
       "4       0.0930  130.533   0.2060          32       305106      5.085100   \n",
       "\n",
       "   live_music  pythonic_live_music  \n",
       "0        True                 True  \n",
       "1        True                 True  \n",
       "2        True                 True  \n",
       "3        True                 True  \n",
       "4        True                 True  "
      ]
     },
     "execution_count": 31,
     "metadata": {},
     "output_type": "execute_result"
    }
   ],
   "source": [
    "df.head()"
   ]
  },
  {
   "cell_type": "code",
   "execution_count": 32,
   "id": "142cb1e8-6993-4e96-9597-a22a5920269a",
   "metadata": {},
   "outputs": [
    {
     "data": {
      "text/plain": [
       "live_music\n",
       "False    1112\n",
       "True      498\n",
       "Name: live_music, dtype: int64"
      ]
     },
     "execution_count": 32,
     "metadata": {},
     "output_type": "execute_result"
    }
   ],
   "source": [
    "df.groupby('live_music')['live_music'].count()"
   ]
  },
  {
   "cell_type": "code",
   "execution_count": 33,
   "id": "4562cd2a-a688-4dd7-84b8-f98959de788d",
   "metadata": {},
   "outputs": [
    {
     "data": {
      "text/plain": [
       "pythonic_live_music\n",
       "False    1112\n",
       "True      498\n",
       "Name: pythonic_live_music, dtype: int64"
      ]
     },
     "execution_count": 33,
     "metadata": {},
     "output_type": "execute_result"
    }
   ],
   "source": [
    "df.groupby('pythonic_live_music')['pythonic_live_music'].count()"
   ]
  },
  {
   "cell_type": "code",
   "execution_count": 34,
   "id": "867b9f25-4b20-49ec-ba8e-83c6ad73fe5c",
   "metadata": {},
   "outputs": [],
   "source": [
    "df_studio = df[~df['live_music']]\n",
    "df_live = df[df['live_music']]"
   ]
  },
  {
   "cell_type": "code",
   "execution_count": 35,
   "id": "a793d8d0-ac4d-42a4-b09f-7ada7a5350c6",
   "metadata": {},
   "outputs": [
    {
     "name": "stdout",
     "output_type": "stream",
     "text": [
      "Duração Média Músicas ao Vivo:  5.088648962516734\n"
     ]
    }
   ],
   "source": [
    "print('Duração Média Músicas ao Vivo: ', df_live['duration_min'].mean())"
   ]
  },
  {
   "cell_type": "code",
   "execution_count": 36,
   "id": "4782eb86-42b9-488f-861f-8aaf0d93f34a",
   "metadata": {},
   "outputs": [
    {
     "name": "stdout",
     "output_type": "stream",
     "text": [
      "Duração Média Músicas em Estúdio:  3.940451363908873\n"
     ]
    }
   ],
   "source": [
    "print('Duração Média Músicas em Estúdio: ', df_studio['duration_min'].mean())"
   ]
  },
  {
   "cell_type": "code",
   "execution_count": 37,
   "id": "899615d8-1121-405e-a18f-30d5372d8800",
   "metadata": {},
   "outputs": [],
   "source": [
    "studio = df_studio.groupby('album')['loudness'].sum()\n",
    "live = df_live.groupby('album')['loudness'].sum()"
   ]
  },
  {
   "cell_type": "code",
   "execution_count": 38,
   "id": "18efeb14-e83a-4ac2-a65b-77fc911b2ff6",
   "metadata": {},
   "outputs": [
    {
     "data": {
      "image/png": "[encoded data removed]",
      "text/plain": [
       "<Figure size 1200x600 with 2 Axes>"
      ]
     },
     "metadata": {},
     "output_type": "display_data"
    }
   ],
   "source": [
    "fig, ax = plt.subplots(1, 2, figsize=(12, 6))\n",
    "\n",
    "sns.histplot(data=studio, bins=20, ax=ax[0])\n",
    "ax[0].set_title('Studio Albums')\n",
    "\n",
    "sns.histplot(data=live, bins=20, ax=ax[1])\n",
    "ax[1].set_title('Live Albums')\n",
    "\n",
    "fig.tight_layout()\n",
    "plt.ylim(0, 15)\n",
    "plt.show()"
   ]
  },
  {
   "cell_type": "code",
   "execution_count": 39,
   "id": "55b6b3cc-1991-4c4b-b304-f57f96363fba",
   "metadata": {},
   "outputs": [
    {
     "data": {
      "image/png": "[encoded data removed]",
      "text/plain": [
       "<Figure size 1200x600 with 1 Axes>"
      ]
     },
     "metadata": {},
     "output_type": "display_data"
    }
   ],
   "source": [
    "plt.figure(figsize=(12,6))\n",
    "\n",
    "sns.kdeplot(data=studio, label='Studio', fill=True)\n",
    "sns.kdeplot(data=live, label='Live', fill=True)\n",
    "\n",
    "plt.legend()\n",
    "plt.show()"
   ]
  },
  {
   "cell_type": "markdown",
   "id": "205aa794-9af2-43c5-9f80-5160df8ccc95",
   "metadata": {},
   "source": [
    "https://docs.scipy.org/doc/scipy/reference/generated/scipy.stats.shapiro.html"
   ]
  },
  {
   "cell_type": "code",
   "execution_count": 40,
   "id": "fcdf11cc-88f5-409e-b705-71f60c9d1801",
   "metadata": {},
   "outputs": [
    {
     "name": "stdout",
     "output_type": "stream",
     "text": [
      "Stat:  0.9082874908081146 p:  1.1916641427385643e-05\n"
     ]
    }
   ],
   "source": [
    "# Studio\n",
    "\n",
    "stat, p = shapiro(studio)\n",
    "print('Stat: ', stat, 'p: ', p)\n",
    "\n",
    "# Distribuição normal, se p < 0.05"
   ]
  },
  {
   "cell_type": "code",
   "execution_count": 41,
   "id": "77254977-8b4b-4c56-a082-a9dadf55e821",
   "metadata": {},
   "outputs": [
    {
     "name": "stdout",
     "output_type": "stream",
     "text": [
      "Stat:  0.7934490747323715 p:  2.603686247177359e-06\n"
     ]
    }
   ],
   "source": [
    "# Live\n",
    "\n",
    "stat, p = shapiro(live)\n",
    "print('Stat: ', stat, 'p: ', p)\n",
    "\n",
    "# Distribuição normal, se p < 0.05"
   ]
  }
 ],
 "metadata": {
  "kernelspec": {
   "display_name": "Python 3 (ipykernel)",
   "language": "python",
   "name": "python3"
  },
  "language_info": {
   "codemirror_mode": {
    "name": "ipython",
    "version": 3
   },
   "file_extension": ".py",
   "mimetype": "text/x-python",
   "name": "python",
   "nbconvert_exporter": "python",
   "pygments_lexer": "ipython3",
   "version": "3.9.6"
  }
 },
 "nbformat": 4,
 "nbformat_minor": 5
}

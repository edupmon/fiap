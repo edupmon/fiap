{
 "cells": [
  {
   "cell_type": "code",
   "execution_count": 1,
   "id": "1d213ef5-b6ac-44c4-84f7-4fa6de03ef07",
   "metadata": {},
   "outputs": [],
   "source": [
    "import pandas as pd"
   ]
  },
  {
   "cell_type": "code",
   "execution_count": 2,
   "id": "7f491393-d64c-43b6-b6c5-0d5c4072e353",
   "metadata": {},
   "outputs": [],
   "source": [
    "# Dados obtidos em: https://br.investing.com/indices/bovespa-historical-data\n",
    "\n",
    "# Carga do CSV\n",
    "data = pd.read_csv('dados/ibovespa-201907-202406.csv',\n",
    "                   usecols=['Data', 'Último'], dtype=str)\n",
    "\n",
    "# Renomeando as variáveis\n",
    "data.columns = ['date', 'closing']\n",
    "\n",
    "# Date as date data type\n",
    "data['date'] = pd.to_datetime(data['date'], format='%d.%m.%Y')\n",
    "\n",
    "# Limpeza dos caracteres para converter para float\n",
    "data['closing'] = data['closing'].str.replace('.', '').astype(float)\n",
    "\n",
    "# Garantindo a ordenação\n",
    "data = data.sort_values('date', ignore_index=True)\n",
    "\n",
    "# Gravação do CSV com os dados tratados utilizado no modelo\n",
    "data.to_csv('dados/dataset.csv', index=False)"
   ]
  }
 ],
 "metadata": {
  "kernelspec": {
   "display_name": "Python 3 (ipykernel)",
   "language": "python",
   "name": "python3"
  },
  "language_info": {
   "codemirror_mode": {
    "name": "ipython",
    "version": 3
   },
   "file_extension": ".py",
   "mimetype": "text/x-python",
   "name": "python",
   "nbconvert_exporter": "python",
   "pygments_lexer": "ipython3",
   "version": "3.9.6"
  }
 },
 "nbformat": 4,
 "nbformat_minor": 5
}

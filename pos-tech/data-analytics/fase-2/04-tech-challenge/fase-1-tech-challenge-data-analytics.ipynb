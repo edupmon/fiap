{
 "cells": [
  {
   "cell_type": "code",
   "execution_count": 1,
   "id": "ab9da725-6767-42e7-8e59-739cfe4f09ce",
   "metadata": {},
   "outputs": [],
   "source": [
    "import pandas as pd"
   ]
  },
  {
   "cell_type": "code",
   "execution_count": 2,
   "id": "c9c478b5-2cd6-47ce-ad0f-0f52582f355b",
   "metadata": {},
   "outputs": [],
   "source": [
    "data = pd.read_csv('dados/ibovespa-201907-202406.csv')"
   ]
  },
  {
   "cell_type": "code",
   "execution_count": 3,
   "id": "b14ed082-5901-4afe-8fb1-ffe5af8984c2",
   "metadata": {},
   "outputs": [
    {
     "data": {
      "text/html": [
       "<div>\n",
       "<style scoped>\n",
       "    .dataframe tbody tr th:only-of-type {\n",
       "        vertical-align: middle;\n",
       "    }\n",
       "\n",
       "    .dataframe tbody tr th {\n",
       "        vertical-align: top;\n",
       "    }\n",
       "\n",
       "    .dataframe thead th {\n",
       "        text-align: right;\n",
       "    }\n",
       "</style>\n",
       "<table border=\"1\" class=\"dataframe\">\n",
       "  <thead>\n",
       "    <tr style=\"text-align: right;\">\n",
       "      <th></th>\n",
       "      <th>Data</th>\n",
       "      <th>Último</th>\n",
       "      <th>Abertura</th>\n",
       "      <th>Máxima</th>\n",
       "      <th>Mínima</th>\n",
       "      <th>Vol.</th>\n",
       "      <th>Var%</th>\n",
       "    </tr>\n",
       "  </thead>\n",
       "  <tbody>\n",
       "    <tr>\n",
       "      <th>0</th>\n",
       "      <td>28.06.2024</td>\n",
       "      <td>123.907</td>\n",
       "      <td>124.308</td>\n",
       "      <td>124.500</td>\n",
       "      <td>123.298</td>\n",
       "      <td>9,07M</td>\n",
       "      <td>-0,32%</td>\n",
       "    </tr>\n",
       "    <tr>\n",
       "      <th>1</th>\n",
       "      <td>27.06.2024</td>\n",
       "      <td>124.308</td>\n",
       "      <td>122.642</td>\n",
       "      <td>124.308</td>\n",
       "      <td>122.642</td>\n",
       "      <td>8,71M</td>\n",
       "      <td>1,36%</td>\n",
       "    </tr>\n",
       "    <tr>\n",
       "      <th>2</th>\n",
       "      <td>26.06.2024</td>\n",
       "      <td>122.641</td>\n",
       "      <td>122.331</td>\n",
       "      <td>122.701</td>\n",
       "      <td>121.402</td>\n",
       "      <td>8,18M</td>\n",
       "      <td>0,25%</td>\n",
       "    </tr>\n",
       "    <tr>\n",
       "      <th>3</th>\n",
       "      <td>25.06.2024</td>\n",
       "      <td>122.331</td>\n",
       "      <td>122.634</td>\n",
       "      <td>122.849</td>\n",
       "      <td>121.997</td>\n",
       "      <td>6,94M</td>\n",
       "      <td>-0,25%</td>\n",
       "    </tr>\n",
       "    <tr>\n",
       "      <th>4</th>\n",
       "      <td>24.06.2024</td>\n",
       "      <td>122.637</td>\n",
       "      <td>121.343</td>\n",
       "      <td>122.840</td>\n",
       "      <td>121.307</td>\n",
       "      <td>7,84M</td>\n",
       "      <td>1,07%</td>\n",
       "    </tr>\n",
       "  </tbody>\n",
       "</table>\n",
       "</div>"
      ],
      "text/plain": [
       "         Data   Último  Abertura   Máxima   Mínima   Vol.    Var%\n",
       "0  28.06.2024  123.907   124.308  124.500  123.298  9,07M  -0,32%\n",
       "1  27.06.2024  124.308   122.642  124.308  122.642  8,71M   1,36%\n",
       "2  26.06.2024  122.641   122.331  122.701  121.402  8,18M   0,25%\n",
       "3  25.06.2024  122.331   122.634  122.849  121.997  6,94M  -0,25%\n",
       "4  24.06.2024  122.637   121.343  122.840  121.307  7,84M   1,07%"
      ]
     },
     "execution_count": 3,
     "metadata": {},
     "output_type": "execute_result"
    }
   ],
   "source": [
    "data.head()"
   ]
  }
 ],
 "metadata": {
  "kernelspec": {
   "display_name": "Python 3 (ipykernel)",
   "language": "python",
   "name": "python3"
  },
  "language_info": {
   "codemirror_mode": {
    "name": "ipython",
    "version": 3
   },
   "file_extension": ".py",
   "mimetype": "text/x-python",
   "name": "python",
   "nbconvert_exporter": "python",
   "pygments_lexer": "ipython3",
   "version": "3.9.6"
  }
 },
 "nbformat": 4,
 "nbformat_minor": 5
}

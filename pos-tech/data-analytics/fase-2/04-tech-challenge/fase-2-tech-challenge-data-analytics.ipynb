{
 "cells": [
  {
   "cell_type": "markdown",
   "id": "e35c896f-a6c7-477a-8b32-b0251205493c",
   "metadata": {},
   "source": [
    "# Bibliotecas"
   ]
  },
  {
   "cell_type": "code",
   "execution_count": 1,
   "id": "ab9da725-6767-42e7-8e59-739cfe4f09ce",
   "metadata": {},
   "outputs": [],
   "source": [
    "import pandas as pd\n",
    "import numpy as np\n",
    "import matplotlib.pyplot as plt\n",
    "from prophet import Prophet\n",
    "from sklearn.metrics import mean_absolute_percentage_error"
   ]
  },
  {
   "cell_type": "markdown",
   "id": "8b4f7cb2-145a-4d98-946c-7eaa58175157",
   "metadata": {},
   "source": [
    "# Funções"
   ]
  },
  {
   "cell_type": "code",
   "execution_count": 2,
   "id": "045ccbc5-be45-4588-9190-10814c5239ce",
   "metadata": {},
   "outputs": [],
   "source": [
    "# Ajuste da variável 'volume'\n",
    "def convert_volume(volume):\n",
    "    if isinstance(volume, str):  # Certifica que o volume é uma string\n",
    "        if 'M' in volume:\n",
    "            return float(volume.replace('M', '').replace(',', '.')) * 1e6\n",
    "        elif 'K' in volume:\n",
    "            return float(volume.replace('K', '').replace(',', '.')) * 1e3\n",
    "        else:\n",
    "            return float(volume.replace(',', '.'))\n",
    "    else:\n",
    "        return volume  # Retorna o valor original caso não seja string"
   ]
  },
  {
   "cell_type": "markdown",
   "id": "ef1a9c3f-3b8b-4c76-8344-4a32345a0995",
   "metadata": {},
   "source": [
    "# Preparação dos Dados"
   ]
  },
  {
   "cell_type": "code",
   "execution_count": 3,
   "id": "c9c478b5-2cd6-47ce-ad0f-0f52582f355b",
   "metadata": {},
   "outputs": [],
   "source": [
    "# Dados obtidos em: https://br.investing.com/indices/bovespa-historical-data\n",
    "\n",
    "# Carga do CSV\n",
    "data = pd.read_csv('dados/ibovespa-200407-202406.csv', dtype=str)\n",
    "\n",
    "# Renomeando as variáveis\n",
    "data.columns = ['date', 'closing', 'opening', 'max', 'min',\n",
    "                'volume', 'variation']\n",
    "\n",
    "# Date as date data type\n",
    "data['date'] = pd.to_datetime(data['date'], format='%d.%m.%Y')\n",
    "\n",
    "# Limpeza dos caracteres para converter para float\n",
    "for var in ['closing', 'opening', 'max', 'min', 'variation']:\n",
    "    data[var] = data[var].str.replace('%', '')\\\n",
    "                         .str.replace('.', '')\\\n",
    "                         .str.replace(',', '.')\\\n",
    "                         .astype(float)\n",
    "\n",
    "# Ajuste da variável 'volume'\n",
    "data['volume'] = data['volume'].apply(convert_volume)\n",
    "\n",
    "# Garantindo a ordenação\n",
    "data = data.sort_values('date', ignore_index=True)\n",
    "\n",
    "# Gravação do CSV com os dados tratados utilizado no modelo\n",
    "data.to_csv('dados/dataset.csv', index=False)"
   ]
  },
  {
   "cell_type": "markdown",
   "id": "3b299c65-5bae-46b6-a298-679e6c00b7c3",
   "metadata": {},
   "source": [
    "# Descrição dos Dados"
   ]
  },
  {
   "cell_type": "markdown",
   "id": "a7646329-17d7-4009-a534-77b9e5d8fa9e",
   "metadata": {},
   "source": [
    "**Variáveis:**\n",
    "\n",
    "|Variável|Descrição|\n",
    "|-|-|\n",
    "|date|Data do Pregão|\n",
    "|closing|Valor no Fechamento|\n",
    "|opening|Valor na Abertura|\n",
    "|max|Valor Máximo|\n",
    "|min|Valor Mínimo|\n",
    "|volume|Volume Negociado|\n",
    "|variation|Variação percentual com o fechamento do dia anterior|"
   ]
  },
  {
   "cell_type": "code",
   "execution_count": 4,
   "id": "de3c1e14-a970-4227-93a6-9f92839dae2e",
   "metadata": {},
   "outputs": [
    {
     "name": "stdout",
     "output_type": "stream",
     "text": [
      "<class 'pandas.core.frame.DataFrame'>\n",
      "RangeIndex: 4951 entries, 0 to 4950\n",
      "Data columns (total 7 columns):\n",
      " #   Column     Non-Null Count  Dtype         \n",
      "---  ------     --------------  -----         \n",
      " 0   date       4951 non-null   datetime64[ns]\n",
      " 1   closing    4951 non-null   float64       \n",
      " 2   opening    4951 non-null   float64       \n",
      " 3   max        4951 non-null   float64       \n",
      " 4   min        4951 non-null   float64       \n",
      " 5   volume     4950 non-null   float64       \n",
      " 6   variation  4951 non-null   float64       \n",
      "dtypes: datetime64[ns](1), float64(6)\n",
      "memory usage: 270.9 KB\n"
     ]
    }
   ],
   "source": [
    "data.info()"
   ]
  },
  {
   "cell_type": "code",
   "execution_count": 5,
   "id": "b14ed082-5901-4afe-8fb1-ffe5af8984c2",
   "metadata": {},
   "outputs": [
    {
     "data": {
      "text/html": [
       "<div>\n",
       "<style scoped>\n",
       "    .dataframe tbody tr th:only-of-type {\n",
       "        vertical-align: middle;\n",
       "    }\n",
       "\n",
       "    .dataframe tbody tr th {\n",
       "        vertical-align: top;\n",
       "    }\n",
       "\n",
       "    .dataframe thead th {\n",
       "        text-align: right;\n",
       "    }\n",
       "</style>\n",
       "<table border=\"1\" class=\"dataframe\">\n",
       "  <thead>\n",
       "    <tr style=\"text-align: right;\">\n",
       "      <th></th>\n",
       "      <th>date</th>\n",
       "      <th>closing</th>\n",
       "      <th>opening</th>\n",
       "      <th>max</th>\n",
       "      <th>min</th>\n",
       "      <th>volume</th>\n",
       "      <th>variation</th>\n",
       "    </tr>\n",
       "  </thead>\n",
       "  <tbody>\n",
       "    <tr>\n",
       "      <th>0</th>\n",
       "      <td>2004-07-01</td>\n",
       "      <td>21349.0</td>\n",
       "      <td>21152.0</td>\n",
       "      <td>21394.0</td>\n",
       "      <td>21094.0</td>\n",
       "      <td>336960000.0</td>\n",
       "      <td>0.95</td>\n",
       "    </tr>\n",
       "    <tr>\n",
       "      <th>1</th>\n",
       "      <td>2004-07-02</td>\n",
       "      <td>21568.0</td>\n",
       "      <td>21349.0</td>\n",
       "      <td>21747.0</td>\n",
       "      <td>21349.0</td>\n",
       "      <td>296500000.0</td>\n",
       "      <td>1.03</td>\n",
       "    </tr>\n",
       "    <tr>\n",
       "      <th>2</th>\n",
       "      <td>2004-07-05</td>\n",
       "      <td>21670.0</td>\n",
       "      <td>21565.0</td>\n",
       "      <td>21775.0</td>\n",
       "      <td>21429.0</td>\n",
       "      <td>122150000.0</td>\n",
       "      <td>0.47</td>\n",
       "    </tr>\n",
       "    <tr>\n",
       "      <th>3</th>\n",
       "      <td>2004-07-06</td>\n",
       "      <td>21188.0</td>\n",
       "      <td>21669.0</td>\n",
       "      <td>21669.0</td>\n",
       "      <td>21124.0</td>\n",
       "      <td>211350000.0</td>\n",
       "      <td>-2.22</td>\n",
       "    </tr>\n",
       "    <tr>\n",
       "      <th>4</th>\n",
       "      <td>2004-07-07</td>\n",
       "      <td>21171.0</td>\n",
       "      <td>21190.0</td>\n",
       "      <td>21364.0</td>\n",
       "      <td>21118.0</td>\n",
       "      <td>197800000.0</td>\n",
       "      <td>-0.08</td>\n",
       "    </tr>\n",
       "  </tbody>\n",
       "</table>\n",
       "</div>"
      ],
      "text/plain": [
       "        date  closing  opening      max      min       volume  variation\n",
       "0 2004-07-01  21349.0  21152.0  21394.0  21094.0  336960000.0       0.95\n",
       "1 2004-07-02  21568.0  21349.0  21747.0  21349.0  296500000.0       1.03\n",
       "2 2004-07-05  21670.0  21565.0  21775.0  21429.0  122150000.0       0.47\n",
       "3 2004-07-06  21188.0  21669.0  21669.0  21124.0  211350000.0      -2.22\n",
       "4 2004-07-07  21171.0  21190.0  21364.0  21118.0  197800000.0      -0.08"
      ]
     },
     "execution_count": 5,
     "metadata": {},
     "output_type": "execute_result"
    }
   ],
   "source": [
    "data.head()"
   ]
  },
  {
   "cell_type": "code",
   "execution_count": 6,
   "id": "1302be50-07fd-479d-a637-433a4fd7529c",
   "metadata": {},
   "outputs": [
    {
     "data": {
      "text/html": [
       "<div>\n",
       "<style scoped>\n",
       "    .dataframe tbody tr th:only-of-type {\n",
       "        vertical-align: middle;\n",
       "    }\n",
       "\n",
       "    .dataframe tbody tr th {\n",
       "        vertical-align: top;\n",
       "    }\n",
       "\n",
       "    .dataframe thead th {\n",
       "        text-align: right;\n",
       "    }\n",
       "</style>\n",
       "<table border=\"1\" class=\"dataframe\">\n",
       "  <thead>\n",
       "    <tr style=\"text-align: right;\">\n",
       "      <th></th>\n",
       "      <th>closing</th>\n",
       "      <th>opening</th>\n",
       "      <th>max</th>\n",
       "      <th>min</th>\n",
       "      <th>volume</th>\n",
       "      <th>variation</th>\n",
       "    </tr>\n",
       "  </thead>\n",
       "  <tbody>\n",
       "    <tr>\n",
       "      <th>count</th>\n",
       "      <td>4951.000000</td>\n",
       "      <td>4951.000000</td>\n",
       "      <td>4951.000000</td>\n",
       "      <td>4951.000000</td>\n",
       "      <td>4.950000e+03</td>\n",
       "      <td>4951.000000</td>\n",
       "    </tr>\n",
       "    <tr>\n",
       "      <th>mean</th>\n",
       "      <td>69468.257322</td>\n",
       "      <td>69448.109069</td>\n",
       "      <td>70128.341345</td>\n",
       "      <td>68773.944860</td>\n",
       "      <td>2.648691e+07</td>\n",
       "      <td>0.049800</td>\n",
       "    </tr>\n",
       "    <tr>\n",
       "      <th>std</th>\n",
       "      <td>28556.985815</td>\n",
       "      <td>28554.637732</td>\n",
       "      <td>28731.113309</td>\n",
       "      <td>28376.914785</td>\n",
       "      <td>6.203949e+07</td>\n",
       "      <td>1.675283</td>\n",
       "    </tr>\n",
       "    <tr>\n",
       "      <th>min</th>\n",
       "      <td>20887.000000</td>\n",
       "      <td>20885.000000</td>\n",
       "      <td>21167.000000</td>\n",
       "      <td>20821.000000</td>\n",
       "      <td>1.121000e+05</td>\n",
       "      <td>-14.780000</td>\n",
       "    </tr>\n",
       "    <tr>\n",
       "      <th>25%</th>\n",
       "      <td>50443.000000</td>\n",
       "      <td>50431.500000</td>\n",
       "      <td>51086.000000</td>\n",
       "      <td>49905.000000</td>\n",
       "      <td>2.820000e+06</td>\n",
       "      <td>-0.820000</td>\n",
       "    </tr>\n",
       "    <tr>\n",
       "      <th>50%</th>\n",
       "      <td>61923.000000</td>\n",
       "      <td>61911.000000</td>\n",
       "      <td>62494.000000</td>\n",
       "      <td>61300.000000</td>\n",
       "      <td>4.425000e+06</td>\n",
       "      <td>0.070000</td>\n",
       "    </tr>\n",
       "    <tr>\n",
       "      <th>75%</th>\n",
       "      <td>95429.500000</td>\n",
       "      <td>95407.500000</td>\n",
       "      <td>96395.000000</td>\n",
       "      <td>94391.500000</td>\n",
       "      <td>1.146000e+07</td>\n",
       "      <td>0.960000</td>\n",
       "    </tr>\n",
       "    <tr>\n",
       "      <th>max</th>\n",
       "      <td>134194.000000</td>\n",
       "      <td>134194.000000</td>\n",
       "      <td>134392.000000</td>\n",
       "      <td>133832.000000</td>\n",
       "      <td>9.949600e+08</td>\n",
       "      <td>14.660000</td>\n",
       "    </tr>\n",
       "  </tbody>\n",
       "</table>\n",
       "</div>"
      ],
      "text/plain": [
       "             closing        opening            max            min  \\\n",
       "count    4951.000000    4951.000000    4951.000000    4951.000000   \n",
       "mean    69468.257322   69448.109069   70128.341345   68773.944860   \n",
       "std     28556.985815   28554.637732   28731.113309   28376.914785   \n",
       "min     20887.000000   20885.000000   21167.000000   20821.000000   \n",
       "25%     50443.000000   50431.500000   51086.000000   49905.000000   \n",
       "50%     61923.000000   61911.000000   62494.000000   61300.000000   \n",
       "75%     95429.500000   95407.500000   96395.000000   94391.500000   \n",
       "max    134194.000000  134194.000000  134392.000000  133832.000000   \n",
       "\n",
       "             volume    variation  \n",
       "count  4.950000e+03  4951.000000  \n",
       "mean   2.648691e+07     0.049800  \n",
       "std    6.203949e+07     1.675283  \n",
       "min    1.121000e+05   -14.780000  \n",
       "25%    2.820000e+06    -0.820000  \n",
       "50%    4.425000e+06     0.070000  \n",
       "75%    1.146000e+07     0.960000  \n",
       "max    9.949600e+08    14.660000  "
      ]
     },
     "execution_count": 6,
     "metadata": {},
     "output_type": "execute_result"
    }
   ],
   "source": [
    "data.describe(include=np.number)"
   ]
  },
  {
   "cell_type": "code",
   "execution_count": 7,
   "id": "e90ca5fe-a864-4448-b2a2-9d4ee4b8a511",
   "metadata": {},
   "outputs": [
    {
     "name": "stdout",
     "output_type": "stream",
     "text": [
      "Período:  2004-07-01 à 2024-06-28\n"
     ]
    }
   ],
   "source": [
    "print('Período: ', str(data['date'].min())[:10], 'à',\n",
    "      str(data['date'].max())[:10])"
   ]
  },
  {
   "cell_type": "markdown",
   "id": "9a5ab724-bbdf-400b-bcda-11c08719c85b",
   "metadata": {},
   "source": [
    "# Prophet"
   ]
  },
  {
   "cell_type": "code",
   "execution_count": 8,
   "id": "c38bdb8a-7b5e-4666-bbc7-ae2765649f2e",
   "metadata": {},
   "outputs": [],
   "source": [
    "# Dataset para o Prophet\n",
    "prophet_df = data[['date', 'closing']]\n",
    "prophet_df.columns = ['ds', 'y']"
   ]
  },
  {
   "cell_type": "code",
   "execution_count": 9,
   "id": "b6fcfc5b-cb48-4001-b0a8-3fc50fcb3624",
   "metadata": {},
   "outputs": [],
   "source": [
    "# Dados de teste e treino\n",
    "prophet_train_size = int(len(prophet_df) * 0.75)\n",
    "prophet_train_df = prophet_df[:prophet_train_size]\n",
    "prophet_test_df = prophet_df[prophet_train_size:]"
   ]
  },
  {
   "cell_type": "code",
   "execution_count": 10,
   "id": "dff030da-01a5-40f8-a8ea-269be22ce571",
   "metadata": {},
   "outputs": [
    {
     "name": "stderr",
     "output_type": "stream",
     "text": [
      "19:52:14 - cmdstanpy - INFO - Chain [1] start processing\n",
      "19:52:15 - cmdstanpy - INFO - Chain [1] done processing\n"
     ]
    },
    {
     "data": {
      "text/plain": [
       "<prophet.forecaster.Prophet at 0x13b5782b0>"
      ]
     },
     "execution_count": 10,
     "metadata": {},
     "output_type": "execute_result"
    }
   ],
   "source": [
    "# Modelo\n",
    "prophet_model = Prophet()\n",
    "prophet_model.fit(prophet_train_df)"
   ]
  },
  {
   "cell_type": "code",
   "execution_count": 11,
   "id": "1af3df3f-148b-453c-ac23-512883996136",
   "metadata": {},
   "outputs": [],
   "source": [
    "# Previsão\n",
    "prophet_future = prophet_model\\\n",
    "                     .make_future_dataframe(periods=len(prophet_test_df))\n",
    "prophet_forecast = prophet_model.predict(prophet_future)"
   ]
  },
  {
   "cell_type": "code",
   "execution_count": 12,
   "id": "f082590f-21a2-4e4a-b648-109552794fff",
   "metadata": {},
   "outputs": [],
   "source": [
    "# Extrai os resultados previstos\n",
    "prophet_forecasted_values = prophet_forecast[['ds', 'yhat']]\\\n",
    "                                .tail(len(prophet_test_df))"
   ]
  },
  {
   "cell_type": "code",
   "execution_count": 13,
   "id": "2dd12cec-ac5f-44b9-89d3-6c1489cb949c",
   "metadata": {},
   "outputs": [],
   "source": [
    "# Combina os valores reais e previstos\n",
    "prophet_results = prophet_test_df.merge(prophet_forecasted_values, on='ds')"
   ]
  },
  {
   "cell_type": "code",
   "execution_count": 14,
   "id": "0e8fbc0a-707e-4911-97bf-c31e5ac664eb",
   "metadata": {},
   "outputs": [
    {
     "name": "stdout",
     "output_type": "stream",
     "text": [
      "Prophet MAPE: 0.16286013244420247\n",
      "Prophet WMAPE: 0.15424768695032362\n"
     ]
    }
   ],
   "source": [
    "# MAPE e WMAPE\n",
    "prophet_mape = mean_absolute_percentage_error(prophet_results['y'],\n",
    "                                              prophet_results['yhat'])\n",
    "prophet_wmape = sum(abs(prophet_results['y'] - prophet_results['yhat']))\\\n",
    "                    / sum(prophet_results['y'])\n",
    "\n",
    "print(f\"Prophet MAPE: {prophet_mape}\")\n",
    "print(f\"Prophet WMAPE: {prophet_wmape}\")"
   ]
  },
  {
   "cell_type": "code",
   "execution_count": 15,
   "id": "2713ee6d-bca0-44bc-81d5-5916609cd1f3",
   "metadata": {},
   "outputs": [
    {
     "data": {
      "image/png": "[encoded data removed]",
      "text/plain": [
       "<Figure size 1200x600 with 1 Axes>"
      ]
     },
     "metadata": {},
     "output_type": "display_data"
    }
   ],
   "source": [
    "# Gráfico dos resultados\n",
    "plt.figure(figsize=(12, 6))\n",
    "plt.plot(prophet_train_df['ds'], prophet_train_df['y'],\n",
    "         label='Prophet Treino')\n",
    "plt.plot(prophet_test_df['ds'], prophet_test_df['y'],\n",
    "         label='Prophet Teste')\n",
    "plt.plot(prophet_forecast['ds'], prophet_forecast['yhat'],\n",
    "         label='Prophet Previsão')\n",
    "plt.xlabel('Data')\n",
    "plt.ylabel('Fechamento')\n",
    "plt.title('Fechamento Previsto')\n",
    "plt.legend()\n",
    "plt.show()"
   ]
  }
 ],
 "metadata": {
  "kernelspec": {
   "display_name": "Python 3 (ipykernel)",
   "language": "python",
   "name": "python3"
  },
  "language_info": {
   "codemirror_mode": {
    "name": "ipython",
    "version": 3
   },
   "file_extension": ".py",
   "mimetype": "text/x-python",
   "name": "python",
   "nbconvert_exporter": "python",
   "pygments_lexer": "ipython3",
   "version": "3.9.6"
  }
 },
 "nbformat": 4,
 "nbformat_minor": 5
}

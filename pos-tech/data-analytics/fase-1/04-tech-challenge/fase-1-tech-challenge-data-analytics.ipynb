{
 "cells": [
  {
   "cell_type": "code",
   "execution_count": 1,
   "id": "decc59ad-eb84-41ff-a5b6-7d13cf03f43e",
   "metadata": {},
   "outputs": [
    {
     "name": "stderr",
     "output_type": "stream",
     "text": [
      "/Users/edupmon/Library/Python/3.9/lib/python/site-packages/urllib3/__init__.py:35: NotOpenSSLWarning: urllib3 v2 only supports OpenSSL 1.1.1+, currently the 'ssl' module is compiled with 'LibreSSL 2.8.3'. See: https://github.com/urllib3/urllib3/issues/3020\n",
      "  warnings.warn(\n"
     ]
    }
   ],
   "source": [
    "import io\n",
    "import os\n",
    "import glob\n",
    "import locale\n",
    "import requests\n",
    "import pandas as pd\n",
    "import seaborn as sns\n",
    "import matplotlib.pyplot as plt"
   ]
  },
  {
   "cell_type": "code",
   "execution_count": 2,
   "id": "b9c9213b-2788-424e-b27b-baeb087e46b5",
   "metadata": {},
   "outputs": [
    {
     "data": {
      "text/plain": [
       "'pt_BR.UTF-8'"
      ]
     },
     "execution_count": 2,
     "metadata": {},
     "output_type": "execute_result"
    }
   ],
   "source": [
    "locale.setlocale(locale.LC_ALL, 'pt_BR.UTF-8')"
   ]
  },
  {
   "cell_type": "code",
   "execution_count": 3,
   "id": "30584dd3-aadc-4ded-8044-310e3004dafd",
   "metadata": {},
   "outputs": [],
   "source": [
    "pd.set_option('display.float_format',\n",
    "              lambda x: locale.format_string('%.2f', x, grouping=True))"
   ]
  },
  {
   "cell_type": "markdown",
   "id": "383877d5-c94f-4c96-a397-1836ddbee527",
   "metadata": {},
   "source": [
    "# Análise da exportação brasileira de vinhos de mesa"
   ]
  },
  {
   "cell_type": "markdown",
   "id": "4b84a330-78d3-468d-8bfa-c3a104bf37d9",
   "metadata": {},
   "source": [
    "## Períodos de interesse (entre 1970 e 2023)"
   ]
  },
  {
   "cell_type": "code",
   "execution_count": 4,
   "id": "7b7ffdc5-6803-40cd-b0e6-f2d86dd18741",
   "metadata": {},
   "outputs": [],
   "source": [
    "ano_inicial = 2009\n",
    "ano_final = 2023"
   ]
  },
  {
   "cell_type": "markdown",
   "id": "8ac6bc94-8d33-4bda-9515-96ff607ce45c",
   "metadata": {},
   "source": [
    "## Obtendo os dados de exportação de vinhos"
   ]
  },
  {
   "cell_type": "raw",
   "id": "9bbfb6c1-b224-4f72-ba62-5e05c2504d1b",
   "metadata": {},
   "source": [
    "# Origem dos dados de exportação: http://vitibrasil.cnpuv.embrapa.br\n",
    "\n",
    "'''Os dados podem ser acessados, diretamente através da página, passando como\n",
    "   parâmetro o ano e as opções dos dados que se deseja acessar.\n",
    "   Neste caso: &opcao=opt_06&subopcao=subopt_01 - Tabela de exportação de\n",
    "                                                  vinhos de mesa\n",
    "   A tabela de índice 3 contém os dados de interesse e as duas últimas linhas\n",
    "   podem ser desconsideradas (uma linha de rodapé e uma linha de total)'''\n",
    "\n",
    "# Exportação dos dados de origem para CSV\n",
    "# (para preservar os dados do estudo caso a página seja alterada ou removida)\n",
    "\n",
    "url = 'http://vitibrasil.cnpuv.embrapa.br/index.php?'\n",
    "\n",
    "# Obtendo os dados\n",
    "for ano in range(ano_inicial, ano_final + 1):\n",
    "    # Parâmetros da URL\n",
    "    url += f'ano={ano}&opcao=opt_06&subopcao=subopt_01'\n",
    "    # Leitura dos dados\n",
    "    df = pd.read_html(io.StringIO(requests.get(url).text))[3][:-2]\n",
    "    # Renomeando as colunas\n",
    "    df.rename(columns={'Países': 'pais', 'Quantidade (Kg)': 'qtd_litros',\n",
    "                       'Valor (US$)': 'vlr_usd'}, inplace=True)\n",
    "    # Substituindo os caracteres '-' e '.' nas colunas de qtd e vlr\n",
    "    df['qtd_litros'] = df['qtd_litros'].str.replace('-|\\.', '', regex = True)\n",
    "    df['vlr_usd'] = df['vlr_usd'].str.replace('-|\\.', '', regex = True)\n",
    "    # Coluna ano\n",
    "    df['ano'] = ano\n",
    "    # Exportando o CSV\n",
    "    df.to_csv(f'dados/exp-vinho-{ano}.csv', index=False)"
   ]
  },
  {
   "cell_type": "markdown",
   "id": "2b80beec-9248-4119-9dcc-921c252689e7",
   "metadata": {},
   "source": [
    "## Carregando os dados de exportação de vinhos em um dataframe"
   ]
  },
  {
   "cell_type": "code",
   "execution_count": 5,
   "id": "d677143e-2ed1-482c-95dc-d22e5302a3bc",
   "metadata": {},
   "outputs": [
    {
     "data": {
      "text/html": [
       "<div>\n",
       "<style scoped>\n",
       "    .dataframe tbody tr th:only-of-type {\n",
       "        vertical-align: middle;\n",
       "    }\n",
       "\n",
       "    .dataframe tbody tr th {\n",
       "        vertical-align: top;\n",
       "    }\n",
       "\n",
       "    .dataframe thead th {\n",
       "        text-align: right;\n",
       "    }\n",
       "</style>\n",
       "<table border=\"1\" class=\"dataframe\">\n",
       "  <thead>\n",
       "    <tr style=\"text-align: right;\">\n",
       "      <th></th>\n",
       "      <th>pais</th>\n",
       "      <th>qtd_litros</th>\n",
       "      <th>vlr_usd</th>\n",
       "      <th>ano</th>\n",
       "    </tr>\n",
       "  </thead>\n",
       "  <tbody>\n",
       "    <tr>\n",
       "      <th>0</th>\n",
       "      <td>Afeganistão</td>\n",
       "      <td>0,00</td>\n",
       "      <td>0,00</td>\n",
       "      <td>2021</td>\n",
       "    </tr>\n",
       "    <tr>\n",
       "      <th>1</th>\n",
       "      <td>África do Sul</td>\n",
       "      <td>0,00</td>\n",
       "      <td>0,00</td>\n",
       "      <td>2021</td>\n",
       "    </tr>\n",
       "    <tr>\n",
       "      <th>2</th>\n",
       "      <td>Alemanha, República Democrática</td>\n",
       "      <td>225.086,00</td>\n",
       "      <td>393.482,00</td>\n",
       "      <td>2021</td>\n",
       "    </tr>\n",
       "    <tr>\n",
       "      <th>3</th>\n",
       "      <td>Angola</td>\n",
       "      <td>54.786,00</td>\n",
       "      <td>84.235,00</td>\n",
       "      <td>2021</td>\n",
       "    </tr>\n",
       "    <tr>\n",
       "      <th>4</th>\n",
       "      <td>Anguilla</td>\n",
       "      <td>0,00</td>\n",
       "      <td>0,00</td>\n",
       "      <td>2021</td>\n",
       "    </tr>\n",
       "  </tbody>\n",
       "</table>\n",
       "</div>"
      ],
      "text/plain": [
       "                              pais  qtd_litros    vlr_usd   ano\n",
       "0                      Afeganistão        0,00       0,00  2021\n",
       "1                    África do Sul        0,00       0,00  2021\n",
       "2  Alemanha, República Democrática  225.086,00 393.482,00  2021\n",
       "3                           Angola   54.786,00  84.235,00  2021\n",
       "4                         Anguilla        0,00       0,00  2021"
      ]
     },
     "execution_count": 5,
     "metadata": {},
     "output_type": "execute_result"
    }
   ],
   "source": [
    "# Obtendo a lista de arquivos que será carregada no dataframe\n",
    "arqs_csv = glob.glob(os.path.join('dados', 'exp-vinho-*.csv'))\n",
    "\n",
    "# Definindo o dataframe que irá receber os dados de todos os arquivos CSV\n",
    "'''Concatenação dos dataframes obtidos à partir da lista de arquivos (list\n",
    "   comprehension abaixo), ignorando a primeira linha dos CSVs e definindo o\n",
    "   nome das colunas manualmente'''\n",
    "exportacao = pd.concat([pd.read_csv(arq,\n",
    "                                    skiprows=1,\n",
    "                                    na_values=0,\n",
    "                                    names=['pais',\n",
    "                                           'qtd_litros',\n",
    "                                           'vlr_usd',\n",
    "                                           'ano']) for arq in arqs_csv],\n",
    "                       ignore_index=True)\n",
    "\n",
    "exportacao.fillna(0, inplace=True)\n",
    "exportacao.head()"
   ]
  },
  {
   "cell_type": "markdown",
   "id": "4a07b457-45b3-4cdc-86fd-cc6b99cddd89",
   "metadata": {},
   "source": [
    "## Analisando a exportação total por país"
   ]
  },
  {
   "cell_type": "code",
   "execution_count": 6,
   "id": "acaf6778-7d86-4cdf-a7d4-e0710a029cb9",
   "metadata": {},
   "outputs": [
    {
     "data": {
      "text/html": [
       "<div>\n",
       "<style scoped>\n",
       "    .dataframe tbody tr th:only-of-type {\n",
       "        vertical-align: middle;\n",
       "    }\n",
       "\n",
       "    .dataframe tbody tr th {\n",
       "        vertical-align: top;\n",
       "    }\n",
       "\n",
       "    .dataframe thead th {\n",
       "        text-align: right;\n",
       "    }\n",
       "</style>\n",
       "<table border=\"1\" class=\"dataframe\">\n",
       "  <thead>\n",
       "    <tr style=\"text-align: right;\">\n",
       "      <th></th>\n",
       "      <th>qtd_litros</th>\n",
       "      <th>vlr_usd</th>\n",
       "    </tr>\n",
       "    <tr>\n",
       "      <th>pais</th>\n",
       "      <th></th>\n",
       "      <th></th>\n",
       "    </tr>\n",
       "  </thead>\n",
       "  <tbody>\n",
       "    <tr>\n",
       "      <th>Afeganistão</th>\n",
       "      <td>0,00</td>\n",
       "      <td>0,00</td>\n",
       "    </tr>\n",
       "    <tr>\n",
       "      <th>Alemanha, República Democrática</th>\n",
       "      <td>3.376.290,00</td>\n",
       "      <td>5.902.230,00</td>\n",
       "    </tr>\n",
       "    <tr>\n",
       "      <th>Angola</th>\n",
       "      <td>821.790,00</td>\n",
       "      <td>1.263.525,00</td>\n",
       "    </tr>\n",
       "    <tr>\n",
       "      <th>Anguilla</th>\n",
       "      <td>0,00</td>\n",
       "      <td>0,00</td>\n",
       "    </tr>\n",
       "    <tr>\n",
       "      <th>Antilhas Holandesas</th>\n",
       "      <td>123.525,00</td>\n",
       "      <td>159.765,00</td>\n",
       "    </tr>\n",
       "  </tbody>\n",
       "</table>\n",
       "</div>"
      ],
      "text/plain": [
       "                                  qtd_litros      vlr_usd\n",
       "pais                                                     \n",
       "Afeganistão                             0,00         0,00\n",
       "Alemanha, República Democrática 3.376.290,00 5.902.230,00\n",
       "Angola                            821.790,00 1.263.525,00\n",
       "Anguilla                                0,00         0,00\n",
       "Antilhas Holandesas               123.525,00   159.765,00"
      ]
     },
     "execution_count": 6,
     "metadata": {},
     "output_type": "execute_result"
    }
   ],
   "source": [
    "# Exportação total por país\n",
    "total_por_pais = exportacao.groupby('pais')[['qtd_litros', 'vlr_usd']]\\\n",
    "                           .sum()\\\n",
    "                           .copy()\n",
    "\n",
    "total_por_pais.head()"
   ]
  },
  {
   "cell_type": "code",
   "execution_count": 7,
   "id": "33dfde58-fffa-4bf9-9e67-1585bfecdfb0",
   "metadata": {},
   "outputs": [
    {
     "name": "stdout",
     "output_type": "stream",
     "text": [
      "\n",
      "Período de análise.............: 2009 - 2023\n",
      "Total de países................: 137 países\n",
      "Total de países com exportação.: 39 países\n",
      "\n"
     ]
    }
   ],
   "source": [
    "# Países sem exportação\n",
    "paises_sem_exportacao = total_por_pais.query('qtd_litros == 0 & vlr_usd == 0')\n",
    "\n",
    "\n",
    "'''Obtendo a lista de paises com exportação à partir dos conjutos de índices\n",
    "   dos dois dataframes - total_por_pais e paises_sem_exportacao'''\n",
    "\n",
    "conj_paises = set(total_por_pais.index.tolist())\n",
    "conj_paises_sem_exportacao = set(paises_sem_exportacao.index.tolist())\n",
    "\n",
    "conj_paises_com_exportacao = conj_paises - conj_paises_sem_exportacao\n",
    "\n",
    "\n",
    "# Países com exportação\n",
    "paises_com_exportacao = total_por_pais.loc[list(conj_paises_com_exportacao)]\n",
    "paises_com_exportacao['usd_por_litro'] = paises_com_exportacao['vlr_usd']\\\n",
    "                                         / paises_com_exportacao['qtd_litros']\n",
    "\n",
    "print(f'''\n",
    "Período de análise.............: {ano_inicial} - {ano_final}\n",
    "Total de países................: {len(conj_paises)} países\n",
    "Total de países com exportação.: {len(conj_paises_com_exportacao)} países\n",
    "''')"
   ]
  },
  {
   "cell_type": "markdown",
   "id": "019599d5-aa3e-468c-81ca-f17498e3b332",
   "metadata": {},
   "source": [
    "## Cinco países com maior volume total (em litros) das exportações"
   ]
  },
  {
   "cell_type": "code",
   "execution_count": 8,
   "id": "f74f66cd-1aa8-44af-a0f0-3bd10b2f816f",
   "metadata": {},
   "outputs": [
    {
     "name": "stdout",
     "output_type": "stream",
     "text": [
      "Dados do período total: 2009 - 2023\n"
     ]
    },
    {
     "data": {
      "text/html": [
       "<div>\n",
       "<style scoped>\n",
       "    .dataframe tbody tr th:only-of-type {\n",
       "        vertical-align: middle;\n",
       "    }\n",
       "\n",
       "    .dataframe tbody tr th {\n",
       "        vertical-align: top;\n",
       "    }\n",
       "\n",
       "    .dataframe thead th {\n",
       "        text-align: right;\n",
       "    }\n",
       "</style>\n",
       "<table border=\"1\" class=\"dataframe\">\n",
       "  <thead>\n",
       "    <tr style=\"text-align: right;\">\n",
       "      <th></th>\n",
       "      <th>qtd_litros</th>\n",
       "      <th>vlr_usd</th>\n",
       "      <th>usd_por_litro</th>\n",
       "    </tr>\n",
       "    <tr>\n",
       "      <th>pais</th>\n",
       "      <th></th>\n",
       "      <th></th>\n",
       "      <th></th>\n",
       "    </tr>\n",
       "  </thead>\n",
       "  <tbody>\n",
       "    <tr>\n",
       "      <th>Rússia</th>\n",
       "      <td>328.693.710,00</td>\n",
       "      <td>85.984.200,00</td>\n",
       "      <td>0,26</td>\n",
       "    </tr>\n",
       "    <tr>\n",
       "      <th>China</th>\n",
       "      <td>23.301.240,00</td>\n",
       "      <td>7.236.000,00</td>\n",
       "      <td>0,31</td>\n",
       "    </tr>\n",
       "    <tr>\n",
       "      <th>Paraguai</th>\n",
       "      <td>7.303.905,00</td>\n",
       "      <td>5.881.305,00</td>\n",
       "      <td>0,81</td>\n",
       "    </tr>\n",
       "    <tr>\n",
       "      <th>Estados Unidos</th>\n",
       "      <td>5.584.785,00</td>\n",
       "      <td>9.900.990,00</td>\n",
       "      <td>1,77</td>\n",
       "    </tr>\n",
       "    <tr>\n",
       "      <th>Alemanha, República Democrática</th>\n",
       "      <td>3.376.290,00</td>\n",
       "      <td>5.902.230,00</td>\n",
       "      <td>1,75</td>\n",
       "    </tr>\n",
       "  </tbody>\n",
       "</table>\n",
       "</div>"
      ],
      "text/plain": [
       "                                    qtd_litros       vlr_usd  usd_por_litro\n",
       "pais                                                                       \n",
       "Rússia                          328.693.710,00 85.984.200,00           0,26\n",
       "China                            23.301.240,00  7.236.000,00           0,31\n",
       "Paraguai                          7.303.905,00  5.881.305,00           0,81\n",
       "Estados Unidos                    5.584.785,00  9.900.990,00           1,77\n",
       "Alemanha, República Democrática   3.376.290,00  5.902.230,00           1,75"
      ]
     },
     "metadata": {},
     "output_type": "display_data"
    }
   ],
   "source": [
    "maiores_volumes = paises_com_exportacao.sort_values('qtd_litros',\n",
    "                                                    ascending=False).head()\n",
    "\n",
    "print(f'Dados do período total: {ano_inicial} - {ano_final}')\n",
    "display(maiores_volumes)"
   ]
  },
  {
   "cell_type": "markdown",
   "id": "6f7bf47c-5903-489f-b0d3-b8b3d62b2f44",
   "metadata": {},
   "source": [
    "O tabela acima demonstra, para o período total analisado os maiores volumes exportados, bem como a variação do valor total em dólares e do valor, em dólar, por litro para cada um dos países."
   ]
  },
  {
   "cell_type": "markdown",
   "id": "3d315ac3-33a3-4b16-a0ce-9e04d4704ada",
   "metadata": {},
   "source": [
    "## Enriquecimento dos dados"
   ]
  },
  {
   "cell_type": "code",
   "execution_count": 9,
   "id": "928bba50-7b95-4138-a00c-5ea86858b994",
   "metadata": {},
   "outputs": [
    {
     "data": {
      "text/html": [
       "<div>\n",
       "<style scoped>\n",
       "    .dataframe tbody tr th:only-of-type {\n",
       "        vertical-align: middle;\n",
       "    }\n",
       "\n",
       "    .dataframe tbody tr th {\n",
       "        vertical-align: top;\n",
       "    }\n",
       "\n",
       "    .dataframe thead th {\n",
       "        text-align: right;\n",
       "    }\n",
       "</style>\n",
       "<table border=\"1\" class=\"dataframe\">\n",
       "  <thead>\n",
       "    <tr style=\"text-align: right;\">\n",
       "      <th></th>\n",
       "      <th>pais</th>\n",
       "      <th>qtd_litros</th>\n",
       "      <th>vlr_usd</th>\n",
       "      <th>ano</th>\n",
       "      <th>usd_por_litro</th>\n",
       "    </tr>\n",
       "  </thead>\n",
       "  <tbody>\n",
       "    <tr>\n",
       "      <th>2</th>\n",
       "      <td>Alemanha, República Democrática</td>\n",
       "      <td>225.086,00</td>\n",
       "      <td>393.482,00</td>\n",
       "      <td>2021</td>\n",
       "      <td>1,75</td>\n",
       "    </tr>\n",
       "    <tr>\n",
       "      <th>3</th>\n",
       "      <td>Angola</td>\n",
       "      <td>54.786,00</td>\n",
       "      <td>84.235,00</td>\n",
       "      <td>2021</td>\n",
       "      <td>1,54</td>\n",
       "    </tr>\n",
       "    <tr>\n",
       "      <th>6</th>\n",
       "      <td>Antilhas Holandesas</td>\n",
       "      <td>8.235,00</td>\n",
       "      <td>10.651,00</td>\n",
       "      <td>2021</td>\n",
       "      <td>1,29</td>\n",
       "    </tr>\n",
       "    <tr>\n",
       "      <th>8</th>\n",
       "      <td>Argentina</td>\n",
       "      <td>162,00</td>\n",
       "      <td>4.523,00</td>\n",
       "      <td>2021</td>\n",
       "      <td>27,92</td>\n",
       "    </tr>\n",
       "    <tr>\n",
       "      <th>10</th>\n",
       "      <td>Austrália</td>\n",
       "      <td>1.014,00</td>\n",
       "      <td>9.195,00</td>\n",
       "      <td>2021</td>\n",
       "      <td>9,07</td>\n",
       "    </tr>\n",
       "  </tbody>\n",
       "</table>\n",
       "</div>"
      ],
      "text/plain": [
       "                               pais  qtd_litros    vlr_usd   ano  \\\n",
       "2   Alemanha, República Democrática  225.086,00 393.482,00  2021   \n",
       "3                            Angola   54.786,00  84.235,00  2021   \n",
       "6               Antilhas Holandesas    8.235,00  10.651,00  2021   \n",
       "8                         Argentina      162,00   4.523,00  2021   \n",
       "10                        Austrália    1.014,00   9.195,00  2021   \n",
       "\n",
       "    usd_por_litro  \n",
       "2            1,75  \n",
       "3            1,54  \n",
       "6            1,29  \n",
       "8           27,92  \n",
       "10           9,07  "
      ]
     },
     "execution_count": 9,
     "metadata": {},
     "output_type": "execute_result"
    }
   ],
   "source": [
    "# Dataframe com dados apenas dos países que possuem exportações\n",
    "exportacao_analise = exportacao[exportacao['pais']\\\n",
    "                     .isin(list(conj_paises_com_exportacao))].copy()\n",
    "exportacao_analise['usd_por_litro'] = exportacao_analise['vlr_usd']\\\n",
    "                                      / exportacao_analise['qtd_litros']\n",
    "\n",
    "exportacao_analise.head()"
   ]
  },
  {
   "cell_type": "code",
   "execution_count": 10,
   "id": "539388bc-6fae-45fc-a0bf-d89a8acd836a",
   "metadata": {},
   "outputs": [
    {
     "data": {
      "text/html": [
       "<div>\n",
       "<style scoped>\n",
       "    .dataframe tbody tr th:only-of-type {\n",
       "        vertical-align: middle;\n",
       "    }\n",
       "\n",
       "    .dataframe tbody tr th {\n",
       "        vertical-align: top;\n",
       "    }\n",
       "\n",
       "    .dataframe thead th {\n",
       "        text-align: right;\n",
       "    }\n",
       "</style>\n",
       "<table border=\"1\" class=\"dataframe\">\n",
       "  <thead>\n",
       "    <tr style=\"text-align: right;\">\n",
       "      <th></th>\n",
       "      <th>pais</th>\n",
       "      <th>cod_iso</th>\n",
       "    </tr>\n",
       "  </thead>\n",
       "  <tbody>\n",
       "    <tr>\n",
       "      <th>0</th>\n",
       "      <td>Afeganistão</td>\n",
       "      <td>AF</td>\n",
       "    </tr>\n",
       "    <tr>\n",
       "      <th>1</th>\n",
       "      <td>África do Sul</td>\n",
       "      <td>ZA</td>\n",
       "    </tr>\n",
       "    <tr>\n",
       "      <th>2</th>\n",
       "      <td>Alemanha, República Democrática</td>\n",
       "      <td>DE</td>\n",
       "    </tr>\n",
       "    <tr>\n",
       "      <th>3</th>\n",
       "      <td>Angola</td>\n",
       "      <td>AO</td>\n",
       "    </tr>\n",
       "    <tr>\n",
       "      <th>4</th>\n",
       "      <td>Anguilla</td>\n",
       "      <td>AI</td>\n",
       "    </tr>\n",
       "  </tbody>\n",
       "</table>\n",
       "</div>"
      ],
      "text/plain": [
       "                              pais cod_iso\n",
       "0                      Afeganistão      AF\n",
       "1                    África do Sul      ZA\n",
       "2  Alemanha, República Democrática      DE\n",
       "3                           Angola      AO\n",
       "4                         Anguilla      AI"
      ]
     },
     "metadata": {},
     "output_type": "display_data"
    },
    {
     "data": {
      "text/html": [
       "<div>\n",
       "<style scoped>\n",
       "    .dataframe tbody tr th:only-of-type {\n",
       "        vertical-align: middle;\n",
       "    }\n",
       "\n",
       "    .dataframe tbody tr th {\n",
       "        vertical-align: top;\n",
       "    }\n",
       "\n",
       "    .dataframe thead th {\n",
       "        text-align: right;\n",
       "    }\n",
       "</style>\n",
       "<table border=\"1\" class=\"dataframe\">\n",
       "  <thead>\n",
       "    <tr style=\"text-align: right;\">\n",
       "      <th></th>\n",
       "      <th>pais</th>\n",
       "      <th>qtd_litros</th>\n",
       "      <th>vlr_usd</th>\n",
       "      <th>ano</th>\n",
       "      <th>usd_por_litro</th>\n",
       "      <th>cod_iso</th>\n",
       "    </tr>\n",
       "  </thead>\n",
       "  <tbody>\n",
       "    <tr>\n",
       "      <th>0</th>\n",
       "      <td>Alemanha, República Democrática</td>\n",
       "      <td>225.086,00</td>\n",
       "      <td>393.482,00</td>\n",
       "      <td>2021</td>\n",
       "      <td>1,75</td>\n",
       "      <td>DE</td>\n",
       "    </tr>\n",
       "    <tr>\n",
       "      <th>1</th>\n",
       "      <td>Angola</td>\n",
       "      <td>54.786,00</td>\n",
       "      <td>84.235,00</td>\n",
       "      <td>2021</td>\n",
       "      <td>1,54</td>\n",
       "      <td>AO</td>\n",
       "    </tr>\n",
       "    <tr>\n",
       "      <th>2</th>\n",
       "      <td>Antilhas Holandesas</td>\n",
       "      <td>8.235,00</td>\n",
       "      <td>10.651,00</td>\n",
       "      <td>2021</td>\n",
       "      <td>1,29</td>\n",
       "      <td>AN</td>\n",
       "    </tr>\n",
       "    <tr>\n",
       "      <th>3</th>\n",
       "      <td>Argentina</td>\n",
       "      <td>162,00</td>\n",
       "      <td>4.523,00</td>\n",
       "      <td>2021</td>\n",
       "      <td>27,92</td>\n",
       "      <td>AR</td>\n",
       "    </tr>\n",
       "    <tr>\n",
       "      <th>4</th>\n",
       "      <td>Austrália</td>\n",
       "      <td>1.014,00</td>\n",
       "      <td>9.195,00</td>\n",
       "      <td>2021</td>\n",
       "      <td>9,07</td>\n",
       "      <td>AU</td>\n",
       "    </tr>\n",
       "  </tbody>\n",
       "</table>\n",
       "</div>"
      ],
      "text/plain": [
       "                              pais  qtd_litros    vlr_usd   ano  \\\n",
       "0  Alemanha, República Democrática  225.086,00 393.482,00  2021   \n",
       "1                           Angola   54.786,00  84.235,00  2021   \n",
       "2              Antilhas Holandesas    8.235,00  10.651,00  2021   \n",
       "3                        Argentina      162,00   4.523,00  2021   \n",
       "4                        Austrália    1.014,00   9.195,00  2021   \n",
       "\n",
       "   usd_por_litro cod_iso  \n",
       "0           1,75      DE  \n",
       "1           1,54      AO  \n",
       "2           1,29      AN  \n",
       "3          27,92      AR  \n",
       "4           9,07      AU  "
      ]
     },
     "metadata": {},
     "output_type": "display_data"
    }
   ],
   "source": [
    "# Incluindo o código ISO dos países\n",
    "\n",
    "pais_cod_iso = pd.read_csv('dados/pais-cod-iso.csv')\n",
    "display(pais_cod_iso.head())\n",
    "\n",
    "exportacao_analise = pd.merge(exportacao_analise, pais_cod_iso,\n",
    "                              left_on='pais', right_on='pais',\n",
    "                              how='left')\n",
    "display(exportacao_analise.head())"
   ]
  },
  {
   "cell_type": "raw",
   "id": "25b494b7-7b3b-49d6-aa87-5505d5c4f61d",
   "metadata": {},
   "source": [
    "# Código ISO dos países com transações comerciais nos últimos 15 anos:\n",
    "'''\n",
    "'DE', 'AO', 'AN', 'AR', 'AU', 'BE', 'BO', 'CA', 'CL', 'CN', 'SG','DK', 'SV', 'AE', 'ES', 'US', 'EE', 'GT', 'GQ', 'HT', 'HN', 'HK','IT', 'JP', 'LU', 'NI', 'NG', 'NL', 'PA', 'PY', 'PL', 'PT', 'GB', 'RU', 'SE', 'CH', 'SR', 'CZ', 'VN', 'BR'\n",
    "'''"
   ]
  }
 ],
 "metadata": {
  "kernelspec": {
   "display_name": "Python 3 (ipykernel)",
   "language": "python",
   "name": "python3"
  },
  "language_info": {
   "codemirror_mode": {
    "name": "ipython",
    "version": 3
   },
   "file_extension": ".py",
   "mimetype": "text/x-python",
   "name": "python",
   "nbconvert_exporter": "python",
   "pygments_lexer": "ipython3",
   "version": "3.9.6"
  }
 },
 "nbformat": 4,
 "nbformat_minor": 5
}

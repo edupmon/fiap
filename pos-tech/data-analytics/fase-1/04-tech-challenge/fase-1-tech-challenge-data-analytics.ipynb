{
 "cells": [
  {
   "cell_type": "code",
   "execution_count": 9,
   "id": "decc59ad-eb84-41ff-a5b6-7d13cf03f43e",
   "metadata": {},
   "outputs": [],
   "source": [
    "import io\n",
    "import os\n",
    "import glob\n",
    "import requests\n",
    "import pandas as pd\n",
    "import seaborn as sns"
   ]
  },
  {
   "cell_type": "markdown",
   "id": "383877d5-c94f-4c96-a397-1836ddbee527",
   "metadata": {},
   "source": [
    "# Análise da exportação brasileira de vinhos de mesa"
   ]
  },
  {
   "cell_type": "markdown",
   "id": "4b84a330-78d3-468d-8bfa-c3a104bf37d9",
   "metadata": {},
   "source": [
    "## Períodos de interesse"
   ]
  },
  {
   "cell_type": "code",
   "execution_count": 2,
   "id": "7b7ffdc5-6803-40cd-b0e6-f2d86dd18741",
   "metadata": {},
   "outputs": [],
   "source": [
    "ano_inicial = 2009\n",
    "ano_final = 2023"
   ]
  },
  {
   "cell_type": "markdown",
   "id": "8ac6bc94-8d33-4bda-9515-96ff607ce45c",
   "metadata": {},
   "source": [
    "## Obtendo os dados de exportação de vinhos"
   ]
  },
  {
   "cell_type": "raw",
   "id": "f88778cb-8264-4667-99ea-6735a790ef0e",
   "metadata": {},
   "source": [
    "# Origem dos dados de exportação: http://vitibrasil.cnpuv.embrapa.br\n",
    "\n",
    "'''Os dados podem ser acessados, diretamente através da página, passando como\n",
    "   parâmetro o ano e as opções dos dados que se deseja acessar.\n",
    "   Neste caso: &opcao=opt_06&subopcao=subopt_01 - Tabela de exportação de\n",
    "                                                  vinhos de mesa\n",
    "   A tabela de índice 3 contém os dados de interesse e as duas últimas linhas\n",
    "   podem ser desconsideradas (uma linha de rodapé e uma linha de total)'''\n",
    "\n",
    "# Exportação dos dados de origem para CSV\n",
    "# (para preservar os dados do estudo caso a página seja alterada ou removida)\n",
    "\n",
    "url = 'http://vitibrasil.cnpuv.embrapa.br/index.php?'\n",
    "\n",
    "# Obtendo os dados\n",
    "for ano in range(ano_inicial, ano_final + 1):\n",
    "    # Parâmetros da URL\n",
    "    url += f'ano={ano}&opcao=opt_06&subopcao=subopt_01'\n",
    "    # Leitura dos dados\n",
    "    df = pd.read_html(io.StringIO(requests.get(url).text))[3][:-2]\n",
    "    # Renomeando as colunas\n",
    "    df.rename(columns={'Países': 'pais', 'Quantidade (Kg)': 'qtd_litros',\n",
    "                       'Valor (US$)': 'vlr_usd'}, inplace=True)\n",
    "    # Substituindo os caracteres '-' e '.' nas colunas de qtd e vlr\n",
    "    df['qtd_litros'] = df['qtd_litros'].str.replace('-|\\.', '', regex = True)\n",
    "    df['vlr_usd'] = df['vlr_usd'].str.replace('-|\\.', '', regex = True)\n",
    "    # Coluna ano\n",
    "    df['ano'] = ano\n",
    "    # Exportando o CSV\n",
    "    df.to_csv(f'dados/exp-vinho-{ano}.csv', index=False)"
   ]
  },
  {
   "cell_type": "markdown",
   "id": "2b80beec-9248-4119-9dcc-921c252689e7",
   "metadata": {},
   "source": [
    "## Carregando os dados de exportação de vinhos em um dataframe"
   ]
  },
  {
   "cell_type": "code",
   "execution_count": 3,
   "id": "d677143e-2ed1-482c-95dc-d22e5302a3bc",
   "metadata": {},
   "outputs": [
    {
     "data": {
      "text/html": [
       "<div>\n",
       "<style scoped>\n",
       "    .dataframe tbody tr th:only-of-type {\n",
       "        vertical-align: middle;\n",
       "    }\n",
       "\n",
       "    .dataframe tbody tr th {\n",
       "        vertical-align: top;\n",
       "    }\n",
       "\n",
       "    .dataframe thead th {\n",
       "        text-align: right;\n",
       "    }\n",
       "</style>\n",
       "<table border=\"1\" class=\"dataframe\">\n",
       "  <thead>\n",
       "    <tr style=\"text-align: right;\">\n",
       "      <th></th>\n",
       "      <th>pais</th>\n",
       "      <th>qtd_litros</th>\n",
       "      <th>vlr_usd</th>\n",
       "      <th>ano</th>\n",
       "    </tr>\n",
       "  </thead>\n",
       "  <tbody>\n",
       "    <tr>\n",
       "      <th>0</th>\n",
       "      <td>Afeganistão</td>\n",
       "      <td>NaN</td>\n",
       "      <td>NaN</td>\n",
       "      <td>2021</td>\n",
       "    </tr>\n",
       "    <tr>\n",
       "      <th>1</th>\n",
       "      <td>África do Sul</td>\n",
       "      <td>NaN</td>\n",
       "      <td>NaN</td>\n",
       "      <td>2021</td>\n",
       "    </tr>\n",
       "    <tr>\n",
       "      <th>2</th>\n",
       "      <td>Alemanha, República Democrática</td>\n",
       "      <td>225086.0</td>\n",
       "      <td>393482.0</td>\n",
       "      <td>2021</td>\n",
       "    </tr>\n",
       "    <tr>\n",
       "      <th>3</th>\n",
       "      <td>Angola</td>\n",
       "      <td>54786.0</td>\n",
       "      <td>84235.0</td>\n",
       "      <td>2021</td>\n",
       "    </tr>\n",
       "    <tr>\n",
       "      <th>4</th>\n",
       "      <td>Anguilla</td>\n",
       "      <td>NaN</td>\n",
       "      <td>NaN</td>\n",
       "      <td>2021</td>\n",
       "    </tr>\n",
       "  </tbody>\n",
       "</table>\n",
       "</div>"
      ],
      "text/plain": [
       "                              pais  qtd_litros   vlr_usd   ano\n",
       "0                      Afeganistão         NaN       NaN  2021\n",
       "1                    África do Sul         NaN       NaN  2021\n",
       "2  Alemanha, República Democrática    225086.0  393482.0  2021\n",
       "3                           Angola     54786.0   84235.0  2021\n",
       "4                         Anguilla         NaN       NaN  2021"
      ]
     },
     "execution_count": 3,
     "metadata": {},
     "output_type": "execute_result"
    }
   ],
   "source": [
    "# Obtendo a lista de arquivos que será carregada no dataframe\n",
    "arqs_csv = glob.glob(os.path.join('dados', 'exp-vinho-*.csv'))\n",
    "\n",
    "# Definindo o dataframe que irá receber os dados de todos os arquivos CSV\n",
    "'''Concatenação dos dataframes obtidos à partir da lista de arquivos (list\n",
    "   comprehension abaixo), ignorando a primeira linha dos CSVs e definindo o\n",
    "   nome das colunas manualmente'''\n",
    "exportacao = pd.concat([pd.read_csv(arq,\n",
    "                                    skiprows=1,\n",
    "                                    na_values=0,\n",
    "                                    names=['pais',\n",
    "                                           'qtd_litros',\n",
    "                                           'vlr_usd',\n",
    "                                           'ano']) for arq in arqs_csv],\n",
    "                       ignore_index=True)\n",
    "\n",
    "exportacao.head()"
   ]
  },
  {
   "cell_type": "markdown",
   "id": "4a07b457-45b3-4cdc-86fd-cc6b99cddd89",
   "metadata": {},
   "source": [
    "## Analisando a exportação total por país"
   ]
  },
  {
   "cell_type": "code",
   "execution_count": 4,
   "id": "acaf6778-7d86-4cdf-a7d4-e0710a029cb9",
   "metadata": {},
   "outputs": [
    {
     "data": {
      "text/html": [
       "<div>\n",
       "<style scoped>\n",
       "    .dataframe tbody tr th:only-of-type {\n",
       "        vertical-align: middle;\n",
       "    }\n",
       "\n",
       "    .dataframe tbody tr th {\n",
       "        vertical-align: top;\n",
       "    }\n",
       "\n",
       "    .dataframe thead th {\n",
       "        text-align: right;\n",
       "    }\n",
       "</style>\n",
       "<table border=\"1\" class=\"dataframe\">\n",
       "  <thead>\n",
       "    <tr style=\"text-align: right;\">\n",
       "      <th></th>\n",
       "      <th>qtd_litros</th>\n",
       "      <th>vlr_usd</th>\n",
       "    </tr>\n",
       "    <tr>\n",
       "      <th>pais</th>\n",
       "      <th></th>\n",
       "      <th></th>\n",
       "    </tr>\n",
       "  </thead>\n",
       "  <tbody>\n",
       "    <tr>\n",
       "      <th>Afeganistão</th>\n",
       "      <td>0.0</td>\n",
       "      <td>0.0</td>\n",
       "    </tr>\n",
       "    <tr>\n",
       "      <th>Alemanha, República Democrática</th>\n",
       "      <td>3376290.0</td>\n",
       "      <td>5902230.0</td>\n",
       "    </tr>\n",
       "    <tr>\n",
       "      <th>Angola</th>\n",
       "      <td>821790.0</td>\n",
       "      <td>1263525.0</td>\n",
       "    </tr>\n",
       "    <tr>\n",
       "      <th>Anguilla</th>\n",
       "      <td>0.0</td>\n",
       "      <td>0.0</td>\n",
       "    </tr>\n",
       "    <tr>\n",
       "      <th>Antilhas Holandesas</th>\n",
       "      <td>123525.0</td>\n",
       "      <td>159765.0</td>\n",
       "    </tr>\n",
       "  </tbody>\n",
       "</table>\n",
       "</div>"
      ],
      "text/plain": [
       "                                 qtd_litros    vlr_usd\n",
       "pais                                                  \n",
       "Afeganistão                             0.0        0.0\n",
       "Alemanha, República Democrática   3376290.0  5902230.0\n",
       "Angola                             821790.0  1263525.0\n",
       "Anguilla                                0.0        0.0\n",
       "Antilhas Holandesas                123525.0   159765.0"
      ]
     },
     "execution_count": 4,
     "metadata": {},
     "output_type": "execute_result"
    }
   ],
   "source": [
    "total_por_pais = exportacao.fillna(0)\\\n",
    "                           .groupby('pais')[['qtd_litros', 'vlr_usd']]\\\n",
    "                           .sum()\\\n",
    "                           .copy()\n",
    "\n",
    "total_por_pais.head()"
   ]
  },
  {
   "cell_type": "code",
   "execution_count": 5,
   "id": "33dfde58-fffa-4bf9-9e67-1585bfecdfb0",
   "metadata": {},
   "outputs": [
    {
     "name": "stdout",
     "output_type": "stream",
     "text": [
      "\n",
      "Período de análise............: 2009 - 2023\n",
      "Total de países...............: 137 países\n",
      "Total de países com exportação: 39 países\n",
      "\n"
     ]
    }
   ],
   "source": [
    "# Países sem exportação\n",
    "paises_sem_exportacao = total_por_pais.query('qtd_litros == 0 & vlr_usd == 0')\n",
    "\n",
    "\n",
    "'''Obtendo a lista de paises com exportação à partir dos conjutos de índices\n",
    "   dos dois dataframes - total_por_pais e paises_sem_exportacao'''\n",
    "\n",
    "conj_paises = set(total_por_pais.index.tolist())\n",
    "conj_paises_sem_exportacao = set(paises_sem_exportacao.index.tolist())\n",
    "\n",
    "conj_paises_com_exportacao = conj_paises - conj_paises_sem_exportacao\n",
    "\n",
    "\n",
    "# Países com exportação\n",
    "paises_com_exportacao = total_por_pais.loc[list(conj_paises_com_exportacao)]\n",
    "\n",
    "print(f'''\n",
    "Período de análise............: {ano_inicial} - {ano_final}\n",
    "Total de países...............: {len(conj_paises)} países\n",
    "Total de países com exportação: {len(conj_paises_com_exportacao)} países\n",
    "''')"
   ]
  },
  {
   "cell_type": "markdown",
   "id": "019599d5-aa3e-468c-81ca-f17498e3b332",
   "metadata": {},
   "source": [
    "## Países com maior volume total de exportações"
   ]
  },
  {
   "cell_type": "code",
   "execution_count": 13,
   "id": "f74f66cd-1aa8-44af-a0f0-3bd10b2f816f",
   "metadata": {},
   "outputs": [
    {
     "data": {
      "text/plain": [
       "<Axes: xlabel='pais', ylabel='qtd_litros'>"
      ]
     },
     "execution_count": 13,
     "metadata": {},
     "output_type": "execute_result"
    },
    {
     "data": {
      "image/png": "[encoded data removed]",
      "text/plain": [
       "<Figure size 640x480 with 1 Axes>"
      ]
     },
     "metadata": {},
     "output_type": "display_data"
    }
   ],
   "source": [
    "sns.barplot(paises_com_exportacao.sort_values('qtd_litros', ascending=False).head(), x='pais', y='qtd_litros')"
   ]
  }
 ],
 "metadata": {
  "kernelspec": {
   "display_name": "Python 3 (ipykernel)",
   "language": "python",
   "name": "python3"
  },
  "language_info": {
   "codemirror_mode": {
    "name": "ipython",
    "version": 3
   },
   "file_extension": ".py",
   "mimetype": "text/x-python",
   "name": "python",
   "nbconvert_exporter": "python",
   "pygments_lexer": "ipython3",
   "version": "3.9.6"
  }
 },
 "nbformat": 4,
 "nbformat_minor": 5
}

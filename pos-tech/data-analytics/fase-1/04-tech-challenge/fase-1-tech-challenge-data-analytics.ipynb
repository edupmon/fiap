{
 "cells": [
  {
   "cell_type": "code",
   "execution_count": 1,
   "id": "decc59ad-eb84-41ff-a5b6-7d13cf03f43e",
   "metadata": {},
   "outputs": [
    {
     "name": "stderr",
     "output_type": "stream",
     "text": [
      "/Users/edupmon/Library/Python/3.9/lib/python/site-packages/urllib3/__init__.py:35: NotOpenSSLWarning: urllib3 v2 only supports OpenSSL 1.1.1+, currently the 'ssl' module is compiled with 'LibreSSL 2.8.3'. See: https://github.com/urllib3/urllib3/issues/3020\n",
      "  warnings.warn(\n"
     ]
    }
   ],
   "source": [
    "import io\n",
    "import requests\n",
    "import pandas as pd"
   ]
  },
  {
   "cell_type": "markdown",
   "id": "383877d5-c94f-4c96-a397-1836ddbee527",
   "metadata": {},
   "source": [
    "# Análise da exportação brasileira de vinhos de mesa (2009 - 2023)"
   ]
  },
  {
   "cell_type": "code",
   "execution_count": 2,
   "id": "7871a9c1-c075-4585-8c4d-94a7e1bd3707",
   "metadata": {},
   "outputs": [],
   "source": [
    "# Origem dos dados de exportação: http://vitibrasil.cnpuv.embrapa.br\n",
    "\n",
    "'''Os dados podem ser acessados, diretamente através da página, passando como\n",
    "   parâmetro o ano e as opções dos dados que se deseja acessar.\n",
    "   Neste caso: &opcao=opt_06&subopcao=subopt_01 - Tabela de exportação de\n",
    "                                                  vinhos de mesa\n",
    "   A tabela de índice 3 contém os dados de interesse e as duas últimas linhas\n",
    "   podem ser desconsideradas (uma linha de rodapé e uma linha de total)'''\n",
    "\n",
    "# Exportação dos dados de origem para CSV\n",
    "# (para preservar os dados do estudo caso a página seja alterada ou removida)\n",
    "\n",
    "url = 'http://vitibrasil.cnpuv.embrapa.br/index.php?'\n",
    "\n",
    "# Safras de interesse\n",
    "ano_inicial = 2009\n",
    "ano_final = 2023\n",
    "\n",
    "for ano in range(ano_inicial, ano_final + 1):\n",
    "    # Parâmetros da URL\n",
    "    url += f'ano={ano}&opcao=opt_06&subopcao=subopt_01'\n",
    "    # Leitura dos dados\n",
    "    df = pd.read_html(io.StringIO(requests.get(url).text))[3][:-2]\n",
    "    # Renomeando as colunas\n",
    "    df.rename(columns={'Países': 'pais', 'Quantidade (Kg)': 'qtd_litros',\n",
    "                       'Valor (US$)': 'vlr_usd'}, inplace=True)\n",
    "    # Substituindo os caracteres '-' e '.' nas colunas de qtd e vlr\n",
    "    df['qtd_litros'] = df['qtd_litros'].str.replace('-|\\.', '', regex = True)\n",
    "    df['vlr_usd'] = df['vlr_usd'].str.replace('-|\\.', '', regex = True)\n",
    "    # Coluna ano\n",
    "    df['ano'] = ano\n",
    "    # Exportando o CSV\n",
    "    df.to_csv(f'dados/exp-vinho-{ano}.csv', index=False)"
   ]
  }
 ],
 "metadata": {
  "kernelspec": {
   "display_name": "Python 3 (ipykernel)",
   "language": "python",
   "name": "python3"
  },
  "language_info": {
   "codemirror_mode": {
    "name": "ipython",
    "version": 3
   },
   "file_extension": ".py",
   "mimetype": "text/x-python",
   "name": "python",
   "nbconvert_exporter": "python",
   "pygments_lexer": "ipython3",
   "version": "3.9.6"
  }
 },
 "nbformat": 4,
 "nbformat_minor": 5
}

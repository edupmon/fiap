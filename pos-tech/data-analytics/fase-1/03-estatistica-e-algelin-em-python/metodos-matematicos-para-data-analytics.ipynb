{
 "cells": [
  {
   "cell_type": "code",
   "execution_count": 1,
   "id": "e0547f4d-161e-4225-baec-4bc08fbb8dc4",
   "metadata": {},
   "outputs": [],
   "source": [
    "import numpy as np"
   ]
  },
  {
   "cell_type": "code",
   "execution_count": 2,
   "id": "04b7d435-e0c5-45e9-8009-eee792ed7bc3",
   "metadata": {},
   "outputs": [
    {
     "name": "stdout",
     "output_type": "stream",
     "text": [
      "Escalar:  2 \n",
      "\n",
      "Vetor:  [1 2 3] \n",
      "\n",
      "Matriz:\n",
      " [[1]\n",
      " [2]\n",
      " [3]] \n",
      "\n",
      "Matriz:\n",
      " [[1 2 3]\n",
      " [1 2 3]\n",
      " [1 2 3]] \n",
      "\n"
     ]
    }
   ],
   "source": [
    "# Escalar, Vetor e Matriz\n",
    "\n",
    "# Escalar -> Número (Tensor de Ordem 0)\n",
    "x = 2\n",
    "print('Escalar: ', x, '\\n')\n",
    "\n",
    "# Vetor com três elementos escalares\n",
    "x2 = np.array([1, 2, 3])\n",
    "print('Vetor: ', x2, '\\n')\n",
    "\n",
    "# Matriz com três elementos vetores com elementos escalares (Matriz coluna)\n",
    "x3 = np.array([[1], [2], [3]])\n",
    "print('Matriz:\\n', x3, '\\n')\n",
    "\n",
    "# Matriz (Matriz Tradicional)\n",
    "x4 = np.array([[1, 2, 3], [1, 2, 3], [1, 2, 3]])\n",
    "print('Matriz:\\n', x4, '\\n')"
   ]
  }
 ],
 "metadata": {
  "kernelspec": {
   "display_name": "Python 3 (ipykernel)",
   "language": "python",
   "name": "python3"
  },
  "language_info": {
   "codemirror_mode": {
    "name": "ipython",
    "version": 3
   },
   "file_extension": ".py",
   "mimetype": "text/x-python",
   "name": "python",
   "nbconvert_exporter": "python",
   "pygments_lexer": "ipython3",
   "version": "3.9.6"
  }
 },
 "nbformat": 4,
 "nbformat_minor": 5
}

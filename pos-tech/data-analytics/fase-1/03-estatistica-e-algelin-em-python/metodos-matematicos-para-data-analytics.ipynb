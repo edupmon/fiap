{
 "cells": [
  {
   "cell_type": "code",
   "execution_count": 1,
   "id": "e0547f4d-161e-4225-baec-4bc08fbb8dc4",
   "metadata": {},
   "outputs": [],
   "source": [
    "import numpy as np\n",
    "import pandas as pd"
   ]
  },
  {
   "cell_type": "code",
   "execution_count": 2,
   "id": "04b7d435-e0c5-45e9-8009-eee792ed7bc3",
   "metadata": {},
   "outputs": [
    {
     "name": "stdout",
     "output_type": "stream",
     "text": [
      "Escalar:  2 \n",
      "\n",
      "Vetor:  [1 2 3] \n",
      "\n",
      "Matriz:\n",
      " [[1]\n",
      " [2]\n",
      " [3]] \n",
      "\n",
      "Matriz:\n",
      " [[1 2 3]\n",
      " [1 2 3]\n",
      " [1 2 3]] \n",
      "\n"
     ]
    }
   ],
   "source": [
    "# Escalar, Vetor e Matriz\n",
    "\n",
    "# Escalar -> Número (Tensor de Ordem 0 - Um ponto)\n",
    "x = 2\n",
    "print('Escalar: ', x, '\\n')\n",
    "\n",
    "# Vetor com três elementos escalares\n",
    "x2 = np.array([1, 2, 3])\n",
    "print('Vetor: ', x2, '\\n')\n",
    "\n",
    "# Matriz com três elementos vetores com elementos escalares (Matriz coluna)\n",
    "x3 = np.array([[1], [2], [3]])\n",
    "print('Matriz:\\n', x3, '\\n')\n",
    "\n",
    "# Matriz (Matriz Tradicional)\n",
    "x4 = np.array([[1, 2, 3], [1, 2, 3], [1, 2, 3]])\n",
    "print('Matriz:\\n', x4, '\\n')"
   ]
  },
  {
   "cell_type": "code",
   "execution_count": 3,
   "id": "c4ceb273-ef5c-4ed3-a372-d96b68f41296",
   "metadata": {},
   "outputs": [
    {
     "data": {
      "text/html": [
       "<div>\n",
       "<style scoped>\n",
       "    .dataframe tbody tr th:only-of-type {\n",
       "        vertical-align: middle;\n",
       "    }\n",
       "\n",
       "    .dataframe tbody tr th {\n",
       "        vertical-align: top;\n",
       "    }\n",
       "\n",
       "    .dataframe thead th {\n",
       "        text-align: right;\n",
       "    }\n",
       "</style>\n",
       "<table border=\"1\" class=\"dataframe\">\n",
       "  <thead>\n",
       "    <tr style=\"text-align: right;\">\n",
       "      <th></th>\n",
       "      <th>coluna_1</th>\n",
       "      <th>coluna_2</th>\n",
       "    </tr>\n",
       "  </thead>\n",
       "  <tbody>\n",
       "    <tr>\n",
       "      <th>0</th>\n",
       "      <td>1</td>\n",
       "      <td>1</td>\n",
       "    </tr>\n",
       "    <tr>\n",
       "      <th>1</th>\n",
       "      <td>2</td>\n",
       "      <td>2</td>\n",
       "    </tr>\n",
       "    <tr>\n",
       "      <th>2</th>\n",
       "      <td>3</td>\n",
       "      <td>3</td>\n",
       "    </tr>\n",
       "    <tr>\n",
       "      <th>3</th>\n",
       "      <td>4</td>\n",
       "      <td>4</td>\n",
       "    </tr>\n",
       "    <tr>\n",
       "      <th>4</th>\n",
       "      <td>5</td>\n",
       "      <td>5</td>\n",
       "    </tr>\n",
       "  </tbody>\n",
       "</table>\n",
       "</div>"
      ],
      "text/plain": [
       "   coluna_1  coluna_2\n",
       "0         1         1\n",
       "1         2         2\n",
       "2         3         3\n",
       "3         4         4\n",
       "4         5         5"
      ]
     },
     "execution_count": 3,
     "metadata": {},
     "output_type": "execute_result"
    }
   ],
   "source": [
    "# Pandas Series -> Vetor\n",
    "# Pandas Dataframe -> Array\n",
    "\n",
    "pd.DataFrame({'coluna_1': np.array([1, 2, 3, 4, 5]),\n",
    "              'coluna_2': np.array([1, 2, 3, 4, 5])})"
   ]
  },
  {
   "cell_type": "code",
   "execution_count": 4,
   "id": "13254cae-22d5-4e46-be67-8fbcdad05526",
   "metadata": {},
   "outputs": [
    {
     "name": "stdout",
     "output_type": "stream",
     "text": [
      "[1 2 3] \n",
      "\n",
      "[[1]\n",
      " [2]\n",
      " [3]] \n",
      "\n",
      "[[2 3 4]\n",
      " [3 4 5]\n",
      " [4 5 6]]\n"
     ]
    }
   ],
   "source": [
    "# Exemplo de Operação (Combinação Linear de Elementos)\n",
    "\n",
    "print(x2, '\\n')\n",
    "print(x3, '\\n')\n",
    "print(x2 + x3)"
   ]
  },
  {
   "cell_type": "code",
   "execution_count": 5,
   "id": "71113949-2f89-4250-bde0-ca69c292b74c",
   "metadata": {},
   "outputs": [
    {
     "name": "stdout",
     "output_type": "stream",
     "text": [
      "[[1 2 3]\n",
      " [1 2 3]\n",
      " [1 2 3]] \n",
      "\n",
      "[[2 4 6]\n",
      " [2 4 6]\n",
      " [2 4 6]]\n"
     ]
    }
   ],
   "source": [
    "print(x4, '\\n')\n",
    "print(x4 + x4)"
   ]
  },
  {
   "cell_type": "code",
   "execution_count": 6,
   "id": "02dfe6b6-9b34-4ca3-ae2a-7dd0a6f82b45",
   "metadata": {},
   "outputs": [],
   "source": [
    "# Na multiplicação, o número de colunas da primeira matriz precisa ser igual\n",
    "# ao número de linhas da segunda matriz\n",
    "\n",
    "# A matriz resultado da operação terá o mesmo número de linhas da primeira\n",
    "# matriz e o mesmo número de colunas da segunda matriz"
   ]
  },
  {
   "cell_type": "code",
   "execution_count": 7,
   "id": "3aad03fb-8925-4222-b467-efa75df86740",
   "metadata": {},
   "outputs": [
    {
     "name": "stdout",
     "output_type": "stream",
     "text": [
      "[[1]\n",
      " [2]\n",
      " [3]] \n",
      "\n",
      "[[1 2 3]\n",
      " [1 2 3]\n",
      " [1 2 3]]\n"
     ]
    }
   ],
   "source": [
    "print(x3, '\\n')\n",
    "print(x4)"
   ]
  },
  {
   "cell_type": "code",
   "execution_count": 8,
   "id": "ab958eda-b5df-4e10-93dc-ac035c892abb",
   "metadata": {},
   "outputs": [
    {
     "data": {
      "text/plain": [
       "array([[14],\n",
       "       [14],\n",
       "       [14]])"
      ]
     },
     "execution_count": 8,
     "metadata": {},
     "output_type": "execute_result"
    }
   ],
   "source": [
    "np.dot(x4, x3)"
   ]
  },
  {
   "cell_type": "code",
   "execution_count": 9,
   "id": "ef6e16d8-2d37-4ca3-8831-c39896a4c330",
   "metadata": {},
   "outputs": [
    {
     "name": "stdout",
     "output_type": "stream",
     "text": [
      "[[0. 0. 0.]\n",
      " [0. 0. 0.]\n",
      " [0. 0. 0.]]\n",
      "\n",
      "[[1. 0. 0.]\n",
      " [0. 1. 0.]\n",
      " [0. 0. 1.]]\n"
     ]
    }
   ],
   "source": [
    "# Criando matrizes de elementos neutros para operações de soma ou multiplicação\n",
    "\n",
    "print(np.zeros((3, 3)))\n",
    "print()\n",
    "print(np.eye(3))"
   ]
  }
 ],
 "metadata": {
  "kernelspec": {
   "display_name": "Python 3 (ipykernel)",
   "language": "python",
   "name": "python3"
  },
  "language_info": {
   "codemirror_mode": {
    "name": "ipython",
    "version": 3
   },
   "file_extension": ".py",
   "mimetype": "text/x-python",
   "name": "python",
   "nbconvert_exporter": "python",
   "pygments_lexer": "ipython3",
   "version": "3.9.6"
  }
 },
 "nbformat": 4,
 "nbformat_minor": 5
}

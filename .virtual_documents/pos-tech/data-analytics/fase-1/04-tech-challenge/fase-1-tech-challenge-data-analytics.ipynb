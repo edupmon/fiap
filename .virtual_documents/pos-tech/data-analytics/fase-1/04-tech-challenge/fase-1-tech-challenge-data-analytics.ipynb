import io
import os
import glob
import time
import locale
import requests
import pandas as pd
import seaborn as sns
import matplotlib.pyplot as plt


locale.setlocale(locale.LC_ALL, 'pt_BR.UTF-8')


pd.set_option('display.float_format',
              lambda x: locale.format_string('%.2f', x, grouping=True))











ano_inicial = 2009
ano_final = 2023





# Origem dos dados de exportação: http://vitibrasil.cnpuv.embrapa.br

'''Os dados podem ser acessados, diretamente através da página, passando como
   parâmetro o ano e as opções dos dados que se deseja acessar.
   Neste caso: &opcao=opt_06&subopcao=subopt_01 - Tabela de exportação de
                                                  vinhos de mesa
   A tabela de índice 3 contém os dados de interesse e as duas últimas linhas
   podem ser desconsideradas (uma linha de rodapé e uma linha de total)'''

# Exportação dos dados de origem para CSV
# (para preservar os dados do estudo caso a página seja alterada ou removida)

for ano in range(ano_inicial, ano_final + 1):
    #  URL
    url = 'http://vitibrasil.cnpuv.embrapa.br/index.php?'
    url += f'ano={ano}&opcao=opt_06&subopcao=subopt_01'
    # Leitura dos dados
    df = pd.read_html(io.StringIO(requests.get(url).text))[3][:-2]
    # Renomeando as colunas
    df.rename(columns={'Países': 'pais', 'Quantidade (Kg)': 'qtd_litros',
                       'Valor (US$)': 'vlr_usd'}, inplace=True)
    # Substituindo os caracteres '-' e '.' nas colunas de qtd e vlr
    df['qtd_litros'] = df['qtd_litros'].str.replace('-|\.', '', regex = True)
    df['vlr_usd'] = df['vlr_usd'].str.replace('-|\.', '', regex = True)
    # Coluna ano
    df['ano'] = ano
    # Exportando o CSV
    df.to_csv(f'dados/exp-vinho-{ano}.csv', index=False)





# Obtendo a lista de arquivos que será carregada no dataframe
arqs_csv = glob.glob(os.path.join('dados', 'exp-vinho-*.csv'))

# Definindo o dataframe que irá receber os dados de todos os arquivos CSV
'''Concatenação dos dataframes obtidos à partir da lista de arquivos (list
   comprehension abaixo), ignorando a primeira linha dos CSVs e definindo o
   nome das colunas manualmente'''
exportacao = pd.concat([pd.read_csv(arq,
                                    skiprows=1,
                                    na_values=0,
                                    names=['pais',
                                           'qtd_litros',
                                           'vlr_usd',
                                           'ano']) for arq in arqs_csv],
                       ignore_index=True)

exportacao['origem'] = 'Brasil'
exportacao['origem_iso_2'] = 'BR'
exportacao['origem_iso_3'] = 'BRA'

exportacao.fillna(0, inplace=True)
exportacao.head()





# Exportação total por país
total_por_pais = exportacao.groupby('pais')[['qtd_litros', 'vlr_usd']]\
                           .sum()\
                           .copy()

total_por_pais.head()


# Países sem exportação
paises_sem_exportacao = total_por_pais.query('qtd_litros == 0 & vlr_usd == 0')


'''Obtendo a lista de paises com exportação à partir dos conjutos de índices
   dos dois dataframes: total_por_pais - paises_sem_exportacao'''

conj_paises = set(total_por_pais.index.tolist())
conj_paises_sem_exportacao = set(paises_sem_exportacao.index.tolist())

conj_paises_com_exportacao = conj_paises - conj_paises_sem_exportacao


# Países com exportação
paises_com_exportacao = total_por_pais.loc[list(conj_paises_com_exportacao)]
# Adicionando a informação do valor por litro
paises_com_exportacao['usd_por_litro'] = paises_com_exportacao['vlr_usd']\
                                         / paises_com_exportacao['qtd_litros']

print(f'''
Período de análise.............: {ano_inicial} - {ano_final}
Total de países................: {len(conj_paises)} países
Total de países com exportação.: {len(conj_paises_com_exportacao)} países
''')





maiores_volumes = paises_com_exportacao.sort_values('vlr_usd',
                                                    ascending=False).head(13)

print(f'Dados do período total: {ano_inicial} - {ano_final}')
display(maiores_volumes)





print('Valor total das exportações:')
display(paises_com_exportacao[['qtd_litros', 'vlr_usd']].sum())

print('\nValor total dos países com maior valor nas exportações:')
display(maiores_volumes[['qtd_litros', 'vlr_usd']].sum())

print('\nParticipação dos 12 países no volume total de exportações:')
display(maiores_volumes[['qtd_litros', 'vlr_usd']].sum()\
        / paises_com_exportacao[['qtd_litros', 'vlr_usd']].sum())





# Dataframe com dados apenas dos países que possuem exportações
exportacao_analise = exportacao[exportacao['pais']\
                     .isin(maiores_volumes.index.to_list())].copy()
exportacao_analise['usd_por_litro'] = exportacao_analise['vlr_usd']\
                                      / exportacao_analise['qtd_litros']
exportacao_analise.fillna(0, inplace=True)
exportacao_analise.head()


# Incluindo o código ISO dos países

pais_cod_iso = pd.read_csv('dados/pais-cod-iso.csv')
display(pais_cod_iso.head())

exportacao_analise = pd.merge(exportacao_analise, pais_cod_iso,
                              left_on='pais', right_on='pais',
                              how='left', suffixes=(False, False))
display(exportacao_analise.head())


# Incluindo a taxa de conversão entre R$ e US$

brl_usd = pd.read_csv('dados/brl-usd.csv')
display(brl_usd.head())

exportacao_analise = pd.merge(exportacao_analise, brl_usd,
                              left_on='ano', right_on='ano',
                              how='left', suffixes=(False, False))
display(exportacao_analise.head())


# Manipulando os dados do Banco Mundial (databank.worldbank.org)

# Carregando os dados do arquivo CSV
banco_mundial = pd.read_csv('dados/databank-worldbank-org.csv', na_values='..')

# Excluindo as colunas que não são relevantes
banco_mundial.drop(['Country Name', 'Series Code'], axis=1, inplace=True)

# Renomeando as colunas
novos_nomes = {'Country Code': 'pais_iso_3', 'Series Name': 'serie',
               '2009 [YR2009]': 2009, '2010 [YR2010]': 2010,
               '2011 [YR2011]': 2011, '2012 [YR2012]': 2012,
               '2013 [YR2013]': 2013, '2014 [YR2014]': 2014,
               '2015 [YR2015]': 2015, '2016 [YR2016]': 2016,
               '2017 [YR2017]': 2017, '2018 [YR2018]': 2018,
               '2019 [YR2019]': 2019, '2020 [YR2020]': 2020,
               '2021 [YR2021]': 2021, '2022 [YR2022]': 2022,
               '2023 [YR2023]': 2023}
banco_mundial.rename(columns=novos_nomes, inplace=True)

# Tratando valores faltantes
intervalo = [i for i in range(ano_inicial, ano_final + 1)]

banco_mundial.loc[:, (intervalo)] = \
    banco_mundial.loc[:, (2009, 2010, 2011, 2012, 2013, 2014, 2015,
                          2016, 2017, 2018, 2019, 2020, 2021, 2022,
                          2023)].interpolate(method='linear',
                                             limit_direction='both', axis=1)

# Ajustando o formato do dataframe para junção com os dados de exportação
banco_mundial = banco_mundial.melt(id_vars=['pais_iso_3', 'serie'],
                                   value_vars=intervalo, value_name='valor',
                                   var_name='ano', ignore_index=True)

banco_mundial = banco_mundial.pivot(index=['pais_iso_3', 'ano'],
                                    columns='serie', values='valor')

banco_mundial.reset_index(inplace=True)
banco_mundial.rename_axis(None, axis=1, inplace=True)

# Renomeando as colunas
nome_coluna_consumo_alcool = 'Total alcohol consumption per capita '
nome_coluna_consumo_alcool += '(liters of pure alcohol, projected estimates, '
nome_coluna_consumo_alcool += '15+ years of age)'

novos_nomes = {'GDP (current US$)': 'pib_usd',
               'GDP per capita (current US$)': 'pib_per_capita',
               nome_coluna_consumo_alcool: 'consumo_litros_alcool_per_capita'}
banco_mundial.rename(columns=novos_nomes, inplace=True)

banco_mundial.head()


# Dados do Banco Mundial no dataframe principal (exportacao_analise)

exportacao_analise = pd.merge(exportacao_analise, banco_mundial,
                              left_on=['pais_iso_3', 'ano'],
                              right_on=['pais_iso_3', 'ano'],
                              how='left', suffixes=(False, False))

exportacao_analise.head()


# Incluindo informações de clima da origem (basedosdados.org)

clima_origem = pd.read_csv('dados/basedosdados-org.csv')
display(clima_origem.head())

exportacao_analise = pd.merge(exportacao_analise, clima_origem,
                              left_on='ano', right_on='ano',
                              how='left')
display(exportacao_analise.head())


# Organizando o dataframe completo

exportacao_analise = exportacao_analise[['pais_iso_2', 'pais_iso_3', 'pais',
                                         'ano', 'pib_usd', 'pib_per_capita',
                                         'consumo_litros_alcool_per_capita',
                                         'qtd_litros', 'vlr_usd', 'usd_por_litro',
                                         'origem_iso_2', 'origem_iso_3',
                                         'origem', 'conv_brl_usd',
                                         'precipitacao', 'temperatura']]

exportacao_analise.sort_values(['pais_iso_2', 'ano'], ignore_index=True,
                               inplace=True)

exportacao_analise.to_csv(f'dados/export-vinho-{ano_inicial}-{ano_final}.csv',
                          index=False)

exportacao_analise.head()


# Exportação dos dados resumidos

exportacao_resumida = exportacao_analise[['origem', 'pais', 'ano',
                                          'qtd_litros', 'vlr_usd']].copy()

arquivo_resumo = f'dados/resumo-export-vinho-{ano_inicial}-{ano_final}.csv'
exportacao_resumida.to_csv(arquivo_resumo, index=False)











exportacao_analise.head()





# Estatistica descritiva dos dados
exportacao_analise[['pib_usd', 'pib_per_capita',
                    'consumo_litros_alcool_per_capita', 'qtd_litros',
                    'vlr_usd', 'conv_brl_usd', 'precipitacao',
                    'temperatura']].describe()


# Evolução da exportação total
export_data = exportacao_analise.groupby('ano')['vlr_usd'].sum().reset_index()\
                                .copy()
export_data['vlr_usd'] = export_data['vlr_usd']/1_000_000

plt.figure(figsize=(12, 6))

sns.lineplot(data=export_data, x='ano', y='vlr_usd', marker='o')

for i in range(export_data.shape[0]):
    plt.text(export_data['ano'][i], export_data['vlr_usd'][i],
             f'{export_data["vlr_usd"][i]:.2f}',
             ha='center', va='bottom')

plt.title('Evolução da exportação total')
plt.xlabel('Ano')
plt.ylabel('Valor (Milhões de US$)')
plt.ylim(0)
plt.grid(True, which='both', linestyle='--', linewidth=0.5)
plt.show()





# Exportação total por país
exp_total_pais = exportacao_analise.groupby('pais')[['qtd_litros', 'vlr_usd']]\
                                   .sum().reset_index().copy()

exp_total_pais


# Indicadores médios por país
ind_medio_pais = exportacao_analise\
                 .groupby('pais')[['pib_usd',
                                   'pib_per_capita',
                                   'consumo_litros_alcool_per_capita']]\
                 .mean().reset_index().copy()

ind_medio_pais


# Evolução da exportação total por país
export_data_pais = exportacao_analise.groupby(['pais', 'ano'])['vlr_usd']\
                                     .sum().reset_index().copy()
export_data_pais['vlr_usd'] = export_data_pais['vlr_usd']/1_000_000
export_data_pais.sort_values('vlr_usd', ascending=False, inplace=True)

plt.figure(figsize=(12, 6))

sns.lineplot(data=export_data_pais, x='ano', y='vlr_usd', hue='pais',
             marker='o')

plt.title('Evolução da exportação total por país')
plt.xlabel('Ano')
plt.ylabel('Valor (Milhões de US$)')
plt.grid(True, which='both', linestyle='--', linewidth=0.5)
plt.legend(bbox_to_anchor=(1.05, 1), loc='upper left', borderaxespad=0.)
plt.show()





# Exportação total por país
exp_tot_pais_data = exp_total_pais[['pais', 'qtd_litros']].copy()
exp_tot_pais_data['qtd_litros'] = exp_tot_pais_data['qtd_litros']/1_000_000
exp_tot_pais_data.sort_values('qtd_litros', ascending=False, inplace=True)

plt.figure(figsize=(12, 6))

palette = sns.color_palette('Blues', n_colors=13)
palette.reverse()

ax = sns.barplot(data=exp_tot_pais_data, y='pais', x='qtd_litros',
                 palette=palette, hue='pais', legend=False)

# Adicionando os valores nas barras
for container in ax.containers:
    ax.bar_label(container, fmt='%.2f', label_type='edge')

plt.title('Exportação total por país')
plt.xlabel('Milhões de Litros')
plt.ylabel('País')
plt.grid(True, which='both', linestyle='--', linewidth=0.5)
plt.show()





# Matriz de correlação
matriz_correlacao = exportacao_analise[['pib_usd', 'pib_per_capita',
                                        'consumo_litros_alcool_per_capita',
                                        'qtd_litros', 'vlr_usd',
                                        'usd_por_litro', 'conv_brl_usd',
                                        'precipitacao', 'temperatura']].corr()

sns.heatmap(matriz_correlacao, cmap='Blues', annot=True)
plt.show()


# Distribuição dos dados relacionadas ao câmbio

cols_selecionadas = exportacao_analise[['conv_brl_usd', 'usd_por_litro',
                                        'qtd_litros']]

sns.pairplot(cols_selecionadas)

plt.suptitle('Distribuição dos dados relacionadas ao câmbio', y=1.02)
plt.show()


# Distribuição dos dados relacionadas ao clima

cols_selecionadas = exportacao_analise[['precipitacao', 'temperatura',
                                        'qtd_litros']]

sns.pairplot(cols_selecionadas)

plt.suptitle('Distribuição dos dados relacionadas ao clima', y=1.02)
plt.show()



